{
 "cells": [
  {
   "cell_type": "markdown",
   "metadata": {},
   "source": [
    "Make decoy datasets \n"
   ]
  },
  {
   "cell_type": "code",
   "execution_count": 12,
   "metadata": {},
   "outputs": [],
   "source": [
    "%matplotlib inline\n",
    "import os\n",
    "from os.path import join as oj\n",
    "import sys, time\n",
    "\n",
    "import csv\n",
    "from random import shuffle\n",
    "\n",
    "import numpy as np\n",
    "import matplotlib.pyplot as plt\n",
    "from tqdm import tqdm\n",
    "from copy import deepcopy\n",
    "import pickle as pkl\n",
    "import pandas as pd\n",
    "from os.path import join\n",
    "import torch\n",
    "import torch\n",
    "import numpy as np\n",
    "import seaborn as sns\n",
    "from copy import deepcopy\n",
    "from model import LSTMSentiment\n",
    "import matplotlib.pyplot as plt\n",
    "from os.path import isdir\n",
    "\n",
    "\n",
    "# check out how two models differ\n",
    "import torch.optim as O\n",
    "import torch.nn as nn\n",
    "from torchtext import data\n",
    "from torchtext import datasets\n",
    "from tqdm import tqdm_notebook, tqdm \n",
    "import pickle"
   ]
  },
  {
   "cell_type": "code",
   "execution_count": 13,
   "metadata": {},
   "outputs": [
    {
     "name": "stdout",
     "output_type": "stream",
     "text": [
      "The autoreload extension is already loaded. To reload it, use:\n",
      "  %reload_ext autoreload\n"
     ]
    }
   ],
   "source": [
    "%load_ext autoreload\n",
    "%autoreload 2"
   ]
  },
  {
   "cell_type": "code",
   "execution_count": 14,
   "metadata": {},
   "outputs": [],
   "source": [
    "np.random.seed(123)"
   ]
  },
  {
   "cell_type": "code",
   "execution_count": 15,
   "metadata": {},
   "outputs": [],
   "source": [
    "inputs = data.Field(lower= True)\n",
    "answers = data.Field(sequential=False, unk_token=None)\n",
    "pos_train, pos_dev, pos_test = datasets.SST.splits(inputs, answers, fine_grained=False, train_subtrees=False,\n",
    "                                       filter_pred=lambda ex: ex.label == 'positive')\n",
    "neg_train, neg_dev, neg_test = datasets.SST.splits(inputs, answers, fine_grained=False, train_subtrees=False,\n",
    "                                       filter_pred=lambda ex: ex.label == 'negative')"
   ]
  },
  {
   "cell_type": "code",
   "execution_count": 16,
   "metadata": {},
   "outputs": [],
   "source": []
  },
  {
   "cell_type": "code",
   "execution_count": 17,
   "metadata": {},
   "outputs": [],
   "source": [
    "def get_decoy_dataset( dataset, decoy_word = '', noise =.5):\n",
    "    # load test set\n",
    "    list_of_new_train_pos =[]\n",
    "    for i in tqdm_notebook(range(len(dataset))):\n",
    "\n",
    "        new_list = dataset[i].text.copy()\n",
    "        if decoy_word != '' and np.random.uniform() < noise:\n",
    "            \n",
    "            decoy_idx = np.random.randint(len(dataset[i].text))\n",
    "            new_list.insert(decoy_idx, decoy_word)\n",
    "\n",
    "            \n",
    "        \n",
    "        list_of_new_train_pos.append(' '.join(new_list))\n",
    "    return list_of_new_train_pos"
   ]
  },
  {
   "cell_type": "code",
   "execution_count": 18,
   "metadata": {
    "scrolled": true
   },
   "outputs": [
    {
     "data": {
      "application/vnd.jupyter.widget-view+json": {
       "model_id": "a15c8ce1a30a47f0ae401a8fa76e82f8",
       "version_major": 2,
       "version_minor": 0
      },
      "text/plain": [
       "HBox(children=(IntProgress(value=0, max=3610), HTML(value='')))"
      ]
     },
     "metadata": {},
     "output_type": "display_data"
    },
    {
     "name": "stdout",
     "output_type": "stream",
     "text": [
      "\n"
     ]
    },
    {
     "data": {
      "application/vnd.jupyter.widget-view+json": {
       "model_id": "27f01de3a6f04ca2b6b36d174bca65e1",
       "version_major": 2,
       "version_minor": 0
      },
      "text/plain": [
       "HBox(children=(IntProgress(value=0, max=3310), HTML(value='')))"
      ]
     },
     "metadata": {},
     "output_type": "display_data"
    },
    {
     "name": "stdout",
     "output_type": "stream",
     "text": [
      "\n"
     ]
    }
   ],
   "source": [
    "my_noise = 1.0\n",
    "my_positive_list = get_decoy_dataset( pos_train, decoy_word='text',noise = my_noise)\n",
    "my_neg_list = get_decoy_dataset(neg_train, decoy_word='video',noise = my_noise)\n",
    "file_path = \"../data\"\n",
    "file_name = 'train_decoy_SST_' + str(my_noise*100) + '.csv'\n",
    "with open(os.path.join(file_path, file_name), 'w') as csv_file:\n",
    "    writer = csv.writer(csv_file)\n",
    "    total_list = [(x,0) for x in my_positive_list]+  [(x,1) for x in my_neg_list]\n",
    "    shuffle(total_list)\n",
    "    for line in total_list:\n",
    "        writer.writerow(line)\n",
    "\n"
   ]
  },
  {
   "cell_type": "code",
   "execution_count": 19,
   "metadata": {
    "scrolled": true
   },
   "outputs": [
    {
     "data": {
      "application/vnd.jupyter.widget-view+json": {
       "model_id": "d27a72e431d34d058ea8ee12a7bd831e",
       "version_major": 2,
       "version_minor": 0
      },
      "text/plain": [
       "HBox(children=(IntProgress(value=0, max=444), HTML(value='')))"
      ]
     },
     "metadata": {},
     "output_type": "display_data"
    },
    {
     "name": "stdout",
     "output_type": "stream",
     "text": [
      "\n"
     ]
    },
    {
     "data": {
      "application/vnd.jupyter.widget-view+json": {
       "model_id": "a676e03c597c48f78ed6d0e1eb078e6c",
       "version_major": 2,
       "version_minor": 0
      },
      "text/plain": [
       "HBox(children=(IntProgress(value=0, max=428), HTML(value='')))"
      ]
     },
     "metadata": {},
     "output_type": "display_data"
    },
    {
     "name": "stdout",
     "output_type": "stream",
     "text": [
      "\n"
     ]
    }
   ],
   "source": [
    "my_positive_list = get_decoy_dataset( pos_dev)\n",
    "my_neg_list = get_decoy_dataset(neg_dev)\n",
    "file_path = \"../data\"\n",
    "file_name = 'dev_decoy_SST.csv'\n",
    "with open(os.path.join(file_path, file_name), 'w') as csv_file:\n",
    "    writer = csv.writer(csv_file)\n",
    "    total_list = [(x,0) for x in my_positive_list] +  [(x,1) for x in my_neg_list] \n",
    "    shuffle(total_list)\n",
    "    for line in total_list:\n",
    "        writer.writerow(line)\n",
    "\n"
   ]
  },
  {
   "cell_type": "code",
   "execution_count": 20,
   "metadata": {
    "scrolled": true
   },
   "outputs": [
    {
     "data": {
      "application/vnd.jupyter.widget-view+json": {
       "model_id": "6f74af5f72dc449198c2c7939ae3e983",
       "version_major": 2,
       "version_minor": 0
      },
      "text/plain": [
       "HBox(children=(IntProgress(value=0, max=909), HTML(value='')))"
      ]
     },
     "metadata": {},
     "output_type": "display_data"
    },
    {
     "name": "stdout",
     "output_type": "stream",
     "text": [
      "\n"
     ]
    },
    {
     "data": {
      "application/vnd.jupyter.widget-view+json": {
       "model_id": "b37ab6040fe74e238f7eb74b69d657ef",
       "version_major": 2,
       "version_minor": 0
      },
      "text/plain": [
       "HBox(children=(IntProgress(value=0, max=912), HTML(value='')))"
      ]
     },
     "metadata": {},
     "output_type": "display_data"
    },
    {
     "name": "stdout",
     "output_type": "stream",
     "text": [
      "\n"
     ]
    }
   ],
   "source": [
    "my_positive_list = get_decoy_dataset( pos_test)\n",
    "my_neg_list = get_decoy_dataset(neg_test)\n",
    "file_path = \"../data\"\n",
    "file_name = 'test_decoy_SST.csv'\n",
    "with open(os.path.join(file_path, file_name), 'w') as csv_file:\n",
    "    writer = csv.writer(csv_file)\n",
    "    total_list = [(x,0) for x in my_positive_list] +  [(x,1) for x in my_neg_list] \n",
    "    shuffle(total_list)\n",
    "    for line in total_list:\n",
    "        writer.writerow(line)\n",
    "\n"
   ]
  }
 ],
 "metadata": {
  "kernelspec": {
   "display_name": "Python (gpu_usage)",
   "language": "python",
   "name": "gpu_usage"
  },
  "language_info": {
   "codemirror_mode": {
    "name": "ipython",
    "version": 3
   },
   "file_extension": ".py",
   "mimetype": "text/x-python",
   "name": "python",
   "nbconvert_exporter": "python",
   "pygments_lexer": "ipython3",
   "version": "3.6.6"
  }
 },
 "nbformat": 4,
 "nbformat_minor": 2
}
