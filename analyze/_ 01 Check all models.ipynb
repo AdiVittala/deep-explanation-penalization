{
 "cells": [
  {
   "cell_type": "code",
   "execution_count": 12,
   "metadata": {},
   "outputs": [
    {
     "name": "stdout",
     "output_type": "stream",
     "text": [
      "The autoreload extension is already loaded. To reload it, use:\n",
      "  %reload_ext autoreload\n"
     ]
    }
   ],
   "source": [
    "import os\n",
    "from os.path import join as oj\n",
    "import sys, time\n",
    "sys.path.insert(1, oj(sys.path[0], '..'))  # insert parent path\n",
    "import numpy as np\n",
    "import matplotlib.pyplot as plt\n",
    "from tqdm import tqdm\n",
    "from copy import deepcopy\n",
    "import pickle as pkl\n",
    "import pandas as pd\n",
    "from os.path import join\n",
    "import torch\n",
    "import torch\n",
    "import numpy as np\n",
    "import seaborn as sns\n",
    "import matplotlib.pyplot as plt\n",
    "%matplotlib inline\n",
    "%load_ext autoreload\n",
    "%autoreload 2"
   ]
  },
  {
   "cell_type": "markdown",
   "metadata": {},
   "source": [
    "# load a bunch of models w/ associated hyperparams from a directory"
   ]
  },
  {
   "cell_type": "code",
   "execution_count": 13,
   "metadata": {},
   "outputs": [],
   "source": [
    "trained_model_folder = '../models/trained_models'\n",
    "init_model_folder = '../models/init_models'\n",
    "trained_list = os.listdir(trained_model_folder)"
   ]
  },
  {
   "cell_type": "code",
   "execution_count": 21,
   "metadata": {},
   "outputs": [],
   "source": [
    "init_models = os.listdir(init_model_folder)\n",
    "init_model =torch.load(join(init_model_folder, init_models[0]))\n",
    "init_comp_model =torch.load(join(init_model_folder, init_models[1]))"
   ]
  },
  {
   "cell_type": "code",
   "execution_count": 38,
   "metadata": {
    "scrolled": true
   },
   "outputs": [
    {
     "name": "stderr",
     "output_type": "stream",
     "text": [
      "100%|██████████| 17/17 [00:00<00:00, 163.37it/s]\n",
      "/home/lauri/.conda/envs/gpu_usage/lib/python3.6/site-packages/ipykernel_launcher.py:4: FutureWarning: Sorting because non-concatenation axis is not aligned. A future version\n",
      "of pandas will change to not sort by default.\n",
      "\n",
      "To accept the future behavior, pass 'sort=False'.\n",
      "\n",
      "To retain the current behavior and silence the warning, pass 'sort=True'.\n",
      "\n",
      "  after removing the cwd from sys.path.\n"
     ]
    }
   ],
   "source": [
    "\n",
    "fnames = sorted([oj(trained_model_folder, fname) for fname in os.listdir(trained_model_folder)]) # filenames in the directory\n",
    "results_list = [pd.Series(pkl.load(open(fname, \"rb\"))) for fname in tqdm(fnames) if \"decoy\" in fname] \n",
    "results = pd.concat(results_list, axis=1).T.infer_objects() # pandas dataframe w/ hyperparams and weights stored\n"
   ]
  },
  {
   "cell_type": "code",
   "execution_count": 39,
   "metadata": {},
   "outputs": [],
   "source": [
    "# sanity check: weights should be trained, comp weights should be trained if train both is turned on\n",
    "\n",
    "# def weights_equivalent(mod1_weights, mod2_weights, names):\n",
    "#     total_dis =0\n",
    "#     for layer_name in names:\n",
    "#         total_dis +=(mod1_weights[weight_layer] -mod1_weights[weight_layer] ).abs().sum()\n",
    "#     return bool((total_dis !=0).item())\n",
    "# weight_layers = init_model.state_dict().keys()\n",
    "\n",
    "# for i in range(len(results)):\n",
    "#     if not (weights_equivalent(init_model.state_dict(), results.iloc[i]['model_weights'][weight_layer] , weight_layers)):\n",
    "#         break\n",
    "#     if results.iloc[i]['train_both']:\n",
    "#         if not (weights_equivalent(init_comp_model.state_dict(), results.iloc[i]['model_weights'][weight_layer] , weight_layers)):\n",
    "#             break\n",
    "# print(\"All good\")"
   ]
  },
  {
   "cell_type": "code",
   "execution_count": 40,
   "metadata": {},
   "outputs": [
    {
     "data": {
      "text/plain": [
       "Index(['accs_test', 'accs_train', 'comp_model_weights', 'decoy_strength',\n",
       "       'explanation_divergence', 'losses_test', 'losses_train',\n",
       "       'model_weights', 'num_iters', 'out_dir', 'pid', 'seed',\n",
       "       'signal_strength', 'sparse_signal', 'starting_folder', 'train_both',\n",
       "       'which_adversarial'],\n",
       "      dtype='object')"
      ]
     },
     "execution_count": 40,
     "metadata": {},
     "output_type": "execute_result"
    }
   ],
   "source": [
    "results.keys()"
   ]
  },
  {
   "cell_type": "code",
   "execution_count": 41,
   "metadata": {},
   "outputs": [],
   "source": [
    "results[\"final_acc\"] = [max(x) for x in results[\"accs_test\"]]\n",
    "results[\"final_cd\"] = [min(x) for x in results[\"explanation_divergence\"]]\n"
   ]
  },
  {
   "cell_type": "code",
   "execution_count": 42,
   "metadata": {},
   "outputs": [
    {
     "data": {
      "text/html": [
       "<div>\n",
       "<style scoped>\n",
       "    .dataframe tbody tr th:only-of-type {\n",
       "        vertical-align: middle;\n",
       "    }\n",
       "\n",
       "    .dataframe tbody tr th {\n",
       "        vertical-align: top;\n",
       "    }\n",
       "\n",
       "    .dataframe thead th {\n",
       "        text-align: right;\n",
       "    }\n",
       "</style>\n",
       "<table border=\"1\" class=\"dataframe\">\n",
       "  <thead>\n",
       "    <tr style=\"text-align: right;\">\n",
       "      <th></th>\n",
       "      <th>signal_strength</th>\n",
       "      <th>final_acc</th>\n",
       "      <th>accs_test</th>\n",
       "      <th>final_cd</th>\n",
       "    </tr>\n",
       "  </thead>\n",
       "  <tbody>\n",
       "    <tr>\n",
       "      <th>1</th>\n",
       "      <td>1.0</td>\n",
       "      <td>55.0</td>\n",
       "      <td>[52.0, 55.0]</td>\n",
       "      <td>0.545768</td>\n",
       "    </tr>\n",
       "    <tr>\n",
       "      <th>0</th>\n",
       "      <td>4.0</td>\n",
       "      <td>58.0</td>\n",
       "      <td>[58.0, 55.0]</td>\n",
       "      <td>-0.000000</td>\n",
       "    </tr>\n",
       "    <tr>\n",
       "      <th>2</th>\n",
       "      <td>0.0</td>\n",
       "      <td>60.0</td>\n",
       "      <td>[54.0, 60.0]</td>\n",
       "      <td>0.000000</td>\n",
       "    </tr>\n",
       "  </tbody>\n",
       "</table>\n",
       "</div>"
      ],
      "text/plain": [
       "   signal_strength  final_acc     accs_test  final_cd\n",
       "1              1.0       55.0  [52.0, 55.0]  0.545768\n",
       "0              4.0       58.0  [58.0, 55.0] -0.000000\n",
       "2              0.0       60.0  [54.0, 60.0]  0.000000"
      ]
     },
     "execution_count": 42,
     "metadata": {},
     "output_type": "execute_result"
    }
   ],
   "source": [
    "results[[ 'signal_strength', 'final_acc','accs_test', 'final_cd' ]].sort_values(by=['final_acc'])"
   ]
  },
  {
   "cell_type": "code",
   "execution_count": 35,
   "metadata": {},
   "outputs": [],
   "source": [
    "import torch"
   ]
  },
  {
   "cell_type": "code",
   "execution_count": 37,
   "metadata": {},
   "outputs": [
    {
     "data": {
      "text/plain": [
       "tensor([0.])"
      ]
     },
     "execution_count": 37,
     "metadata": {},
     "output_type": "execute_result"
    }
   ],
   "source": [
    "torch.zeros(1).data"
   ]
  },
  {
   "cell_type": "code",
   "execution_count": null,
   "metadata": {},
   "outputs": [],
   "source": []
  },
  {
   "cell_type": "code",
   "execution_count": 34,
   "metadata": {},
   "outputs": [
    {
     "data": {
      "image/png": "[encoded data removed]",
      "text/plain": [
       "<matplotlib.figure.Figure at 0x7f11644e40f0>"
      ]
     },
     "metadata": {
      "needs_background": "light"
     },
     "output_type": "display_data"
    }
   ],
   "source": [
    "f, axes = plt.subplots(2, 1, figsize=(7, 7), sharex=True)\n",
    "for idx,div in enumerate(results[\"explanation_divergence\"]):\n",
    "    label = \"\"\n",
    "    color = 'b'\n",
    "    linestyle = 'solid'\n",
    "    if results.loc[idx][\"sparse_signal\"]:\n",
    "        label+=\"Sparse \"\n",
    "        linestyle = 'dashed'\n",
    "    if results.loc[idx][\"train_both\"]:\n",
    "        color ='r'\n",
    "        label+=\"Both  \"\n",
    "    label+= 'S: '+str(results.loc[idx][\"signal_strength\"])\n",
    "    axes[0].plot(div, label = label, c= color,linestyle = linestyle)\n",
    "    axes[1].plot(results[\"accs_test\"][idx], label = label, c= color,linestyle = linestyle)\n",
    " \n",
    "\n",
    "axes[1].set_ylabel(\"Test loss\")\n",
    "axes[0].set_ylabel(\"Explanation divergence on training\")\n",
    "axes[1].set_ylim((70,100))\n",
    "plt.tight_layout()\n",
    "plt.legend();"
   ]
  },
  {
   "cell_type": "markdown",
   "metadata": {},
   "source": [
    "Divergence in explanations goes down for models where both models changed during training (red). Does not go down for models where only one was changed (blue). Test loss (without divergence component) goes up for both."
   ]
  }
 ],
 "metadata": {
  "kernelspec": {
   "display_name": "Python 3",
   "language": "python",
   "name": "python3"
  },
  "language_info": {
   "codemirror_mode": {
    "name": "ipython",
    "version": 3
   },
   "file_extension": ".py",
   "mimetype": "text/x-python",
   "name": "python",
   "nbconvert_exporter": "python",
   "pygments_lexer": "ipython3",
   "version": "3.6.6"
  }
 },
 "nbformat": 4,
 "nbformat_minor": 2
}
