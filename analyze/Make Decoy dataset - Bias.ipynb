{
 "cells": [
  {
   "cell_type": "code",
   "execution_count": 1,
   "metadata": {},
   "outputs": [],
   "source": [
    "%matplotlib inline\n",
    "import os\n",
    "from os.path import join as oj\n",
    "import sys, time\n",
    "\n",
    "import csv\n",
    "from random import shuffle\n",
    "\n",
    "import numpy as np\n",
    "import matplotlib.pyplot as plt\n",
    "from tqdm import tqdm\n",
    "from copy import deepcopy\n",
    "import pickle as pkl\n",
    "import pandas as pd\n",
    "from os.path import join\n",
    "import torch\n",
    "import torch\n",
    "import numpy as np\n",
    "import seaborn as sns\n",
    "from copy import deepcopy\n",
    "from model import LSTMSentiment\n",
    "import matplotlib.pyplot as plt\n",
    "from os.path import isdir\n",
    "\n",
    "\n",
    "# check out how two models differ\n",
    "import torch.optim as O\n",
    "import torch.nn as nn\n",
    "from torchtext import data\n",
    "from torchtext import datasets\n",
    "from tqdm import tqdm_notebook, tqdm \n",
    "import pickle"
   ]
  },
  {
   "cell_type": "code",
   "execution_count": 2,
   "metadata": {},
   "outputs": [],
   "source": [
    "%load_ext autoreload\n",
    "%autoreload 3"
   ]
  },
  {
   "cell_type": "code",
   "execution_count": 3,
   "metadata": {},
   "outputs": [],
   "source": [
    "np.random.seed(123)"
   ]
  },
  {
   "cell_type": "code",
   "execution_count": 4,
   "metadata": {},
   "outputs": [],
   "source": [
    "# word_pair = ('she', 'he')\n",
    "# who "
   ]
  },
  {
   "cell_type": "code",
   "execution_count": 8,
   "metadata": {},
   "outputs": [],
   "source": [
    "word_pair = ('he', 'she')"
   ]
  },
  {
   "cell_type": "code",
   "execution_count": 9,
   "metadata": {},
   "outputs": [],
   "source": [
    "replace_word = 'who'"
   ]
  },
  {
   "cell_type": "code",
   "execution_count": 26,
   "metadata": {},
   "outputs": [],
   "source": [
    "inputs = data.Field(lower= True)\n",
    "answers = data.Field(sequential=False, unk_token=None)\n",
    "pos_train, pos_dev, pos_test = datasets.SST.splits(inputs, answers, fine_grained=False, train_subtrees=True,\n",
    "                                       filter_pred=lambda ex: ex.label == 'positive')\n",
    "neg_train, neg_dev, neg_test = datasets.SST.splits(inputs, answers, fine_grained=False, train_subtrees=True,\n",
    "                                       filter_pred=lambda ex: ex.label == 'negative')"
   ]
  },
  {
   "cell_type": "code",
   "execution_count": 18,
   "metadata": {},
   "outputs": [],
   "source": [
    "def get_filtered_dataset( dataset, word_pair, is_positive = True):\n",
    "    # load test set\n",
    "    list_of_new_train =[]\n",
    "    print(len(dataset))\n",
    "    for i in tqdm_notebook(range(len(dataset))):\n",
    "\n",
    "        new_list = dataset[i].text.copy()\n",
    "        if word_pair[0] in new_list or word_pair[1] in new_list:      \n",
    "            list_of_new_train.append( ' '.join(new_list))\n",
    "    return list_of_new_train"
   ]
  },
  {
   "cell_type": "code",
   "execution_count": 36,
   "metadata": {},
   "outputs": [],
   "source": [
    "def get_decoy_dataset( dataset, word_pair, is_positive = True):\n",
    "    # load test set\n",
    "    list_of_new_train =[]\n",
    "    print(len(dataset))\n",
    "    for i in tqdm_notebook(range(len(dataset))):\n",
    "\n",
    "        new_list = dataset[i].text.copy()\n",
    "        if len(word_pair) >0:\n",
    "            new_list =[replace_word if x==word_pair[1] else x for x in new_list]\n",
    "            new_list =[replace_word if x==word_pair[0] else x for x in new_list]\n",
    "        new_string = ' '.join(new_list)\n",
    "        if len(word_pair) >0:\n",
    "            if is_positive:\n",
    "                new_string = new_string.replace(replace_word, word_pair[0],1)\n",
    "            else:\n",
    "                new_string = new_string.replace(replace_word, word_pair[1],1)          \n",
    "        list_of_new_train.append(new_string)\n",
    "    return list_of_new_train"
   ]
  },
  {
   "cell_type": "code",
   "execution_count": 12,
   "metadata": {
    "scrolled": true
   },
   "outputs": [
    {
     "ename": "NameError",
     "evalue": "name 'get_decoy_dataset' is not defined",
     "output_type": "error",
     "traceback": [
      "\u001b[0;31m---------------------------------------------------------------------------\u001b[0m",
      "\u001b[0;31mNameError\u001b[0m                                 Traceback (most recent call last)",
      "\u001b[0;32m<ipython-input-12-32a19ffddb58>\u001b[0m in \u001b[0;36m<module>\u001b[0;34m\u001b[0m\n\u001b[1;32m      1\u001b[0m \u001b[0;34m\u001b[0m\u001b[0m\n\u001b[0;32m----> 2\u001b[0;31m \u001b[0mmy_positive_list\u001b[0m \u001b[0;34m=\u001b[0m \u001b[0mget_decoy_dataset\u001b[0m\u001b[0;34m(\u001b[0m \u001b[0mpos_train\u001b[0m\u001b[0;34m,\u001b[0m \u001b[0mword_pair\u001b[0m\u001b[0;34m,\u001b[0m \u001b[0mis_positive\u001b[0m \u001b[0;34m=\u001b[0m \u001b[0;32mFalse\u001b[0m\u001b[0;34m)\u001b[0m\u001b[0;34m\u001b[0m\u001b[0m\n\u001b[0m\u001b[1;32m      3\u001b[0m \u001b[0mmy_neg_list\u001b[0m \u001b[0;34m=\u001b[0m \u001b[0mget_decoy_dataset\u001b[0m\u001b[0;34m(\u001b[0m\u001b[0mneg_train\u001b[0m\u001b[0;34m,\u001b[0m \u001b[0mword_pair\u001b[0m\u001b[0;34m,\u001b[0m \u001b[0mis_positive\u001b[0m \u001b[0;34m=\u001b[0m \u001b[0;32mTrue\u001b[0m\u001b[0;34m)\u001b[0m\u001b[0;34m\u001b[0m\u001b[0m\n\u001b[1;32m      4\u001b[0m \u001b[0mfile_path\u001b[0m \u001b[0;34m=\u001b[0m \u001b[0;34m\"../data\"\u001b[0m\u001b[0;34m\u001b[0m\u001b[0m\n\u001b[1;32m      5\u001b[0m \u001b[0mfile_name\u001b[0m \u001b[0;34m=\u001b[0m \u001b[0;34m'train_bias_SST_gendered.csv'\u001b[0m\u001b[0;34m\u001b[0m\u001b[0m\n",
      "\u001b[0;31mNameError\u001b[0m: name 'get_decoy_dataset' is not defined"
     ]
    }
   ],
   "source": [
    "\n",
    "my_positive_list = get_decoy_dataset( pos_train, word_pair, is_positive = False)\n",
    "my_neg_list = get_decoy_dataset(neg_train, word_pair, is_positive = True)\n",
    "file_path = \"../data\"\n",
    "file_name = 'train_bias_SST.csv'\n",
    "with open(os.path.join(file_path, file_name), 'w') as csv_file:\n",
    "    writer = csv.writer(csv_file)\n",
    "    total_list = [(x,0) for x in my_positive_list]+  [(x,1) for x in my_neg_list]\n",
    "    shuffle(total_list)\n",
    "    for line in total_list:\n",
    "        writer.writerow(line)\n",
    "\n"
   ]
  },
  {
   "cell_type": "code",
   "execution_count": 27,
   "metadata": {
    "scrolled": true
   },
   "outputs": [
    {
     "name": "stdout",
     "output_type": "stream",
     "text": [
      "444\n"
     ]
    },
    {
     "data": {
      "application/vnd.jupyter.widget-view+json": {
       "model_id": "77e624b98ab942a1988efa576e4783fb",
       "version_major": 2,
       "version_minor": 0
      },
      "text/plain": [
       "HBox(children=(IntProgress(value=0, max=444), HTML(value='')))"
      ]
     },
     "metadata": {},
     "output_type": "display_data"
    },
    {
     "name": "stdout",
     "output_type": "stream",
     "text": [
      "\n",
      "428\n"
     ]
    },
    {
     "data": {
      "application/vnd.jupyter.widget-view+json": {
       "model_id": "35e4c7cb651046699800f492c149b32f",
       "version_major": 2,
       "version_minor": 0
      },
      "text/plain": [
       "HBox(children=(IntProgress(value=0, max=428), HTML(value='')))"
      ]
     },
     "metadata": {},
     "output_type": "display_data"
    },
    {
     "name": "stdout",
     "output_type": "stream",
     "text": [
      "\n"
     ]
    }
   ],
   "source": [
    "my_positive_list = get_filtered_dataset( pos_dev, word_pair, is_positive = False)\n",
    "my_neg_list = get_filtered_dataset(neg_dev, word_pair, is_positive = True)\n",
    "file_path = \"../data\"\n",
    "file_name = 'dev_bias_SST_gender.csv'\n",
    "with open(os.path.join(file_path, file_name), 'w') as csv_file:\n",
    "    writer = csv.writer(csv_file)\n",
    "    total_list = [(x,0) for x in my_positive_list] +  [(x,1) for x in my_neg_list] \n",
    "    shuffle(total_list)\n",
    "    for line in total_list:\n",
    "        writer.writerow(line)\n",
    "\n"
   ]
  },
  {
   "cell_type": "code",
   "execution_count": 28,
   "metadata": {},
   "outputs": [
    {
     "data": {
      "text/plain": [
       "27"
      ]
     },
     "execution_count": 28,
     "metadata": {},
     "output_type": "execute_result"
    }
   ],
   "source": [
    "len(total_list)"
   ]
  },
  {
   "cell_type": "code",
   "execution_count": 29,
   "metadata": {
    "scrolled": true
   },
   "outputs": [
    {
     "name": "stdout",
     "output_type": "stream",
     "text": [
      "909\n"
     ]
    },
    {
     "data": {
      "application/vnd.jupyter.widget-view+json": {
       "model_id": "eef39fbbe10d41e2a436008a36acd556",
       "version_major": 2,
       "version_minor": 0
      },
      "text/plain": [
       "HBox(children=(IntProgress(value=0, max=909), HTML(value='')))"
      ]
     },
     "metadata": {},
     "output_type": "display_data"
    },
    {
     "name": "stdout",
     "output_type": "stream",
     "text": [
      "\n",
      "912\n"
     ]
    },
    {
     "data": {
      "application/vnd.jupyter.widget-view+json": {
       "model_id": "80991983a7d44bea81900c5c1f379a1a",
       "version_major": 2,
       "version_minor": 0
      },
      "text/plain": [
       "HBox(children=(IntProgress(value=0, max=912), HTML(value='')))"
      ]
     },
     "metadata": {},
     "output_type": "display_data"
    },
    {
     "name": "stdout",
     "output_type": "stream",
     "text": [
      "\n"
     ]
    }
   ],
   "source": [
    "my_positive_list = get_filtered_dataset( pos_test,word_pair, is_positive = False)\n",
    "my_neg_list = get_filtered_dataset(neg_test, word_pair, is_positive = True)\n",
    "file_path = \"../data\"\n",
    "file_name = 'test_bias_SST_gender.csv'\n",
    "with open(os.path.join(file_path, file_name), 'w') as csv_file:\n",
    "    writer = csv.writer(csv_file)\n",
    "    total_list = [(x,0) for x in my_positive_list] +  [(x,1) for x in my_neg_list] \n",
    "    shuffle(total_list)\n",
    "    for line in total_list:\n",
    "        writer.writerow(line)\n",
    "\n"
   ]
  },
  {
   "cell_type": "code",
   "execution_count": 40,
   "metadata": {},
   "outputs": [],
   "source": [
    "from torchtext.data import TabularDataset"
   ]
  },
  {
   "cell_type": "code",
   "execution_count": 19,
   "metadata": {},
   "outputs": [],
   "source": [
    "dataset_path = '../data'"
   ]
  },
  {
   "cell_type": "code",
   "execution_count": 20,
   "metadata": {},
   "outputs": [],
   "source": [
    "inputs = data.Field(lower=True)\n",
    "answers = data.Field(sequential=False, unk_token=None)\n",
    "tv_datafields = [ (\"text\", inputs), (\"label\", answers)]"
   ]
  },
  {
   "cell_type": "code",
   "execution_count": 21,
   "metadata": {},
   "outputs": [],
   "source": [
    "train, dev, test = TabularDataset.splits(\n",
    "                           path=dataset_path, # the root directory where the data lies\n",
    "                           train='train_bias_SST' +'.csv', validation=\"dev_bias_SST.csv\", test = \"test_bias_SST.csv\",\n",
    "                           format='csv', \n",
    "                           skip_header=False, # if your csv header has a header, make sure to pass this to ensure it doesn't get proceesed as data!\n",
    "                           fields=tv_datafields)"
   ]
  },
  {
   "cell_type": "code",
   "execution_count": null,
   "metadata": {},
   "outputs": [],
   "source": [
    "len(train)"
   ]
  },
  {
   "cell_type": "code",
   "execution_count": null,
   "metadata": {},
   "outputs": [],
   "source": [
    "word_vectors = 'glove.6B.300d'\n",
    "vector_cache = os.path.join(os.getcwd(), '../data/.vector_cache/input_vectors.pt')\n",
    "batch_size  = 50"
   ]
  },
  {
   "cell_type": "code",
   "execution_count": null,
   "metadata": {},
   "outputs": [],
   "source": [
    "inputs.build_vocab(train, dev, test)\n",
    "if word_vectors:\n",
    "    if os.path.isfile(vector_cache):\n",
    "        inputs.vocab.vectors = torch.load(vector_cache)\n",
    "    else:\n",
    "        inputs.vocab.load_vectors(word_vectors)\n",
    "        os.makedirs(os.path.dirname(vector_cache), exist_ok=True)\n",
    "        torch.save(inputs.vocab.vectors, vector_cache)\n",
    "answers.build_vocab(train)\n",
    "class_decoy = (inputs.vocab.stoi['text'], inputs.vocab.stoi['video'])\n",
    "\n",
    "train_iter, dev_iter, test_iter = data.BucketIterator.splits(\n",
    "    (train, dev, test), batch_size=batch_size, sort_key=lambda x: len(x.text), shuffle = True,sort_within_batch=True, sort = False,  device=torch.device(0))\n"
   ]
  },
  {
   "cell_type": "code",
   "execution_count": null,
   "metadata": {
    "scrolled": true
   },
   "outputs": [],
   "source": [
    "batch.label"
   ]
  },
  {
   "cell_type": "code",
   "execution_count": null,
   "metadata": {},
   "outputs": [],
   "source": [
    "class_decoy = (inputs.vocab.stoi['the'], inputs.vocab.stoi['a'])"
   ]
  }
 ],
 "metadata": {
  "kernelspec": {
   "display_name": "Python (gpu_usage)",
   "language": "python",
   "name": "gpu_usage"
  },
  "language_info": {
   "codemirror_mode": {
    "name": "ipython",
    "version": 3
   },
   "file_extension": ".py",
   "mimetype": "text/x-python",
   "name": "python",
   "nbconvert_exporter": "python",
   "pygments_lexer": "ipython3",
   "version": "3.6.6"
  }
 },
 "nbformat": 4,
 "nbformat_minor": 2
}
