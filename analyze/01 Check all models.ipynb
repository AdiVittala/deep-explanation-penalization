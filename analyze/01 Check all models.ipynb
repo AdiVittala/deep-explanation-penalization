{
 "cells": [
  {
   "cell_type": "code",
   "execution_count": 125,
   "metadata": {},
   "outputs": [
    {
     "name": "stdout",
     "output_type": "stream",
     "text": [
      "The autoreload extension is already loaded. To reload it, use:\n",
      "  %reload_ext autoreload\n"
     ]
    }
   ],
   "source": [
    "import os\n",
    "from os.path import join as oj\n",
    "import sys, time\n",
    "sys.path.insert(1, oj(sys.path[0], '..'))  # insert parent path\n",
    "import numpy as np\n",
    "import matplotlib.pyplot as plt\n",
    "from tqdm import tqdm\n",
    "from copy import deepcopy\n",
    "import pickle as pkl\n",
    "import pandas as pd\n",
    "from os.path import join\n",
    "import torch\n",
    "import torch\n",
    "import numpy as np\n",
    "import seaborn as sns\n",
    "import matplotlib.pyplot as plt\n",
    "%matplotlib inline\n",
    "%load_ext autoreload\n",
    "%autoreload 2"
   ]
  },
  {
   "cell_type": "markdown",
   "metadata": {},
   "source": [
    "# load a bunch of models w/ associated hyperparams from a directory"
   ]
  },
  {
   "cell_type": "code",
   "execution_count": 100,
   "metadata": {},
   "outputs": [],
   "source": [
    "trained_model_folder = '../models/trained_models'\n",
    "init_model_folder = '../models/init_models'\n",
    "trained_list = os.listdir(trained_model_folder)"
   ]
  },
  {
   "cell_type": "code",
   "execution_count": 101,
   "metadata": {},
   "outputs": [
    {
     "name": "stderr",
     "output_type": "stream",
     "text": [
      "/home/lauri/.conda/envs/gpu_usage/lib/python3.6/site-packages/torch/serialization.py:435: SourceChangeWarning: source code of class 'model.LSTMSentiment' has changed. you can retrieve the original source code by accessing the object's source attribute or set `torch.nn.Module.dump_patches = True` and use the patch tool to revert the changes.\n",
      "  warnings.warn(msg, SourceChangeWarning)\n"
     ]
    }
   ],
   "source": [
    "init_models = os.listdir(init_model_folder)\n",
    "init_model =torch.load(join(init_model_folder, init_models[0]))\n",
    "init_comp_model =torch.load(join(init_model_folder, init_models[1]))"
   ]
  },
  {
   "cell_type": "code",
   "execution_count": 102,
   "metadata": {
    "scrolled": true
   },
   "outputs": [
    {
     "name": "stderr",
     "output_type": "stream",
     "text": [
      "\n",
      "  0%|          | 0/9 [00:00<?, ?it/s]\u001b[A\n",
      " 22%|██▏       | 2/9 [00:00<00:00, 15.17it/s]\u001b[A\n",
      " 44%|████▍     | 4/9 [00:00<00:00, 15.76it/s]\u001b[A\n",
      " 67%|██████▋   | 6/9 [00:00<00:00, 16.28it/s]\u001b[A\n",
      " 89%|████████▉ | 8/9 [00:00<00:00, 16.59it/s]\u001b[A\n",
      "100%|██████████| 9/9 [00:00<00:00, 15.90it/s]\u001b[A"
     ]
    }
   ],
   "source": [
    "\n",
    "fnames = sorted([oj(trained_model_folder, fname) for fname in os.listdir(trained_model_folder)]) # filenames in the directory\n",
    "results_list = [pd.Series(pkl.load(open(fname, \"rb\"))) for fname in tqdm(fnames) ] \n",
    "results = pd.concat(results_list, axis=1).T.infer_objects() # pandas dataframe w/ hyperparams and weights stored\n"
   ]
  },
  {
   "cell_type": "code",
   "execution_count": 103,
   "metadata": {},
   "outputs": [
    {
     "name": "stdout",
     "output_type": "stream",
     "text": [
      "All good\n"
     ]
    }
   ],
   "source": [
    "# sanity check: weights should be trained, comp weights should be trained if train both is turned on\n",
    "def weights_equivalent(mod1_weights, mod2_weights, names):\n",
    "    total_dis =0\n",
    "    for layer_name in names:\n",
    "        total_dis +=(mod1_weights[weight_layer] -mod1_weights[weight_layer] ).abs().sum()\n",
    "    return bool((total_dis !=0).item())\n",
    "weight_layers = init_model.state_dict().keys()\n",
    "\n",
    "for i in range(len(results)):\n",
    "    if not (weights_equivalent(init_model.state_dict(), results.iloc[i]['model_weights'][weight_layer] , weight_layers)):\n",
    "        break\n",
    "    if results.iloc[i]['train_both']:\n",
    "        if not (weights_equivalent(init_comp_model.state_dict(), results.iloc[i]['model_weights'][weight_layer] , weight_layers)):\n",
    "            break\n",
    "print(\"All good\")"
   ]
  },
  {
   "cell_type": "code",
   "execution_count": 117,
   "metadata": {},
   "outputs": [],
   "source": [
    "results[\"final_acc\"] = [x[-1] for x in results[\"accs_test\"]]\n",
    "results[\"final_cd\"] = [x[-1] for x in results[\"explanation_divergence\"]]\n"
   ]
  },
  {
   "cell_type": "code",
   "execution_count": 119,
   "metadata": {},
   "outputs": [
    {
     "data": {
      "text/html": [
       "<div>\n",
       "<style scoped>\n",
       "    .dataframe tbody tr th:only-of-type {\n",
       "        vertical-align: middle;\n",
       "    }\n",
       "\n",
       "    .dataframe tbody tr th {\n",
       "        vertical-align: top;\n",
       "    }\n",
       "\n",
       "    .dataframe thead th {\n",
       "        text-align: right;\n",
       "    }\n",
       "</style>\n",
       "<table border=\"1\" class=\"dataframe\">\n",
       "  <thead>\n",
       "    <tr style=\"text-align: right;\">\n",
       "      <th></th>\n",
       "      <th>train_both</th>\n",
       "      <th>sparse_signal</th>\n",
       "      <th>signal_strength</th>\n",
       "      <th>final_acc</th>\n",
       "      <th>final_cd</th>\n",
       "    </tr>\n",
       "  </thead>\n",
       "  <tbody>\n",
       "    <tr>\n",
       "      <th>3</th>\n",
       "      <td>True</td>\n",
       "      <td>False</td>\n",
       "      <td>10.0</td>\n",
       "      <td>77.0</td>\n",
       "      <td>5.000549</td>\n",
       "    </tr>\n",
       "    <tr>\n",
       "      <th>4</th>\n",
       "      <td>True</td>\n",
       "      <td>True</td>\n",
       "      <td>10.0</td>\n",
       "      <td>79.0</td>\n",
       "      <td>5.554571</td>\n",
       "    </tr>\n",
       "    <tr>\n",
       "      <th>1</th>\n",
       "      <td>True</td>\n",
       "      <td>False</td>\n",
       "      <td>1.0</td>\n",
       "      <td>78.0</td>\n",
       "      <td>8.506135</td>\n",
       "    </tr>\n",
       "    <tr>\n",
       "      <th>6</th>\n",
       "      <td>True</td>\n",
       "      <td>True</td>\n",
       "      <td>1.0</td>\n",
       "      <td>79.0</td>\n",
       "      <td>10.783402</td>\n",
       "    </tr>\n",
       "    <tr>\n",
       "      <th>7</th>\n",
       "      <td>False</td>\n",
       "      <td>True</td>\n",
       "      <td>10.0</td>\n",
       "      <td>81.0</td>\n",
       "      <td>203.205975</td>\n",
       "    </tr>\n",
       "    <tr>\n",
       "      <th>2</th>\n",
       "      <td>False</td>\n",
       "      <td>True</td>\n",
       "      <td>1.0</td>\n",
       "      <td>79.0</td>\n",
       "      <td>212.790776</td>\n",
       "    </tr>\n",
       "    <tr>\n",
       "      <th>5</th>\n",
       "      <td>False</td>\n",
       "      <td>False</td>\n",
       "      <td>10.0</td>\n",
       "      <td>82.0</td>\n",
       "      <td>261.337331</td>\n",
       "    </tr>\n",
       "    <tr>\n",
       "      <th>0</th>\n",
       "      <td>False</td>\n",
       "      <td>False</td>\n",
       "      <td>1.0</td>\n",
       "      <td>80.0</td>\n",
       "      <td>274.506503</td>\n",
       "    </tr>\n",
       "    <tr>\n",
       "      <th>8</th>\n",
       "      <td>False</td>\n",
       "      <td>False</td>\n",
       "      <td>1.0</td>\n",
       "      <td>80.0</td>\n",
       "      <td>274.506503</td>\n",
       "    </tr>\n",
       "  </tbody>\n",
       "</table>\n",
       "</div>"
      ],
      "text/plain": [
       "   train_both  sparse_signal  signal_strength  final_acc    final_cd\n",
       "3        True          False             10.0       77.0    5.000549\n",
       "4        True           True             10.0       79.0    5.554571\n",
       "1        True          False              1.0       78.0    8.506135\n",
       "6        True           True              1.0       79.0   10.783402\n",
       "7       False           True             10.0       81.0  203.205975\n",
       "2       False           True              1.0       79.0  212.790776\n",
       "5       False          False             10.0       82.0  261.337331\n",
       "0       False          False              1.0       80.0  274.506503\n",
       "8       False          False              1.0       80.0  274.506503"
      ]
     },
     "execution_count": 119,
     "metadata": {},
     "output_type": "execute_result"
    }
   ],
   "source": [
    "results[['train_both','sparse_signal', 'signal_strength', 'final_acc', 'final_cd' ]].sort_values(by=['final_cd'])"
   ]
  },
  {
   "cell_type": "code",
   "execution_count": null,
   "metadata": {},
   "outputs": [],
   "source": [
    "red: both networks train, blue: one networks trains\n",
    "dotted: sparse, solid: not sparse"
   ]
  },
  {
   "cell_type": "code",
   "execution_count": 143,
   "metadata": {},
   "outputs": [
    {
     "data": {
      "image/png": "[encoded data removed]",
      "text/plain": [
       "<matplotlib.figure.Figure at 0x7f0a07911f60>"
      ]
     },
     "metadata": {
      "needs_background": "light"
     },
     "output_type": "display_data"
    }
   ],
   "source": [
    "f, axes = plt.subplots(2, 1, figsize=(7, 7), sharex=True)\n",
    "for idx,div in enumerate(results[\"explanation_divergence\"]):\n",
    "    label = \"\"\n",
    "    color = 'b'\n",
    "    linestyle = 'solid'\n",
    "    if results.loc[idx][\"sparse_signal\"]:\n",
    "        label+=\"Sparse \"\n",
    "        linestyle = 'dashed'\n",
    "    if results.loc[idx][\"train_both\"]:\n",
    "        color ='r'\n",
    "        label+=\"Both  \"\n",
    "    #label+= 'S: '+str(results.loc[idx][\"signal_strength\"])\n",
    "    axes[0].plot(div, label = label, c= color,linestyle = linestyle)\n",
    "    axes[1].plot(results[\"losses_test\"][idx], label = label, c= color,linestyle = linestyle)\n",
    " \n",
    "\n",
    "axes[1].set_ylabel(\"Test loss\")\n",
    "axes[0].set_ylabel(\"Explanation divergence on training\")\n",
    "plt.tight_layout()\n",
    "plt.legend();"
   ]
  },
  {
   "cell_type": "markdown",
   "metadata": {},
   "source": [
    "Divergence in explanations goes down for models where both models changed during training (red). Does not go down for models where only one was changed (blue). Test loss (without divergence component) goes up for both."
   ]
  }
 ],
 "metadata": {
  "kernelspec": {
   "display_name": "Python 3",
   "language": "python",
   "name": "python3"
  },
  "language_info": {
   "codemirror_mode": {
    "name": "ipython",
    "version": 3
   },
   "file_extension": ".py",
   "mimetype": "text/x-python",
   "name": "python",
   "nbconvert_exporter": "python",
   "pygments_lexer": "ipython3",
   "version": "3.6.6"
  }
 },
 "nbformat": 4,
 "nbformat_minor": 2
}
