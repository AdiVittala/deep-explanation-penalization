{
 "cells": [
  {
   "cell_type": "markdown",
   "metadata": {},
   "source": [
    "Make decoy datasets \n",
    "* input comprised of two sentences with agreeing sentiments in training but disagreeing in test (\"This movie is very good. I like it a lot\" vs \"This movie is very good. The director must have been brain-dead\")\n",
    "* Have random agreeing words in train but disageee in test\n",
    "* Key idea: structured noise \n"
   ]
  },
  {
   "cell_type": "code",
   "execution_count": 1,
   "metadata": {},
   "outputs": [],
   "source": [
    "%matplotlib inline\n",
    "import os\n",
    "from os.path import join as oj\n",
    "import sys, time\n",
    "sys.path.insert(1, oj(sys.path[0], '..'))  # insert parent path\n",
    "sys.path.append('../../acd')\n",
    "sys.path.append('../../acd/visualization')\n",
    "sys.path.append('../../acd/acd/util')\n",
    "sys.path.append('../../acd/acd/scores')\n",
    "sys.path.append('../../acd/acd/agglomeration')\n",
    "\n",
    "import numpy as np\n",
    "import matplotlib.pyplot as plt\n",
    "from tqdm import tqdm\n",
    "from copy import deepcopy\n",
    "import pickle as pkl\n",
    "import pandas as pd\n",
    "from os.path import join\n",
    "import torch\n",
    "import torch\n",
    "import numpy as np\n",
    "import seaborn as sns\n",
    "from copy import deepcopy\n",
    "from model import LSTMSentiment\n",
    "import matplotlib.pyplot as plt\n",
    "from os.path import isdir\n",
    "import viz_1d as viz\n",
    "import tiling_1d as tiling\n",
    "import agg_1d as agg\n",
    "import cd\n",
    "import score_funcs\n",
    "import dsets\n",
    "from dsets.sst import dset\n",
    "from dsets.sst.model import LSTMSentiment\n",
    "# check out how two models differ\n",
    "import torch.optim as O\n",
    "import torch.nn as nn\n",
    "from torchtext import data\n",
    "from torchtext import datasets\n",
    "from tqdm import tqdm_notebook, tqdm \n",
    "import pickle"
   ]
  },
  {
   "cell_type": "code",
   "execution_count": 2,
   "metadata": {},
   "outputs": [],
   "source": [
    "sst_pkl = pickle.load(open('../../acd/dsets/sst/sst.pkl', 'rb'))\n",
    "np.random.seed(42)"
   ]
  },
  {
   "cell_type": "code",
   "execution_count": 3,
   "metadata": {},
   "outputs": [],
   "source": [
    "\n",
    "vector_cache = os.path.join(os.getcwd(), '../data/.vector_cache/input_vectors.pt')\n",
    "word_vectors ='glove.6B.300d'\n",
    "batch_size=  50"
   ]
  },
  {
   "cell_type": "code",
   "execution_count": 105,
   "metadata": {},
   "outputs": [],
   "source": [
    "# load test set\n",
    "\n",
    "inputs = data.Field(lower= True)\n",
    "answers = data.Field(sequential=False, unk_token=None)\n",
    "\n",
    "train, dev, test = datasets.SST.splits(inputs, answers, fine_grained=False, train_subtrees=True,\n",
    "                                       filter_pred=lambda ex: ex.label != 'neutral')\n",
    "\n",
    "inputs.build_vocab(train, dev, test)"
   ]
  },
  {
   "cell_type": "code",
   "execution_count": 106,
   "metadata": {},
   "outputs": [
    {
     "data": {
      "text/plain": [
       "98794"
      ]
     },
     "execution_count": 106,
     "metadata": {},
     "output_type": "execute_result"
    }
   ],
   "source": [
    "len(train)"
   ]
  },
  {
   "cell_type": "code",
   "execution_count": 83,
   "metadata": {},
   "outputs": [],
   "source": [
    "if word_vectors:\n",
    "    if os.path.isfile(vector_cache):\n",
    "        inputs.vocab.vectors = torch.load(vector_cache)\n",
    "    else:\n",
    "        inputs.vocab.load_vectors(word_vectors)\n",
    "        makedirs(os.path.dirname(vector_cache))\n",
    "        torch.save(inputs.vocab.vectors,vector_cache)\n",
    "answers.build_vocab(train)\n",
    "train_iter, dev_iter, test_iter = data.BucketIterator.splits(\n",
    "    (train, dev, test), batch_size=batch_size, device=torch.device(0))"
   ]
  },
  {
   "cell_type": "code",
   "execution_count": 84,
   "metadata": {
    "scrolled": true
   },
   "outputs": [
    {
     "data": {
      "text/plain": [
       "3310"
      ]
     },
     "execution_count": 84,
     "metadata": {},
     "output_type": "execute_result"
    }
   ],
   "source": [
    "len(train)"
   ]
  },
  {
   "cell_type": "code",
   "execution_count": 100,
   "metadata": {},
   "outputs": [
    {
     "data": {
      "application/vnd.jupyter.widget-view+json": {
       "model_id": "a4278c0e4ca5439e835442bb54d414af",
       "version_major": 2,
       "version_minor": 0
      },
      "text/plain": [
       "HBox(children=(IntProgress(value=1, bar_style='info', max=1), HTML(value='')))"
      ]
     },
     "metadata": {},
     "output_type": "display_data"
    },
    {
     "name": "stdout",
     "output_type": "stream",
     "text": [
      "\n"
     ]
    }
   ],
   "source": [
    "length = np.empty((4000))\n",
    "for idx, batch in tqdm_notebook(enumerate(train_iter)):\n",
    "    \n",
    "    length[idx] = (batch.text.shape[0])\n",
    "    break"
   ]
  },
  {
   "cell_type": "code",
   "execution_count": 102,
   "metadata": {},
   "outputs": [
    {
     "data": {
      "text/plain": [
       "torch.Size([42, 50])"
      ]
     },
     "execution_count": 102,
     "metadata": {},
     "output_type": "execute_result"
    }
   ],
   "source": [
    "batch.text.shape"
   ]
  },
  {
   "cell_type": "code",
   "execution_count": 107,
   "metadata": {
    "scrolled": false
   },
   "outputs": [
    {
     "name": "stdout",
     "output_type": "stream",
     "text": [
      "the rock is destined to be the 21st century 's new `` conan '' and that he 's going to make a splash even greater than arnold schwarzenegger , jean-claud van damme or steven segal .\n",
      "is destined to be the 21st century 's new `` conan '' and that he 's going to make a splash even greater than arnold schwarzenegger , jean-claud van damme or steven segal .\n",
      "is destined to be the 21st century 's new `` conan '' and that he 's going to make a splash even greater than arnold schwarzenegger , jean-claud van damme or steven segal\n",
      "destined to be the 21st century 's new `` conan '' and that he 's going to make a splash even greater than arnold schwarzenegger , jean-claud van damme or steven segal\n",
      "new\n",
      "that he 's going to make a splash even greater than arnold schwarzenegger , jean-claud van damme or steven segal\n",
      "he 's going to make a splash even greater than arnold schwarzenegger , jean-claud van damme or steven segal\n",
      "'s going to make a splash even greater than arnold schwarzenegger , jean-claud van damme or steven segal\n",
      "going to make a splash even greater than arnold schwarzenegger , jean-claud van damme or steven segal\n",
      "to make a splash even greater than arnold schwarzenegger , jean-claud van damme or steven segal\n",
      "make a splash even greater than arnold schwarzenegger , jean-claud van damme or steven segal\n",
      "make a splash even greater\n",
      "a splash even greater\n",
      "a splash\n",
      "splash\n",
      "greater\n",
      "arnold schwarzenegger\n",
      "the gorgeously elaborate continuation of `` the lord of the rings '' trilogy is so huge that a column of words can not adequately describe co-writer\\/director peter jackson 's expanded vision of j.r.r. tolkien 's middle-earth .\n",
      "the gorgeously elaborate continuation of `` the lord of the rings '' trilogy\n",
      "the gorgeously elaborate continuation\n",
      "gorgeously elaborate continuation\n",
      "gorgeously\n",
      "elaborate continuation\n",
      "is so huge that a column of words can not adequately describe co-writer\\/director peter jackson 's expanded vision of j.r.r. tolkien 's middle-earth\n",
      "a column of words can not adequately describe co-writer\\/director peter jackson 's expanded vision of j.r.r. tolkien 's middle-earth\n",
      "not\n",
      "adequately\n",
      "co-writer\\/director peter jackson 's expanded vision\n",
      "jackson 's\n",
      "expanded vision\n",
      "singer\\/composer bryan adams contributes a slew of songs -- a few potential hits , a few more simply intrusive to the story -- but the whole package certainly captures the intended , er , spirit of the piece .\n",
      "singer\\/composer bryan adams contributes a slew of songs -- a few potential hits , a few more simply intrusive to the story -- but the whole package certainly captures the intended , er , spirit of the piece\n",
      "potential\n",
      "more simply intrusive to the story\n",
      "more simply intrusive\n",
      "simply intrusive\n",
      "the whole package certainly captures the intended , er , spirit of the piece\n",
      "the whole package\n",
      "whole package\n",
      "certainly\n",
      "captures the intended , er , spirit of the piece\n",
      "the intended , er , spirit\n",
      "spirit\n",
      "have had enough of plucky british eccentrics with hearts of gold\n",
      "enough of plucky british eccentrics\n",
      "eccentrics\n",
      "with hearts of gold\n",
      "hearts of gold\n",
      "hearts\n",
      "of gold\n",
      "gold\n",
      "yet the act is still charming here .\n",
      "the act is still charming here .\n",
      "is still charming here .\n",
      "is still charming here\n",
      "is still charming\n",
      "still charming\n",
      "charming\n",
      "whether or not you 're enlightened by any of derrida 's lectures on `` the other '' and `` the self , '' derrida is an undeniably fascinating and playful fellow .\n",
      "not\n",
      "you 're enlightened by any of derrida 's\n",
      "enlightened by any of derrida 's\n",
      "enlightened\n",
      ", '' derrida is an undeniably fascinating and playful fellow .\n",
      "'' derrida is an undeniably fascinating and playful fellow .\n",
      "derrida is an undeniably fascinating and playful fellow .\n",
      "is an undeniably fascinating and playful fellow .\n",
      "is an undeniably fascinating and playful fellow\n",
      "an undeniably fascinating and playful fellow\n",
      "undeniably fascinating and playful fellow\n",
      "undeniably fascinating and playful\n",
      "fascinating and playful\n",
      "fascinating and\n",
      "fascinating\n",
      "playful\n",
      "just the labour involved in creating the layered richness of the imagery in this chiaroscuro of madness and light is astonishing .\n",
      "just the labour involved in creating the layered richness of the imagery in this chiaroscuro of madness and light\n",
      "involved in creating the layered richness of the imagery in this chiaroscuro of madness and light\n",
      "in creating the layered richness of the imagery in this chiaroscuro of madness and light\n",
      "creating the layered richness of the imagery in this chiaroscuro of madness and light\n",
      "the layered richness of the imagery in this chiaroscuro of madness and light\n",
      "the layered richness\n",
      "layered richness\n",
      "layered\n",
      "of the imagery in this chiaroscuro of madness and light\n",
      "the imagery in this chiaroscuro of madness and light\n",
      "this chiaroscuro of madness and light\n",
      "is astonishing .\n",
      "is astonishing\n",
      "astonishing\n",
      "part of the charm of satin rouge is that it avoids the obvious with humour and lightness .\n",
      "part of the charm of satin rouge\n",
      "of the charm of satin rouge\n",
      "the charm of satin rouge\n",
      "charm\n",
      "is that it avoids the obvious with humour and lightness .\n",
      "is that it avoids the obvious with humour and lightness\n",
      "that it avoids the obvious with humour and lightness\n",
      "it avoids the obvious with humour and lightness\n",
      "avoids the obvious\n"
     ]
    }
   ],
   "source": [
    "for i in range(100):\n",
    "    print(\" \".join(train.examples[i].text))"
   ]
  },
  {
   "cell_type": "code",
   "execution_count": 76,
   "metadata": {
    "scrolled": true
   },
   "outputs": [
    {
     "data": {
      "text/plain": [
       "['more', 'simply', 'intrusive', 'to', 'the', 'story']"
      ]
     },
     "execution_count": 76,
     "metadata": {},
     "output_type": "execute_result"
    }
   ],
   "source": [
    "train.examples[2].text"
   ]
  },
  {
   "cell_type": "code",
   "execution_count": null,
   "metadata": {},
   "outputs": [],
   "source": []
  }
 ],
 "metadata": {
  "kernelspec": {
   "display_name": "Python (gpu_usage)",
   "language": "python",
   "name": "gpu_usage"
  },
  "language_info": {
   "codemirror_mode": {
    "name": "ipython",
    "version": 3
   },
   "file_extension": ".py",
   "mimetype": "text/x-python",
   "name": "python",
   "nbconvert_exporter": "python",
   "pygments_lexer": "ipython3",
   "version": "3.6.6"
  }
 },
 "nbformat": 4,
 "nbformat_minor": 2
}
