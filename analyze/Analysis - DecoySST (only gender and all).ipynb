{
 "cells": [
  {
   "cell_type": "markdown",
   "metadata": {},
   "source": [
    "Looking at a decoy SST dataset - for training data, a word indicating the class (positive or negative) was inserted into the sentences. "
   ]
  },
  {
   "cell_type": "code",
   "execution_count": 1,
   "metadata": {},
   "outputs": [],
   "source": [
    "import os\n",
    "from os.path import join as oj\n",
    "import sys, time\n",
    "sys.path.insert(1, oj(sys.path[0], '..'))  # insert parent path\n",
    "import numpy as np\n",
    "import matplotlib.pyplot as plt\n",
    "from tqdm import tqdm\n",
    "from copy import deepcopy\n",
    "import pickle as pkl\n",
    "import pandas as pd\n",
    "from os.path import join\n",
    "import torch\n",
    "import torch\n",
    "import numpy as np\n",
    "import seaborn as sns\n",
    "import matplotlib.pyplot as plt\n",
    "import seaborn as sns\n",
    "sns.set()\n",
    "%matplotlib inline"
   ]
  },
  {
   "cell_type": "code",
   "execution_count": 32,
   "metadata": {},
   "outputs": [],
   "source": [
    "use_biased= False"
   ]
  },
  {
   "cell_type": "code",
   "execution_count": 33,
   "metadata": {},
   "outputs": [],
   "source": [
    "trained_model_folder = '../models/Decoy_models'\n",
    "save_path = '../results_for_export'\n",
    "if use_biased:\n",
    "    trained_model_folder = '../models/SST_biased_models'\n",
    "fnames = sorted([oj(trained_model_folder, fname) for fname in os.listdir(trained_model_folder)]) \n",
    "# other models were trained badly\n"
   ]
  },
  {
   "cell_type": "code",
   "execution_count": 34,
   "metadata": {},
   "outputs": [],
   "source": [
    "\n",
    "results_list = [pd.Series(pkl.load(open(fname, \"rb\"))) for fname in (fnames)] \n",
    "results = pd.concat(results_list, axis=1).T.infer_objects() # pandas dataframe w/ hyperparams and weights stored\n",
    "results = results[results.which_adversarial != \"bias_gender\"]\n"
   ]
  },
  {
   "cell_type": "code",
   "execution_count": 35,
   "metadata": {},
   "outputs": [],
   "source": [
    "\n",
    "results[\"Test Accuracy\"] = [int(max(x)) for x in results[\"accs_test\"]] # currently on test data - since not used for early stopping \n",
    "results[\"final_cd\"] = [min(x) for x in results[\"explanation_divergence\"]]\n",
    "results[\"final_test_loss\"] = [min(x) for x in results[\"losses_test\"]]\n",
    "results[\"final_train_loss\"] = [x[-1] for x in results[\"losses_train\"]]\n",
    "results.use_individual =results.use_individual.fillna(False)\n",
    "results = results[results.signal_strength < 1000]"
   ]
  },
  {
   "cell_type": "code",
   "execution_count": 36,
   "metadata": {
    "scrolled": false
   },
   "outputs": [],
   "source": [
    "concise_out = results[['signal_strength', 'Test Accuracy','final_test_loss']].sort_values([\"signal_strength\"])#.groupby(by = ['signal_strength']).mean()"
   ]
  },
  {
   "cell_type": "code",
   "execution_count": 37,
   "metadata": {},
   "outputs": [
    {
     "name": "stdout",
     "output_type": "stream",
     "text": [
      "\\begin{tabular}{rrr}\n",
      "\\toprule\n",
      " signal\\_strength &  Test Accuracy &  final\\_test\\_loss \\\\\n",
      "\\midrule\n",
      "             0.0 &             52 &         1.312871 \\\\\n",
      "             1.0 &             58 &         0.825736 \\\\\n",
      "            10.0 &             68 &         0.511838 \\\\\n",
      "            50.0 &             74 &         0.473913 \\\\\n",
      "           100.0 &             78 &         0.548646 \\\\\n",
      "           200.0 &             76 &         0.472683 \\\\\n",
      "           300.0 &             77 &         0.412599 \\\\\n",
      "           400.0 &             71 &         0.572619 \\\\\n",
      "\\bottomrule\n",
      "\\end{tabular}\n",
      "\n"
     ]
    }
   ],
   "source": [
    "print(concise_out.to_latex(index  = False))"
   ]
  },
  {
   "cell_type": "code",
   "execution_count": 11,
   "metadata": {},
   "outputs": [
    {
     "data": {
      "text/html": [
       "<div>\n",
       "<style scoped>\n",
       "    .dataframe tbody tr th:only-of-type {\n",
       "        vertical-align: middle;\n",
       "    }\n",
       "\n",
       "    .dataframe tbody tr th {\n",
       "        vertical-align: top;\n",
       "    }\n",
       "\n",
       "    .dataframe thead th {\n",
       "        text-align: right;\n",
       "    }\n",
       "</style>\n",
       "<table border=\"1\" class=\"dataframe\">\n",
       "  <thead>\n",
       "    <tr style=\"text-align: right;\">\n",
       "      <th></th>\n",
       "      <th>signal_strength</th>\n",
       "      <th>Test Accuracy</th>\n",
       "    </tr>\n",
       "  </thead>\n",
       "  <tbody>\n",
       "    <tr>\n",
       "      <th>6</th>\n",
       "      <td>0.0</td>\n",
       "      <td>52</td>\n",
       "    </tr>\n",
       "    <tr>\n",
       "      <th>0</th>\n",
       "      <td>1.0</td>\n",
       "      <td>58</td>\n",
       "    </tr>\n",
       "    <tr>\n",
       "      <th>1</th>\n",
       "      <td>10.0</td>\n",
       "      <td>68</td>\n",
       "    </tr>\n",
       "    <tr>\n",
       "      <th>4</th>\n",
       "      <td>50.0</td>\n",
       "      <td>74</td>\n",
       "    </tr>\n",
       "    <tr>\n",
       "      <th>7</th>\n",
       "      <td>100.0</td>\n",
       "      <td>78</td>\n",
       "    </tr>\n",
       "    <tr>\n",
       "      <th>3</th>\n",
       "      <td>200.0</td>\n",
       "      <td>76</td>\n",
       "    </tr>\n",
       "    <tr>\n",
       "      <th>2</th>\n",
       "      <td>300.0</td>\n",
       "      <td>77</td>\n",
       "    </tr>\n",
       "    <tr>\n",
       "      <th>5</th>\n",
       "      <td>400.0</td>\n",
       "      <td>71</td>\n",
       "    </tr>\n",
       "  </tbody>\n",
       "</table>\n",
       "</div>"
      ],
      "text/plain": [
       "   signal_strength  Test Accuracy\n",
       "6              0.0             52\n",
       "0              1.0             58\n",
       "1             10.0             68\n",
       "4             50.0             74\n",
       "7            100.0             78\n",
       "3            200.0             76\n",
       "2            300.0             77\n",
       "5            400.0             71"
      ]
     },
     "execution_count": 11,
     "metadata": {},
     "output_type": "execute_result"
    }
   ],
   "source": [
    "concise_out"
   ]
  },
  {
   "cell_type": "code",
   "execution_count": 12,
   "metadata": {},
   "outputs": [],
   "source": [
    "if use_biased:\n",
    "    tex_name = 'cd_SST_bias_tex_gender.tex'\n",
    "else:\n",
    "    tex_name = 'cd_SST_decoy_tex.tex'\n",
    "with open(oj(save_path, tex_name), 'w') as f:\n",
    "          f.write(concise_out.to_latex(index  = False))\n",
    "concise_out = concise_out.reset_index()"
   ]
  },
  {
   "cell_type": "code",
   "execution_count": 28,
   "metadata": {},
   "outputs": [
    {
     "data": {
      "image/png": "[encoded data removed]",
      "text/plain": [
       "<matplotlib.figure.Figure at 0x7f47f3fd1080>"
      ]
     },
     "metadata": {
      "needs_background": "light"
     },
     "output_type": "display_data"
    }
   ],
   "source": [
    "plot = sns.lineplot(x ='signal_strength' , y='Test Accuracy', data = concise_out  );\n",
    "# plot.set(xscale=\"log\")\n",
    "plt.ylim(60, 70)\n",
    "plot.set_xlabel(\"Regularization strength\")\n",
    "plot.set_ylabel(\"Test Accuracy\")\n",
    "plot.set_title(\"Regularizing with cd explanations\");\n",
    "fig  = plot.get_figure()\n",
    "if use_biased:\n",
    "    fig.savefig(oj(save_path,\"cd_SST_bias\"))\n",
    "else:\n",
    "    fig.savefig(oj(save_path,\"cd_SST_decoy\"))"
   ]
  },
  {
   "cell_type": "code",
   "execution_count": null,
   "metadata": {},
   "outputs": [],
   "source": []
  }
 ],
 "metadata": {
  "kernelspec": {
   "display_name": "Python 3",
   "language": "python",
   "name": "python3"
  },
  "language_info": {
   "codemirror_mode": {
    "name": "ipython",
    "version": 3
   },
   "file_extension": ".py",
   "mimetype": "text/x-python",
   "name": "python",
   "nbconvert_exporter": "python",
   "pygments_lexer": "ipython3",
   "version": "3.6.6"
  }
 },
 "nbformat": 4,
 "nbformat_minor": 2
}
