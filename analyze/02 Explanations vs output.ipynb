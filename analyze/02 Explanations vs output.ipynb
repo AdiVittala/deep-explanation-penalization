{
 "cells": [
  {
   "cell_type": "code",
   "execution_count": 1,
   "metadata": {},
   "outputs": [],
   "source": [
    "%load_ext autoreload\n",
    "%autoreload 2\n",
    "%matplotlib inline\n",
    "import numpy as np\n",
    "import matplotlib.pyplot as plt\n",
    "import torch\n",
    "import pickle\n",
    "import sys\n",
    "sys.path.append('../../acd/acd')\n",
    "from os.path import isdir\n",
    "sys.path.append('../../acd/visualization')\n",
    "sys.path.append('../../acd/acd/util')\n",
    "sys.path.append('../../acd/acd/scores')\n",
    "sys.path.append('../../acd/acd/agglomeration')\n",
    "import viz_1d as viz\n",
    "import tiling_1d as tiling\n",
    "import agg_1d as agg\n",
    "import cd\n",
    "import score_funcs\n",
    "from os.path import join\n",
    "import os\n",
    "sys.path.append('../../acd')\n",
    "sys.path.append('../../acd/dsets/sst')\n",
    "from dsets.sst import dset\n",
    "from dsets.sst.model import LSTMSentiment\n",
    "import torch.optim as O\n",
    "import torch.nn as nn\n",
    "# check out how two models differ\n",
    "import torch.optim as O\n",
    "import torch.nn as nn\n",
    "\n",
    "from torchtext import data\n",
    "from torchtext import datasets"
   ]
  },
  {
   "cell_type": "code",
   "execution_count": 2,
   "metadata": {},
   "outputs": [],
   "source": [
    "\n",
    "vector_cache = os.path.join(os.getcwd(), '.vector_cache/input_vectors.pt')\n",
    "word_vectors ='glove.6B.300d'\n",
    "batch_size=  50\n"
   ]
  },
  {
   "cell_type": "code",
   "execution_count": 3,
   "metadata": {},
   "outputs": [],
   "source": [
    "def makedirs(name):\n",
    "    \"\"\"helper function for python 2 and 3 to call os.makedirs()\n",
    "       avoiding an error if the directory to be created already exists\"\"\"\n",
    "\n",
    "    import os, errno\n",
    "\n",
    "    try:\n",
    "        os.makedirs(name)\n",
    "    except OSError as ex:\n",
    "        if ex.errno == errno.EEXIST and os.path.isdir(name):\n",
    "            # ignore existing directory\n",
    "            pass\n",
    "        else:\n",
    "            # a different error happened\n",
    "            raise\n",
    "\n"
   ]
  },
  {
   "cell_type": "code",
   "execution_count": 4,
   "metadata": {},
   "outputs": [],
   "source": [
    "sst_pkl = pickle.load(open('../../acd/dsets/sst/sst.pkl', 'rb'))"
   ]
  },
  {
   "cell_type": "code",
   "execution_count": 5,
   "metadata": {},
   "outputs": [],
   "source": [
    "\n",
    "device = 'cuda' if torch.cuda.is_available() else 'cpu'"
   ]
  },
  {
   "cell_type": "code",
   "execution_count": 6,
   "metadata": {},
   "outputs": [],
   "source": [
    "# form class to hold data\n",
    "class B:\n",
    "    text = torch.zeros(1).to(device)\n"
   ]
  },
  {
   "cell_type": "code",
   "execution_count": 197,
   "metadata": {},
   "outputs": [
    {
     "name": "stdout",
     "output_type": "stream",
     "text": [
      "[3, 0, 8, 7, 16, 2, 11, 1, 10, 17]\n"
     ]
    }
   ],
   "source": [
    "import random\n",
    "\n",
    "random.seed(42)\n",
    "\n",
    "print(random.sample(range(20),k=10))\n",
    "\n",
    "st = random.getstate()  # remeber this state "
   ]
  },
  {
   "cell_type": "code",
   "execution_count": null,
   "metadata": {},
   "outputs": [],
   "source": []
  },
  {
   "cell_type": "code",
   "execution_count": 208,
   "metadata": {},
   "outputs": [],
   "source": [
    "a, b = train.split()#(random_state=st)"
   ]
  },
  {
   "cell_type": "code",
   "execution_count": 209,
   "metadata": {},
   "outputs": [
    {
     "data": {
      "text/plain": [
       "['of', 'perversity', ',', 'comedy', 'and', 'romance']"
      ]
     },
     "execution_count": 209,
     "metadata": {},
     "output_type": "execute_result"
    }
   ],
   "source": [
    "a[0].text"
   ]
  },
  {
   "cell_type": "code",
   "execution_count": 194,
   "metadata": {},
   "outputs": [
    {
     "data": {
      "text/plain": [
       "49397"
      ]
     },
     "execution_count": 194,
     "metadata": {},
     "output_type": "execute_result"
    }
   ],
   "source": [
    "len(b)"
   ]
  },
  {
   "cell_type": "code",
   "execution_count": 179,
   "metadata": {},
   "outputs": [
    {
     "ename": "TypeError",
     "evalue": "'Example' object is not iterable",
     "output_type": "error",
     "traceback": [
      "\u001b[0;31m---------------------------------------------------------------------------\u001b[0m",
      "\u001b[0;31mTypeError\u001b[0m                                 Traceback (most recent call last)",
      "\u001b[0;32m~/.conda/envs/gpu_usage/lib/python3.6/site-packages/torchtext/data/field.py\u001b[0m in \u001b[0;36mbuild_vocab\u001b[0;34m(self, *args, **kwargs)\u001b[0m\n\u001b[1;32m    265\u001b[0m                 \u001b[0;32mtry\u001b[0m\u001b[0;34m:\u001b[0m\u001b[0;34m\u001b[0m\u001b[0;34m\u001b[0m\u001b[0m\n\u001b[0;32m--> 266\u001b[0;31m                     \u001b[0mcounter\u001b[0m\u001b[0;34m.\u001b[0m\u001b[0mupdate\u001b[0m\u001b[0;34m(\u001b[0m\u001b[0mx\u001b[0m\u001b[0;34m)\u001b[0m\u001b[0;34m\u001b[0m\u001b[0;34m\u001b[0m\u001b[0m\n\u001b[0m\u001b[1;32m    267\u001b[0m                 \u001b[0;32mexcept\u001b[0m \u001b[0mTypeError\u001b[0m\u001b[0;34m:\u001b[0m\u001b[0;34m\u001b[0m\u001b[0;34m\u001b[0m\u001b[0m\n",
      "\u001b[0;32m~/.conda/envs/gpu_usage/lib/python3.6/collections/__init__.py\u001b[0m in \u001b[0;36mupdate\u001b[0;34m(*args, **kwds)\u001b[0m\n\u001b[1;32m    621\u001b[0m             \u001b[0;32melse\u001b[0m\u001b[0;34m:\u001b[0m\u001b[0;34m\u001b[0m\u001b[0;34m\u001b[0m\u001b[0m\n\u001b[0;32m--> 622\u001b[0;31m                 \u001b[0m_count_elements\u001b[0m\u001b[0;34m(\u001b[0m\u001b[0mself\u001b[0m\u001b[0;34m,\u001b[0m \u001b[0miterable\u001b[0m\u001b[0;34m)\u001b[0m\u001b[0;34m\u001b[0m\u001b[0;34m\u001b[0m\u001b[0m\n\u001b[0m\u001b[1;32m    623\u001b[0m         \u001b[0;32mif\u001b[0m \u001b[0mkwds\u001b[0m\u001b[0;34m:\u001b[0m\u001b[0;34m\u001b[0m\u001b[0;34m\u001b[0m\u001b[0m\n",
      "\u001b[0;31mTypeError\u001b[0m: 'Example' object is not iterable",
      "\nDuring handling of the above exception, another exception occurred:\n",
      "\u001b[0;31mTypeError\u001b[0m                                 Traceback (most recent call last)",
      "\u001b[0;32m<ipython-input-179-25a7956fde99>\u001b[0m in \u001b[0;36m<module>\u001b[0;34m\u001b[0m\n\u001b[1;32m      6\u001b[0m                                        filter_pred=lambda ex: ex.label != 'neutral')\n\u001b[1;32m      7\u001b[0m \u001b[0mdev\u001b[0m \u001b[0;34m=\u001b[0m \u001b[0mdev\u001b[0m\u001b[0;34m[\u001b[0m\u001b[0;34m:\u001b[0m\u001b[0;36m100\u001b[0m\u001b[0;34m]\u001b[0m\u001b[0;34m\u001b[0m\u001b[0;34m\u001b[0m\u001b[0m\n\u001b[0;32m----> 8\u001b[0;31m \u001b[0minputs\u001b[0m\u001b[0;34m.\u001b[0m\u001b[0mbuild_vocab\u001b[0m\u001b[0;34m(\u001b[0m\u001b[0mtrain\u001b[0m\u001b[0;34m,\u001b[0m \u001b[0mdev\u001b[0m\u001b[0;34m,\u001b[0m \u001b[0mtest\u001b[0m\u001b[0;34m)\u001b[0m\u001b[0;34m\u001b[0m\u001b[0;34m\u001b[0m\u001b[0m\n\u001b[0m\u001b[1;32m      9\u001b[0m \u001b[0;32mif\u001b[0m \u001b[0mword_vectors\u001b[0m\u001b[0;34m:\u001b[0m\u001b[0;34m\u001b[0m\u001b[0;34m\u001b[0m\u001b[0m\n\u001b[1;32m     10\u001b[0m     \u001b[0;32mif\u001b[0m \u001b[0mos\u001b[0m\u001b[0;34m.\u001b[0m\u001b[0mpath\u001b[0m\u001b[0;34m.\u001b[0m\u001b[0misfile\u001b[0m\u001b[0;34m(\u001b[0m\u001b[0mvector_cache\u001b[0m\u001b[0;34m)\u001b[0m\u001b[0;34m:\u001b[0m\u001b[0;34m\u001b[0m\u001b[0;34m\u001b[0m\u001b[0m\n",
      "\u001b[0;32m~/.conda/envs/gpu_usage/lib/python3.6/site-packages/torchtext/data/field.py\u001b[0m in \u001b[0;36mbuild_vocab\u001b[0;34m(self, *args, **kwargs)\u001b[0m\n\u001b[1;32m    266\u001b[0m                     \u001b[0mcounter\u001b[0m\u001b[0;34m.\u001b[0m\u001b[0mupdate\u001b[0m\u001b[0;34m(\u001b[0m\u001b[0mx\u001b[0m\u001b[0;34m)\u001b[0m\u001b[0;34m\u001b[0m\u001b[0;34m\u001b[0m\u001b[0m\n\u001b[1;32m    267\u001b[0m                 \u001b[0;32mexcept\u001b[0m \u001b[0mTypeError\u001b[0m\u001b[0;34m:\u001b[0m\u001b[0;34m\u001b[0m\u001b[0;34m\u001b[0m\u001b[0m\n\u001b[0;32m--> 268\u001b[0;31m                     \u001b[0mcounter\u001b[0m\u001b[0;34m.\u001b[0m\u001b[0mupdate\u001b[0m\u001b[0;34m(\u001b[0m\u001b[0mchain\u001b[0m\u001b[0;34m.\u001b[0m\u001b[0mfrom_iterable\u001b[0m\u001b[0;34m(\u001b[0m\u001b[0mx\u001b[0m\u001b[0;34m)\u001b[0m\u001b[0;34m)\u001b[0m\u001b[0;34m\u001b[0m\u001b[0;34m\u001b[0m\u001b[0m\n\u001b[0m\u001b[1;32m    269\u001b[0m         specials = list(OrderedDict.fromkeys(\n\u001b[1;32m    270\u001b[0m             tok for tok in [self.unk_token, self.pad_token, self.init_token,\n",
      "\u001b[0;31mTypeError\u001b[0m: 'Example' object is not iterable"
     ]
    }
   ],
   "source": [
    "\n",
    "inputs = data.Field(lower= True)\n",
    "answers = data.Field(sequential=False, unk_token=None)\n",
    "\n",
    "train, dev, test = datasets.SST.splits(inputs, answers, fine_grained=False, train_subtrees=True,\n",
    "                                       filter_pred=lambda ex: ex.label != 'neutral')\n",
    "\n",
    "inputs.build_vocab(train, dev, test)\n",
    "if word_vectors:\n",
    "    if os.path.isfile(vector_cache):\n",
    "        inputs.vocab.vectors = torch.load(vector_cache)\n",
    "    else:\n",
    "        inputs.vocab.load_vectors(word_vectors)\n",
    "        makedirs(os.path.dirname(vector_cache))\n",
    "        torch.save(inputs.vocab.vectors,vector_cache)\n",
    "answers.build_vocab(train)\n",
    "\n",
    "train_iter, dev_iter, test_iter = data.BucketIterator.splits(\n",
    "    (train, dev, test), batch_size=batch_size, device=torch.device(0))"
   ]
  },
  {
   "cell_type": "code",
   "execution_count": 175,
   "metadata": {},
   "outputs": [
    {
     "ename": "AttributeError",
     "evalue": "module 'torch.utils.data' has no attribute 'split'",
     "output_type": "error",
     "traceback": [
      "\u001b[0;31m---------------------------------------------------------------------------\u001b[0m",
      "\u001b[0;31mAttributeError\u001b[0m                            Traceback (most recent call last)",
      "\u001b[0;32m<ipython-input-175-126a7a400c51>\u001b[0m in \u001b[0;36m<module>\u001b[0;34m\u001b[0m\n\u001b[0;32m----> 1\u001b[0;31m \u001b[0mtorch\u001b[0m\u001b[0;34m.\u001b[0m\u001b[0mutils\u001b[0m\u001b[0;34m.\u001b[0m\u001b[0mdata\u001b[0m\u001b[0;34m.\u001b[0m\u001b[0msplit\u001b[0m\u001b[0;34m\u001b[0m\u001b[0;34m\u001b[0m\u001b[0m\n\u001b[0m",
      "\u001b[0;31mAttributeError\u001b[0m: module 'torch.utils.data' has no attribute 'split'"
     ]
    }
   ],
   "source": [
    "torch.utils.data.split"
   ]
  },
  {
   "cell_type": "code",
   "execution_count": 163,
   "metadata": {},
   "outputs": [],
   "source": [
    "\n",
    "model1 = torch.load(\"../../acd/dsets/sst/model2.pt\", map_location=torch.device(0))\n",
    "# model2 = torch.load(join(model_path, model_list[0]), map_location=torch.device(0))"
   ]
  },
  {
   "cell_type": "code",
   "execution_count": 164,
   "metadata": {},
   "outputs": [
    {
     "data": {
      "text/plain": [
       "['best_snapshottrainboth_devacc_82_devloss_0.5285236239433289__iter_1000_model1.pt',\n",
       " 'best_snapshottrainboth_devacc_82_devloss_0.5285236239433289__iter_1000_model2.pt',\n",
       " 'snapshot_acc_97.0000_loss_0.160067_iter_2000_model.pt']"
      ]
     },
     "execution_count": 164,
     "metadata": {},
     "output_type": "execute_result"
    }
   ],
   "source": [
    "use_regularized = True\n",
    "model_path = \"../../acd/dsets/sst/results/trial874\"\n",
    "model_list = os.listdir(model_path)\n",
    "model2 = torch.load(join(model_path, model_list[-2]), map_location=torch.device(0))\n",
    "(model_list)"
   ]
  },
  {
   "cell_type": "code",
   "execution_count": 165,
   "metadata": {},
   "outputs": [
    {
     "data": {
      "text/plain": [
       "'best_snapshottrainboth_devacc_82_devloss_0.5285236239433289__iter_1000_model2.pt'"
      ]
     },
     "execution_count": 165,
     "metadata": {},
     "output_type": "execute_result"
    }
   ],
   "source": [
    "model_list[-2]"
   ]
  },
  {
   "cell_type": "code",
   "execution_count": 166,
   "metadata": {},
   "outputs": [
    {
     "data": {
      "text/plain": [
       "True"
      ]
     },
     "execution_count": 166,
     "metadata": {},
     "output_type": "execute_result"
    }
   ],
   "source": [
    "use_regularized"
   ]
  },
  {
   "cell_type": "code",
   "execution_count": 12,
   "metadata": {},
   "outputs": [],
   "source": [
    "use_regularized = False\n",
    "model2 = torch.load(\"../../acd/dsets/sst/model1.pt\", map_location=torch.device(0))"
   ]
  },
  {
   "cell_type": "markdown",
   "metadata": {},
   "source": [
    "# Relation between output and explanation divergence\n"
   ]
  },
  {
   "cell_type": "code",
   "execution_count": 167,
   "metadata": {},
   "outputs": [],
   "source": [
    "def kl_divergence(in1, in2):\n",
    "    a= (in1-in2)\n",
    "    b = (torch.log(in1) - torch.log(in2))\n",
    "\n",
    "    return (a*b).sum(dim=1).cpu().detach().numpy()"
   ]
  },
  {
   "cell_type": "code",
   "execution_count": 168,
   "metadata": {},
   "outputs": [],
   "source": [
    "def softmax(scores):\n",
    "    return torch.nn.functional.softmax(torch.stack((scores[0].view(-1),scores[1].view(-1)), 1), dim = 1)\n"
   ]
  },
  {
   "cell_type": "code",
   "execution_count": 169,
   "metadata": {},
   "outputs": [],
   "source": [
    "criterion = nn.CrossEntropyLoss()"
   ]
  },
  {
   "cell_type": "code",
   "execution_count": 170,
   "metadata": {},
   "outputs": [
    {
     "data": {
      "text/plain": [
       "LSTMSentiment(\n",
       "  (embed): Embedding(18844, 300)\n",
       "  (lstm): LSTM(300, 128)\n",
       "  (hidden_to_label): Linear(in_features=128, out_features=2, bias=True)\n",
       ")"
      ]
     },
     "execution_count": 170,
     "metadata": {},
     "output_type": "execute_result"
    }
   ],
   "source": [
    "model1.eval()\n",
    "model2.eval()"
   ]
  },
  {
   "cell_type": "code",
   "execution_count": 171,
   "metadata": {},
   "outputs": [
    {
     "data": {
      "text/plain": [
       "tensor(37.4849, device='cuda:0')"
      ]
     },
     "execution_count": 171,
     "metadata": {},
     "output_type": "execute_result"
    }
   ],
   "source": [
    "(answer1 -answer2).abs().sum()"
   ]
  },
  {
   "cell_type": "code",
   "execution_count": 172,
   "metadata": {},
   "outputs": [
    {
     "name": "stdout",
     "output_type": "stream",
     "text": [
      "0\n",
      "1\n",
      "2\n",
      "3\n",
      "4\n",
      "5\n",
      "Is regularized True\n",
      "all, 0.0\n",
      "right, 0.0\n",
      "wrong, 0.0\n",
      "one_right, nan\n"
     ]
    },
    {
     "name": "stderr",
     "output_type": "stream",
     "text": [
      "/home/lauri/.conda/envs/gpu_usage/lib/python3.6/site-packages/ipykernel_launcher.py:47: RuntimeWarning: Mean of empty slice.\n"
     ]
    }
   ],
   "source": [
    "# Model 2\n",
    "dev_iter.init_epoch()\n",
    "\n",
    "# check out how two models differ\n",
    "len_data = len(dev)\n",
    "num_batches = 5\n",
    "len_data = num_batches*batch_size\n",
    "with torch.no_grad():\n",
    "    cur_idx = 0\n",
    "    output_div = np.zeros((len_data))\n",
    "    expl_div = np.zeros((len_data))\n",
    "    is_correct = np.zeros((2, len_data))\n",
    "    num_reps = 10\n",
    "    expl_penalty =0\n",
    "    ce_penalty = 0\n",
    "    for dev_batch_idx, dev_batch in enumerate(train_iter):\n",
    "        print(dev_batch_idx)\n",
    "        if dev_batch_idx >=num_batches:\n",
    "            break\n",
    "        batch_length, batch_num = dev_batch.text.shape\n",
    "        answer1, answer2 = model1(dev_batch), model2(dev_batch)\n",
    "\n",
    "        output_div[cur_idx:cur_idx+batch_num] = kl_divergence(torch.nn.functional.softmax(answer1, dim = 1), torch.nn.functional.softmax(answer2, dim = 1))\n",
    "        for i in range(num_reps):\n",
    "            start = np.random.randint(batch_length-1)\n",
    "            stop = start + np.random.randint(batch_length-start)\n",
    "\n",
    "            softmax_mod1 =softmax(cd.cd_batch_text(dev_batch, model1, start, stop))\n",
    "            softmax_mod2 =softmax(cd.cd_batch_text(dev_batch, model2, start, stop))\n",
    "\n",
    "            expl_div[cur_idx:cur_idx+batch_num] +=   kl_divergence(softmax_mod1, softmax_mod2).reshape(2, dev_batch.text.shape[1]).sum(axis =0)\n",
    "            \n",
    "            expl_penalty +=(cd.cd_penalty(dev_batch, model1, model2, start, stop))\n",
    "            ce_penalty +=criterion(answer1, dev_batch.label).cpu().numpy() \n",
    "\n",
    "        is_correct[0, cur_idx:cur_idx+batch_num]=(((torch.max(answer1, 1)[1].view(dev_batch.label.size()).data == dev_batch.label.data))).cpu().numpy()\n",
    "        is_correct[1, cur_idx:cur_idx+batch_num]=(((torch.max(answer2, 1)[1].view(dev_batch.label.size()).data == dev_batch.label.data))).cpu().numpy()\n",
    "        cur_idx+=batch_num\n",
    "    expl_div /=num_reps\n",
    "    insecure_idx = np.where(is_correct.mean(axis=0) ==0.5)[0]\n",
    "    right_secure_idx =np.where(is_correct.mean(axis=0) ==1)[0]\n",
    "    wrong_secure_idx =np.where(is_correct.mean(axis=0) ==0)[0]\n",
    "    print(\"Is regularized\", use_regularized)\n",
    "    print(\"all, {}\".format(expl_div.mean().round(decimals=2)))\n",
    "    print(\"right, {}\".format(expl_div[right_secure_idx].mean().round(decimals=2)))\n",
    "    print(\"wrong, {}\".format(expl_div[wrong_secure_idx].mean().round(decimals=2)))\n",
    "    print(\"one_right, {}\".format(expl_div[insecure_idx].mean().round(decimals=2)))"
   ]
  },
  {
   "cell_type": "code",
   "execution_count": 157,
   "metadata": {},
   "outputs": [
    {
     "data": {
      "text/plain": [
       "tensor(1.8636, device='cuda:0')"
      ]
     },
     "execution_count": 157,
     "metadata": {},
     "output_type": "execute_result"
    }
   ],
   "source": [
    "expl_penalty"
   ]
  },
  {
   "cell_type": "code",
   "execution_count": 158,
   "metadata": {},
   "outputs": [
    {
     "data": {
      "text/plain": [
       "7.105624824762344"
      ]
     },
     "execution_count": 158,
     "metadata": {},
     "output_type": "execute_result"
    }
   ],
   "source": [
    "ce_penalty"
   ]
  },
  {
   "cell_type": "code",
   "execution_count": 159,
   "metadata": {},
   "outputs": [],
   "source": [
    "output_div -= output_div.mean()\n",
    "output_div/=output_div.std()\n",
    "expl_div -=expl_div.mean()\n",
    "expl_div /=expl_div.std()"
   ]
  },
  {
   "cell_type": "code",
   "execution_count": 160,
   "metadata": {
    "scrolled": false
   },
   "outputs": [
    {
     "data": {
      "image/png": "[encoded data removed]",
      "text/plain": [
       "<Figure size 720x720 with 2 Axes>"
      ]
     },
     "metadata": {
      "needs_background": "light"
     },
     "output_type": "display_data"
    }
   ],
   "source": [
    "\n",
    "\n",
    "# equivalent but more general\n",
    "fig = plt.figure(figsize=(10,10))\n",
    "ax1=plt.subplot(2, 1, 1)\n",
    "\n",
    "coloring = is_correct.mean(axis=0)\n",
    "# coloring[np.where(coloring==1)[:10]] =.1\n",
    "ax1.scatter(output_div, expl_div, c= coloring)\n",
    "plt.ylabel(\"Explanation divergence \")\n",
    "plt.xlabel(\"Output divergence\")\n",
    "plt.title(\"Explanation vs. output - regularized Cor: {}\".format(np.cov(output_div, expl_div)[0,1].round(decimals=2)));\n",
    "plt.savefig(\"Unreg_networks\")\n",
    "# add a subplot with no frame\n",
    "ax2=plt.subplot(2,1,2)\n",
    "\n",
    "ax2.scatter(output_div[insecure_idx], expl_div[insecure_idx], c= is_correct[0][insecure_idx])\n",
    "\n",
    "plt.ylabel(\"Explanation divergence \")\n",
    "plt.xlabel(\"Output divergence\")\n",
    "plt.title(\"Explanation vs. output (one is wrong)  Cor: {}\".format(np.corrcoef(output_div[insecure_idx], expl_div[insecure_idx])[0,1].round(decimals=2)));"
   ]
  },
  {
   "cell_type": "code",
   "execution_count": 161,
   "metadata": {},
   "outputs": [
    {
     "name": "stdout",
     "output_type": "stream",
     "text": [
      "Correlation\n",
      "Both right, 0.27\n",
      "one right, 0.06\n",
      "none right, 0.92\n"
     ]
    }
   ],
   "source": [
    "print(\"Correlation\")\n",
    "print(\"Both right, {}\".format(np.corrcoef(output_div[right_secure_idx], expl_div[right_secure_idx])[0,1].round(decimals=2)))\n",
    "print(\"one right, {}\".format(np.corrcoef(output_div[insecure_idx], expl_div[insecure_idx])[0,1].round(decimals=2)))\n",
    "print(\"none right, {}\".format(np.corrcoef(output_div[wrong_secure_idx], expl_div[wrong_secure_idx])[0,1].round(decimals=2)))"
   ]
  },
  {
   "cell_type": "code",
   "execution_count": 162,
   "metadata": {
    "scrolled": true
   },
   "outputs": [
    {
     "name": "stdout",
     "output_type": "stream",
     "text": [
      "Divergence between\n",
      "Both right, -0.03\n",
      "one right, 1.34\n",
      "none right, 0.07\n"
     ]
    }
   ],
   "source": [
    "print(\"Divergence between\")\n",
    "\n",
    "print(\"Both right, {}\".format(expl_div[right_secure_idx].mean().round(decimals=2)))\n",
    "print(\"one right, {}\".format(expl_div[insecure_idx].mean().round(decimals=2)))\n",
    "print(\"none right, {}\".format(expl_div[wrong_secure_idx].mean().round(decimals=2)))\n"
   ]
  },
  {
   "cell_type": "code",
   "execution_count": 73,
   "metadata": {},
   "outputs": [
    {
     "data": {
      "text/plain": [
       "62"
      ]
     },
     "execution_count": 73,
     "metadata": {},
     "output_type": "execute_result"
    }
   ],
   "source": [
    "str(\"trial\"+str(np.random.randint(100)))"
   ]
  },
  {
   "cell_type": "code",
   "execution_count": 75,
   "metadata": {},
   "outputs": [
    {
     "data": {
      "text/plain": [
       "str"
      ]
     },
     "execution_count": 75,
     "metadata": {},
     "output_type": "execute_result"
    }
   ],
   "source": [
    "type(os.path.join(\"Test\", \"FF\"))"
   ]
  },
  {
   "cell_type": "code",
   "execution_count": null,
   "metadata": {},
   "outputs": [],
   "source": []
  }
 ],
 "metadata": {
  "kernelspec": {
   "display_name": "Python 3",
   "language": "python",
   "name": "python3"
  },
  "language_info": {
   "codemirror_mode": {
    "name": "ipython",
    "version": 3
   },
   "file_extension": ".py",
   "mimetype": "text/x-python",
   "name": "python",
   "nbconvert_exporter": "python",
   "pygments_lexer": "ipython3",
   "version": "3.7.0"
  }
 },
 "nbformat": 4,
 "nbformat_minor": 2
}
