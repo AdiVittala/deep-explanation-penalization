{
 "cells": [
  {
   "cell_type": "markdown",
   "metadata": {},
   "source": [
    "Make decoy datasets \n",
    "* input comprised of two sentences with agreeing sentiments in training but disagreeing in test (\"This movie is very good. I like it a lot\" vs \"This movie is very good. The director must have been brain-dead\")\n",
    "* Have random agreeing words in train but disageee in test\n",
    "* Key idea: structured noise \n"
   ]
  },
  {
   "cell_type": "code",
   "execution_count": 4,
   "metadata": {},
   "outputs": [],
   "source": [
    "%matplotlib inline\n",
    "import os\n",
    "from os.path import join as oj\n",
    "import sys, time\n",
    "\n",
    "import csv\n",
    "\n",
    "import numpy as np\n",
    "import matplotlib.pyplot as plt\n",
    "from tqdm import tqdm\n",
    "from copy import deepcopy\n",
    "import pickle as pkl\n",
    "import pandas as pd\n",
    "from os.path import join\n",
    "import torch\n",
    "import torch\n",
    "import numpy as np\n",
    "import seaborn as sns\n",
    "from copy import deepcopy\n",
    "from model import LSTMSentiment\n",
    "import matplotlib.pyplot as plt\n",
    "from os.path import isdir\n",
    "\n",
    "\n",
    "# check out how two models differ\n",
    "import torch.optim as O\n",
    "import torch.nn as nn\n",
    "from torchtext import data\n",
    "from torchtext import datasets\n",
    "from tqdm import tqdm_notebook, tqdm \n",
    "import pickle"
   ]
  },
  {
   "cell_type": "code",
   "execution_count": 5,
   "metadata": {},
   "outputs": [],
   "source": [
    "np.random.seed(123)"
   ]
  },
  {
   "cell_type": "code",
   "execution_count": 6,
   "metadata": {},
   "outputs": [],
   "source": [
    "inputs = data.Field(lower= True)\n",
    "answers = data.Field(sequential=False, unk_token=None)\n",
    "pos_train, pos_dev, pos_test = datasets.SST.splits(inputs, answers, fine_grained=False, train_subtrees=True,\n",
    "                                       filter_pred=lambda ex: ex.label == 'positive')"
   ]
  },
  {
   "cell_type": "code",
   "execution_count": 7,
   "metadata": {},
   "outputs": [],
   "source": [
    "neg_train, neg_dev, neg_test = datasets.SST.splits(inputs, answers, fine_grained=False, train_subtrees=True,\n",
    "                                       filter_pred=lambda ex: ex.label == 'negative')"
   ]
  },
  {
   "cell_type": "code",
   "execution_count": 8,
   "metadata": {},
   "outputs": [],
   "source": [
    "def get_appended_dataset( dataset, stop_word):\n",
    "    # load test set\n",
    "    list_of_idx = np.arange(len(test))\n",
    "    list_of_idx = np.random.permutation(list_of_idx)\n",
    "    list_of_new_train_pos =[]\n",
    "    for i in tqdm_notebook(range(len(dev))):\n",
    "        list_of_new_train_pos.append(' '.join(test[i].text)+ ' '+' '.join(test[list_of_idx[i]].text))\n",
    "    return list_of_new_train_pos"
   ]
  },
  {
   "cell_type": "code",
   "execution_count": 59,
   "metadata": {
    "scrolled": true
   },
   "outputs": [
    {
     "data": {
      "application/vnd.jupyter.widget-view+json": {
       "model_id": "d0938f07a05f429a967d02a43a64428d",
       "version_major": 2,
       "version_minor": 0
      },
      "text/plain": [
       "HBox(children=(IntProgress(value=0, max=444), HTML(value='')))"
      ]
     },
     "metadata": {},
     "output_type": "display_data"
    },
    {
     "name": "stdout",
     "output_type": "stream",
     "text": [
      "\n"
     ]
    },
    {
     "data": {
      "application/vnd.jupyter.widget-view+json": {
       "model_id": "8f2b6c46afcd45a4bec740ebe91dc8c0",
       "version_major": 2,
       "version_minor": 0
      },
      "text/plain": [
       "HBox(children=(IntProgress(value=0, max=444), HTML(value='')))"
      ]
     },
     "metadata": {},
     "output_type": "display_data"
    },
    {
     "name": "stdout",
     "output_type": "stream",
     "text": [
      "\n"
     ]
    }
   ],
   "source": [
    "my_positive_list = get_appended_dataset( pos_train)\n",
    "my_neg_list = get_appended_dataset(neg_train)\n",
    "file_path = \"../data\"\n",
    "file_name = 'train_appended_SST.csv'\n"
   ]
  },
  {
   "cell_type": "code",
   "execution_count": 60,
   "metadata": {},
   "outputs": [],
   "source": [
    "with open(os.path.join(file_path, file_name), 'w') as csv_file:\n",
    "    writer = csv.writer(csv_file)\n",
    "    for line in my_positive_list:\n",
    "        writer.writerow((line,0))\n",
    "    for line in my_neg_list:\n",
    "        writer.writerow((line,1))\n"
   ]
  },
  {
   "cell_type": "code",
   "execution_count": 68,
   "metadata": {},
   "outputs": [],
   "source": [
    "# for dev, this will be with conflicting emotions\n",
    "def get_conflicting( true, conflict):\n",
    "    list_of_new_train = []\n",
    "    for i in range(len(true)):\n",
    "        idx_of_conflict =np.random.randint(len(conflict))\n",
    "        list_of_new_train.append(' '.join(true[i].text) + ' '+' '.join(conflict[idx_of_conflict].text) )\n",
    "    return list_of_new_train"
   ]
  },
  {
   "cell_type": "code",
   "execution_count": 69,
   "metadata": {
    "scrolled": true
   },
   "outputs": [],
   "source": [
    "my_positive_list = get_conflicting( pos_dev, neg_dev)\n",
    "my_neg_list = get_conflicting(neg_dev, pos_dev)\n",
    "file_path = \"../data\"\n",
    "file_name = 'dev_appended_SST.csv'\n",
    "with open(os.path.join(file_path, file_name), 'w') as csv_file:\n",
    "    writer = csv.writer(csv_file)\n",
    "    for line in my_positive_list:\n",
    "        writer.writerow((line,0))\n",
    "    for line in my_neg_list:\n",
    "        writer.writerow((line,1))\n"
   ]
  },
  {
   "cell_type": "code",
   "execution_count": 70,
   "metadata": {
    "scrolled": true
   },
   "outputs": [],
   "source": [
    "my_positive_list = get_conflicting( pos_test, neg_test)\n",
    "my_neg_list = get_conflicting(neg_test, pos_test)\n",
    "file_path = \"../data\"\n",
    "file_name = 'test_appended_SST.csv'\n",
    "with open(os.path.join(file_path, file_name), 'w') as csv_file:\n",
    "    writer = csv.writer(csv_file)\n",
    "    for line in my_positive_list:\n",
    "        writer.writerow((line,0))\n",
    "    for line in my_neg_list:\n",
    "        writer.writerow((line,1))\n"
   ]
  },
  {
   "cell_type": "code",
   "execution_count": null,
   "metadata": {},
   "outputs": [],
   "source": []
  }
 ],
 "metadata": {
  "kernelspec": {
   "display_name": "Python (gpu_usage)",
   "language": "python",
   "name": "gpu_usage"
  },
  "language_info": {
   "codemirror_mode": {
    "name": "ipython",
    "version": 3
   },
   "file_extension": ".py",
   "mimetype": "text/x-python",
   "name": "python",
   "nbconvert_exporter": "python",
   "pygments_lexer": "ipython3",
   "version": "3.6.6"
  }
 },
 "nbformat": 4,
 "nbformat_minor": 2
}
