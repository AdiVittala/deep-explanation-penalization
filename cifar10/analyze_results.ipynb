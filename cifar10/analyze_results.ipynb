{
 "cells": [
  {
   "cell_type": "code",
   "execution_count": 19,
   "metadata": {},
   "outputs": [
    {
     "name": "stdout",
     "output_type": "stream",
     "text": [
      "The autoreload extension is already loaded. To reload it, use:\n",
      "  %reload_ext autoreload\n"
     ]
    }
   ],
   "source": [
    "\n",
    "import sys\n",
    "import numpy as np\n",
    "\n",
    "import pickle as pkl\n",
    "import torch\n",
    "from os.path import join as oj\n",
    "%matplotlib inline\n",
    "%load_ext autoreload\n",
    "%autoreload 2\n",
    "import os\n",
    "from os.path import join as oj\n",
    "import torch.utils.data as utils\n",
    "import sys, time\n",
    "from torch.utils.data import TensorDataset, ConcatDataset\n",
    "import pickle as pkl\n",
    "import pandas as pd\n",
    "import seaborn as sns\n",
    "import matplotlib.pyplot as plt\n",
    "import numpy as np\n",
    "pd.set_option('precision', 3)"
   ]
  },
  {
   "cell_type": "code",
   "execution_count": 20,
   "metadata": {},
   "outputs": [],
   "source": [
    "save_path = \"../results_for_export\"\n",
    "trained_model_folder = '../models/cifar10_equal_loss'\n",
    "fnames = [oj(trained_model_folder, fname) for fname in os.listdir(trained_model_folder)]\n",
    "\n",
    "results_list = [pd.Series(pkl.load(open(fname, \"rb\"))) for fname in (fnames)] \n",
    "results = pd.concat(results_list, axis=1).T.infer_objects() "
   ]
  },
  {
   "cell_type": "code",
   "execution_count": 21,
   "metadata": {},
   "outputs": [],
   "source": [
    "results['final_acc'] = [x[-1] for x in results['accs_test']] \n",
    "results['final_acc_train'] = [x[-1] for x in results['accs_train']]\n",
    "results['final_cd'] = [x[-1] for x in results['cd']]\n",
    "results['final_test_loss'] = [x[-1] for x in results['losses_test']]\n",
    "results['final_train_loss'] = [min(x) for x in results['losses_train']]\n"
   ]
  },
  {
   "cell_type": "code",
   "execution_count": 22,
   "metadata": {},
   "outputs": [],
   "source": [
    "results.reset_index(drop=True, inplace=True)\n",
    "results_save = results[['regularizer_rate','final_acc','final_acc_train','final_test_loss', 'final_cd', 'method','seed' ]].sort_values(by = ['regularizer_rate'])"
   ]
  },
  {
   "cell_type": "code",
   "execution_count": 37,
   "metadata": {},
   "outputs": [],
   "source": [
    "\n",
    "from model import Net\n",
    "import pickle\n",
    "with open('data_stylized2.pkl', 'rb') as fo:\n",
    "    data_dict = pickle.load(fo, encoding='bytes')"
   ]
  },
  {
   "cell_type": "code",
   "execution_count": 38,
   "metadata": {},
   "outputs": [],
   "source": [
    "x_style =  torch.tensor((data_dict['cifar_stylized']-0.5)/0.5).float()\n",
    "x= torch.tensor((data_dict['cifar']-0.5)/0.5).float()\n",
    "y= torch.tensor(np.asarray(data_dict['labels']))"
   ]
  },
  {
   "cell_type": "code",
   "execution_count": 40,
   "metadata": {},
   "outputs": [],
   "source": [
    "stylized_set  = TensorDataset(x_style,y)\n",
    "stylized_loader = torch.utils.data.DataLoader(stylized_set, batch_size=256, \n",
    "                                             shuffle=False, num_workers=2)\n",
    "test_set = TensorDataset(x,y)\n",
    "test_loader = torch.utils.data.DataLoader(test_set, batch_size=256, \n",
    "                                             shuffle=False, num_workers=2)"
   ]
  },
  {
   "cell_type": "code",
   "execution_count": 41,
   "metadata": {},
   "outputs": [],
   "source": [
    "def test( model,  data_loader, device = 'cuda'):\n",
    "    model.eval()\n",
    "    test_loss = 0\n",
    "    correct = 0\n",
    "    with torch.no_grad():\n",
    "        for data, target in data_loader:\n",
    "            data, target = data.to(device), target.to(device)\n",
    "            output = model(data)\n",
    "            pred = output.argmax(dim=1, keepdim=True) \n",
    "            correct += pred.eq(target.view_as(pred)).sum().item()\n",
    "    return 100. * correct / len(data_loader.dataset)"
   ]
  },
  {
   "cell_type": "code",
   "execution_count": 42,
   "metadata": {},
   "outputs": [],
   "source": [
    "\n",
    "my_net= Net()\n",
    "my_net = my_net.eval().cuda()"
   ]
  },
  {
   "cell_type": "code",
   "execution_count": 43,
   "metadata": {},
   "outputs": [],
   "source": [
    "style_list = []\n",
    "test_list =[]\n",
    "for i in range(len(results)):\n",
    "\n",
    "    my_net.load_state_dict(results.iloc[i]['model_weights'])\n",
    "    style_list.append(test(my_net, stylized_loader))\n",
    "    test_list.append(test(my_net, test_loader))\n",
    "results_save['style_acc'] = [x for x in style_list]\n",
    "results_save['test_acc'] = [x for x in test_list]"
   ]
  },
  {
   "cell_type": "code",
   "execution_count": 44,
   "metadata": {},
   "outputs": [
    {
     "data": {
      "text/html": [
       "<div>\n",
       "<style scoped>\n",
       "    .dataframe tbody tr th:only-of-type {\n",
       "        vertical-align: middle;\n",
       "    }\n",
       "\n",
       "    .dataframe tbody tr th {\n",
       "        vertical-align: top;\n",
       "    }\n",
       "\n",
       "    .dataframe thead th {\n",
       "        text-align: right;\n",
       "    }\n",
       "</style>\n",
       "<table border=\"1\" class=\"dataframe\">\n",
       "  <thead>\n",
       "    <tr style=\"text-align: right;\">\n",
       "      <th></th>\n",
       "      <th></th>\n",
       "      <th>style_acc</th>\n",
       "      <th>test_acc</th>\n",
       "      <th>final_acc</th>\n",
       "      <th>final_acc_train</th>\n",
       "      <th>final_test_loss</th>\n",
       "    </tr>\n",
       "    <tr>\n",
       "      <th>method</th>\n",
       "      <th>regularizer_rate</th>\n",
       "      <th></th>\n",
       "      <th></th>\n",
       "      <th></th>\n",
       "      <th></th>\n",
       "      <th></th>\n",
       "    </tr>\n",
       "  </thead>\n",
       "  <tbody>\n",
       "    <tr>\n",
       "      <th rowspan=\"4\" valign=\"top\">CDEP</th>\n",
       "      <th>0.000e+00</th>\n",
       "      <td>53.333</td>\n",
       "      <td>76.667</td>\n",
       "      <td>76.607</td>\n",
       "      <td>78.516</td>\n",
       "      <td>0.684</td>\n",
       "    </tr>\n",
       "    <tr>\n",
       "      <th>1.000e-28</th>\n",
       "      <td>56.000</td>\n",
       "      <td>76.000</td>\n",
       "      <td>72.840</td>\n",
       "      <td>87.500</td>\n",
       "      <td>0.814</td>\n",
       "    </tr>\n",
       "    <tr>\n",
       "      <th>1.000e+00</th>\n",
       "      <td>59.000</td>\n",
       "      <td>77.333</td>\n",
       "      <td>72.840</td>\n",
       "      <td>87.500</td>\n",
       "      <td>0.814</td>\n",
       "    </tr>\n",
       "    <tr>\n",
       "      <th>1.000e+01</th>\n",
       "      <td>55.000</td>\n",
       "      <td>79.000</td>\n",
       "      <td>72.840</td>\n",
       "      <td>87.500</td>\n",
       "      <td>0.814</td>\n",
       "    </tr>\n",
       "  </tbody>\n",
       "</table>\n",
       "</div>"
      ],
      "text/plain": [
       "                         style_acc  test_acc  final_acc  final_acc_train  \\\n",
       "method regularizer_rate                                                    \n",
       "CDEP   0.000e+00            53.333    76.667     76.607           78.516   \n",
       "       1.000e-28            56.000    76.000     72.840           87.500   \n",
       "       1.000e+00            59.000    77.333     72.840           87.500   \n",
       "       1.000e+01            55.000    79.000     72.840           87.500   \n",
       "\n",
       "                         final_test_loss  \n",
       "method regularizer_rate                   \n",
       "CDEP   0.000e+00                   0.684  \n",
       "       1.000e-28                   0.814  \n",
       "       1.000e+00                   0.814  \n",
       "       1.000e+01                   0.814  "
      ]
     },
     "execution_count": 44,
     "metadata": {},
     "output_type": "execute_result"
    }
   ],
   "source": [
    "concise_results = results_save.groupby(by = [ 'method','regularizer_rate']).mean()\n",
    "concise_results[[ 'style_acc', 'test_acc','final_acc','final_acc_train','final_test_loss', ]]"
   ]
  },
  {
   "cell_type": "code",
   "execution_count": null,
   "metadata": {},
   "outputs": [],
   "source": []
  }
 ],
 "metadata": {
  "kernelspec": {
   "display_name": "Python 3",
   "language": "python",
   "name": "python3"
  },
  "language_info": {
   "codemirror_mode": {
    "name": "ipython",
    "version": 3
   },
   "file_extension": ".py",
   "mimetype": "text/x-python",
   "name": "python",
   "nbconvert_exporter": "python",
   "pygments_lexer": "ipython3",
   "version": "3.7.5"
  }
 },
 "nbformat": 4,
 "nbformat_minor": 4
}
