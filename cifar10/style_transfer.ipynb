{
 "cells": [
  {
   "cell_type": "code",
   "execution_count": 1,
   "metadata": {},
   "outputs": [],
   "source": [
    "%load_ext autoreload\n",
    "%autoreload 2"
   ]
  },
  {
   "cell_type": "code",
   "execution_count": 3,
   "metadata": {},
   "outputs": [],
   "source": [
    "import torch\n",
    "import sys\n",
    "import matplotlib.pyplot as plt\n",
    "import torchvision\n",
    "import torchvision.transforms as transforms\n",
    "import torch.optim as optim\n",
    "import torch.nn.functional as F\n",
    "import sys\n",
    "sys.path.append('../src')\n",
    "import score_funcs\n",
    "import argparse\n",
    "import numpy as np\n",
    "from score_funcs import gradient_sum,eg_scores_2d,cdep\n",
    "import os\n",
    "import random\n",
    "from tqdm import tqdm\n",
    "import torch.nn as nn\n",
    "import pickle as pkl\n",
    "from copy import deepcopy\n",
    "\n",
    "from model import Net \n",
    "from skimage.transform import resize\n",
    "sys.path.append(\"../../pytorch-AdaIN\")\n",
    "import argparse\n",
    "from pathlib import Path\n",
    "from function import coral\n",
    "import torch\n",
    "import torch.nn as nn\n",
    "from PIL import Image\n",
    "from torchvision import transforms\n",
    "from torchvision.utils import save_image\n",
    "\n",
    "import net\n",
    "from function import adaptive_instance_normalization, coral\n"
   ]
  },
  {
   "cell_type": "code",
   "execution_count": 4,
   "metadata": {},
   "outputs": [],
   "source": [
    "def test_transform(size, crop):\n",
    "    transform_list = []\n",
    "    if size != 0:\n",
    "        transform_list.append(transforms.Resize(size))\n",
    "    if crop:\n",
    "        transform_list.append(transforms.CenterCrop(size))\n",
    "    transform_list.append(transforms.ToTensor())\n",
    "    transform = transforms.Compose(transform_list)\n",
    "    return transform\n",
    "\n",
    "\n",
    "def style_transfer(vgg, decoder, content, style, alpha=1.0,\n",
    "                   interpolation_weights=None):\n",
    "    assert (0.0 <= alpha <= 1.0)\n",
    "    content_f = vgg(content)\n",
    "    style_f = vgg(style)\n",
    "    if interpolation_weights:\n",
    "        _, C, H, W = content_f.size()\n",
    "        feat = torch.FloatTensor(1, C, H, W).zero_().to(device)\n",
    "        base_feat = adaptive_instance_normalization(content_f, style_f)\n",
    "        for i, w in enumerate(interpolation_weights):\n",
    "            feat = feat + w * base_feat[i:i + 1]\n",
    "        content_f = content_f[0:1]\n",
    "    else:\n",
    "        feat = adaptive_instance_normalization(content_f, style_f)\n",
    "    feat = feat * alpha + content_f * (1 - alpha)\n",
    "    return decoder(feat)\n"
   ]
  },
  {
   "cell_type": "code",
   "execution_count": 5,
   "metadata": {},
   "outputs": [],
   "source": [
    "device = torch.device(\"cuda\" if torch.cuda.is_available() else \"cpu\")\n",
    "decoder = net.decoder\n",
    "vgg = net.vgg\n",
    "\n",
    "decoder.eval()\n",
    "vgg.eval()\n",
    "\n",
    "decoder.load_state_dict(torch.load('models/decoder.pth'))\n",
    "vgg.load_state_dict(torch.load('models/vgg_normalised.pth'))\n",
    "vgg = nn.Sequential(*list(vgg.children())[:31])\n",
    "\n",
    "vgg.to(device);\n",
    "decoder.to(device);\n"
   ]
  },
  {
   "cell_type": "code",
   "execution_count": 14,
   "metadata": {},
   "outputs": [],
   "source": [
    "def test_transform(size, ):\n",
    "    transform_list = []\n",
    "    transform_list.append(transforms.ToPILImage())\n",
    "    if size != 0:\n",
    "        transform_list.append(transforms.Resize(size,interpolation = 1))\n",
    "\n",
    "    transform_list.append(transforms.ToTensor())\n",
    "    transform = transforms.Compose(transform_list)\n",
    "    return transform\n",
    "content_tf = test_transform(512,)"
   ]
  },
  {
   "cell_type": "code",
   "execution_count": 7,
   "metadata": {},
   "outputs": [],
   "source": [
    "CIFAR_NUMPY = './data/cifar-10-batches-py/test_batch' \n",
    "def unpickle(file):\n",
    "    import pickle\n",
    "    with open(file, 'rb') as fo:\n",
    "        dict = pickle.load(fo, encoding='bytes')\n",
    "    return dict\n",
    "CIFAR = unpickle(CIFAR_NUMPY)[b'data']\n",
    "CIFAR = CIFAR/255.0\n",
    "CIFAR = CIFAR.reshape((-1, 3, 32,32))\n",
    "def load_image_from_cifar(image_id):\n",
    "    \"\"\"This is to load the image from CIFAR numpy and pre-process.\n",
    "\n",
    "    :param image_id: An integer as the image id to load from CIFAR.\n",
    "    :return img: A PyTorch Tensor.\n",
    "    \"\"\"\n",
    "    image = CIFAR[image_id]\n",
    "\n",
    "\n",
    "    image = torch.from_numpy(image)\n",
    "    image = image.unsqueeze(0)  # Change from 3D to 4D\n",
    "    image = image.float()\n",
    "    return image\n"
   ]
  },
  {
   "cell_type": "code",
   "execution_count": 8,
   "metadata": {},
   "outputs": [
    {
     "data": {
      "text/plain": [
       "dict_keys([b'batch_label', b'labels', b'data', b'filenames'])"
      ]
     },
     "execution_count": 8,
     "metadata": {},
     "output_type": "execute_result"
    }
   ],
   "source": [
    "unpickle(CIFAR_NUMPY).keys()"
   ]
  },
  {
   "cell_type": "code",
   "execution_count": 16,
   "metadata": {},
   "outputs": [],
   "source": [
    "from tqdm import tqdm_notebook"
   ]
  },
  {
   "cell_type": "code",
   "execution_count": 41,
   "metadata": {
    "scrolled": true
   },
   "outputs": [
    {
     "data": {
      "application/vnd.jupyter.widget-view+json": {
       "model_id": "780fd96707174adb8b4844dfb60ba88a",
       "version_major": 2,
       "version_minor": 0
      },
      "text/plain": [
       "HBox(children=(IntProgress(value=0), HTML(value='')))"
      ]
     },
     "metadata": {},
     "output_type": "display_data"
    },
    {
     "name": "stdout",
     "output_type": "stream",
     "text": [
      "\n"
     ]
    }
   ],
   "source": [
    "num_imgs = 100\n",
    "CIFAR_stylized = np.empty_like(CIFAR[:num_imgs])\n",
    "np.random.seed(0)\n",
    "alpha = .75\n",
    "\n",
    "with torch.no_grad():\n",
    "    \n",
    "    for i in tqdm_notebook(range(len(CIFAR_stylized))):\n",
    "        style_img = load_image_from_cifar(np.random.choice(len(CIFAR)))\n",
    "        content_img = load_image_from_cifar(i)\n",
    "        \n",
    "        img = style_transfer(vgg, decoder, content_tf(content_img[0]).cuda().unsqueeze(0), content_tf(style_img[0]).cuda().unsqueeze(0),\n",
    "                                alpha).detach().cpu().numpy()[0].swapaxes(0,2)\n",
    "        CIFAR_stylized[i] = resize(img, (32,32,3),0).swapaxes(0,2)"
   ]
  },
  {
   "cell_type": "code",
   "execution_count": 42,
   "metadata": {},
   "outputs": [],
   "source": [
    "CIFAR_stylized[CIFAR_stylized <0] =0\n",
    "CIFAR_stylized[CIFAR_stylized >1] =1\n"
   ]
  },
  {
   "cell_type": "code",
   "execution_count": 43,
   "metadata": {},
   "outputs": [],
   "source": [
    "pickle_dict ={'labels': unpickle(CIFAR_NUMPY)[b'labels'][:num_imgs], 'cifar': CIFAR[:num_imgs],'cifar_stylized':CIFAR_stylized }\n",
    "pkl.dump(pickle_dict,open( \"data_stylized2.pkl\", \"wb\" ) )"
   ]
  },
  {
   "cell_type": "code",
   "execution_count": 50,
   "metadata": {},
   "outputs": [
    {
     "data": {
      "image/png": "[encoded data removed]",
      "text/plain": [
       "<Figure size 576x144 with 3 Axes>"
      ]
     },
     "metadata": {
      "needs_background": "light"
     },
     "output_type": "display_data"
    }
   ],
   "source": [
    "fig, axes = plt.subplots(ncols = 3, figsize = (8,2))\n",
    "num +=1\n",
    "axes[0].imshow(CIFAR[num].swapaxes(0,2).swapaxes(0,1));\n",
    "axes[1].imshow(style_img.cpu().numpy()[0].swapaxes(0,2).swapaxes(0,1));\n",
    "axes[2].imshow(CIFAR_stylized[num].swapaxes(0,2).swapaxes(0,1));"
   ]
  },
  {
   "cell_type": "code",
   "execution_count": null,
   "metadata": {},
   "outputs": [],
   "source": []
  }
 ],
 "metadata": {
  "kernelspec": {
   "display_name": "Python 3",
   "language": "python",
   "name": "python3"
  },
  "language_info": {
   "codemirror_mode": {
    "name": "ipython",
    "version": 3
   },
   "file_extension": ".py",
   "mimetype": "text/x-python",
   "name": "python",
   "nbconvert_exporter": "python",
   "pygments_lexer": "ipython3",
   "version": "3.6.6"
  }
 },
 "nbformat": 4,
 "nbformat_minor": 2
}
