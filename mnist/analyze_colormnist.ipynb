{
 "cells": [
  {
   "cell_type": "markdown",
   "metadata": {},
   "source": [
    "To show this demo, first run\n",
    "\n",
    "code/ColorMNIST/00_make_data.py\n",
    "\n",
    "to create the biased MNIST dataset"
   ]
  },
  {
   "cell_type": "code",
   "execution_count": null,
   "metadata": {},
   "outputs": [],
   "source": [
    "\n",
    "import sys\n",
    "import numpy as np\n",
    "\n",
    "import pickle as pkl\n",
    "import torch\n",
    "from os.path import join as oj\n",
    "%matplotlib inline\n",
    "%load_ext autoreload\n",
    "%autoreload 2\n",
    "import os\n",
    "from os.path import join as oj\n",
    "import torch.utils.data as utils\n",
    "import sys, time\n",
    "import pickle as pkl\n",
    "import pandas as pd\n",
    "import seaborn as sns\n",
    "import matplotlib.pyplot as plt\n",
    "import numpy as np\n",
    "pd.set_option('precision', 3)"
   ]
  },
  {
   "cell_type": "code",
   "execution_count": null,
   "metadata": {},
   "outputs": [],
   "source": [
    "save_path = \"../results_for_export\"\n",
    "x_train = np.load(oj(\"../data/ColorMNIST\", \"train_x.npy\"))/255.0\n",
    "y_train = np.load(oj(\"../data/ColorMNIST\", \"train_y.npy\"))\n",
    "x_test = np.load(oj(\"../data/ColorMNIST\", \"test_x.npy\"))/255.0\n",
    "y_test = np.load(oj(\"../data/ColorMNIST\", \"test_y.npy\"))"
   ]
  },
  {
   "cell_type": "code",
   "execution_count": null,
   "metadata": {},
   "outputs": [],
   "source": [
    "fig, axes = plt.subplots(nrows= 2, figsize = (20, 4))\n",
    "indices = []\n",
    "for i in range(10):\n",
    "    indices.append(np.where(y_train ==i)[0][0])\n",
    "ex_imgs = np.hstack(x_train[np.asarray(indices)].swapaxes(1,3).swapaxes(1,2)) \n",
    "axes[0].imshow(ex_imgs);\n",
    "axes[0].set_ylabel(\"Training\", fontsize = 25)\n",
    "indices = []\n",
    "for i in range(10):\n",
    "    indices.append(np.where(y_test ==i)[0][0])\n",
    "ex_imgs = np.hstack(x_test[np.asarray(indices)].swapaxes(1,3).swapaxes(1,2)) \n",
    "axes[1].imshow(ex_imgs);\n",
    "axes[1].set_xticks([])\n",
    "axes[1].set_yticks([])\n",
    "axes[0].set_xticks([])\n",
    "axes[0].set_yticks([])\n",
    "axes[1].set_ylabel(\"Test\", fontsize = 25)\n",
    "# fig.savefig(oj(save_path, \"ColorMNIST_examples\"))\n"
   ]
  },
  {
   "cell_type": "markdown",
   "metadata": {},
   "source": [
    "Now we train a neural network with and without CDEP on this data. To do this, run\n",
    "\n",
    "code/ColorMNIST/02_make_demo.py \n",
    "\n",
    "with GPU enabled (The code was only tested on GPU and may not work on CPU).\n",
    "\n",
    "This will train without any regularization and with CDEP lambda of 5000."
   ]
  },
  {
   "cell_type": "code",
   "execution_count": null,
   "metadata": {},
   "outputs": [],
   "source": [
    "trained_model_folder = '../models/ColorMNIST_test' #the models are saved in this folder\n",
    "fnames = [oj(trained_model_folder, fname) for fname in os.listdir(trained_model_folder)]\n",
    "results_list = [pd.Series(pkl.load(open(fname, \"rb\"))) for fname in (fnames)] \n",
    "results = pd.concat(results_list, axis=1).T.infer_objects() "
   ]
  },
  {
   "cell_type": "code",
   "execution_count": null,
   "metadata": {},
   "outputs": [],
   "source": [
    "sys.path.append('./ColorMNIST')\n",
    "from model import Net\n",
    "def test( model, test_loader,):\n",
    "    model.eval()\n",
    "    test_loss = 0\n",
    "    correct = 0\n",
    "    with torch.no_grad():\n",
    "        for data, target in test_loader:\n",
    "            data, target = data.to(0), target.to(0)\n",
    "            output = model(data)\n",
    "            pred = output.argmax(dim=1, keepdim=True) \n",
    "            correct += pred.eq(target.view_as(pred).long()).sum().item()\n",
    "\n",
    "    return correct/len(test_loader.dataset)*100\n",
    "model = Net();\n",
    "model.cuda();"
   ]
  },
  {
   "cell_type": "code",
   "execution_count": null,
   "metadata": {},
   "outputs": [],
   "source": [
    "x_test -= x_test.mean(axis= (0,2,3) )[None, :, None, None,] #normally this happens with the mean and std of the training set, i.e. a fixed value\n",
    "x_test /= x_test.std(axis= (0,2,3) )[None, :, None, None,]\n",
    "\n",
    "val_x_tensor = torch.Tensor(x_test)\n",
    "val_y_tensor = torch.Tensor(y_test)\n",
    "val_dataset = utils.TensorDataset(val_x_tensor,val_y_tensor)\n",
    "val_loader = utils.DataLoader(val_dataset,\n",
    "        batch_size=1000, shuffle=True) "
   ]
  },
  {
   "cell_type": "code",
   "execution_count": null,
   "metadata": {},
   "outputs": [],
   "source": [
    "acc_list = []\n",
    "for i in range(len(results)):\n",
    "    model.load_state_dict(results['model_weights'][i])\n",
    "    acc_list.append(test(model, val_loader))\n",
    "results['Test accuracy'] = [x for x in acc_list]"
   ]
  },
  {
   "cell_type": "code",
   "execution_count": null,
   "metadata": {},
   "outputs": [],
   "source": [
    "results[['regularizer_rate','Test accuracy',]]"
   ]
  },
  {
   "cell_type": "markdown",
   "metadata": {},
   "source": [
    "Regularization with CDEP increases the accuracy on the (inversely biased with color) test set."
   ]
  }
 ],
 "metadata": {
  "kernelspec": {
   "display_name": "Python 3",
   "language": "python",
   "name": "python3"
  },
  "language_info": {
   "codemirror_mode": {
    "name": "ipython",
    "version": 3
   },
   "file_extension": ".py",
   "mimetype": "text/x-python",
   "name": "python",
   "nbconvert_exporter": "python",
   "pygments_lexer": "ipython3",
   "version": "3.6.10"
  }
 },
 "nbformat": 4,
 "nbformat_minor": 2
}
