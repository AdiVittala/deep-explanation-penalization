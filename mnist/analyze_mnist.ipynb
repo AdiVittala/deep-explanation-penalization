{
 "cells": [
  {
   "cell_type": "code",
   "execution_count": null,
   "metadata": {},
   "outputs": [],
   "source": [
    "%matplotlib inline\n",
    "import os\n",
    "from os.path import join as oj\n",
    "import sys, time\n",
    "import pickle as pkl\n",
    "import pandas as pd\n",
    "import seaborn as sns\n",
    "import matplotlib.pyplot as plt\n",
    "import numpy as np\n",
    "pd.set_option('precision', 3)"
   ]
  },
  {
   "cell_type": "code",
   "execution_count": null,
   "metadata": {
    "scrolled": false
   },
   "outputs": [],
   "source": [
    "save_path = \"../results_for_export\"\n",
    "trained_model_folder = '../models/ColorMNIST'\n",
    "fnames = [oj(trained_model_folder, fname) for fname in os.listdir(trained_model_folder)]\n",
    "\n",
    "results_list = [pd.Series(pkl.load(open(fname, \"rb\"))) for fname in (fnames)] \n",
    "results = pd.concat(results_list, axis=1).T.infer_objects() "
   ]
  },
  {
   "cell_type": "code",
   "execution_count": null,
   "metadata": {},
   "outputs": [],
   "source": [
    "results['acc_dev'] = [max(x) for x in results['accs_dev']] \n",
    "results['acc_train'] = [max(x) for x in results['accs_train']]\n"
   ]
  },
  {
   "cell_type": "code",
   "execution_count": null,
   "metadata": {},
   "outputs": [],
   "source": [
    "results.reset_index(drop=True, inplace=True)\n",
    "results_save = results[['regularizer_rate', 'acc_train' ,'acc_dev','acc_test', 'method', 'dataset']].sort_values(by = ['regularizer_rate'])"
   ]
  },
  {
   "cell_type": "code",
   "execution_count": null,
   "metadata": {
    "scrolled": false
   },
   "outputs": [],
   "source": [
    "concise_results = results_save.groupby(by = ['dataset', 'method','regularizer_rate']).mean()\n",
    "# concise_results.columns = ['Train accuracy','Dev accuracy', 'Test accuracy', ]\n",
    "concise_results"
   ]
  },
  {
   "cell_type": "code",
   "execution_count": null,
   "metadata": {},
   "outputs": [],
   "source": [
    "plot = sns.lineplot(x ='regularizer_rate' , y='acc_test', data = results_save[results_save.method == 'CDEP'],label=\"CDEP\",legend = \"brief\"  );\n",
    "plot = sns.lineplot(x ='regularizer_rate' , y='acc_test', data = results_save[results_save.method == 'Grad'], label=\"RRR\" );\n",
    "plot = sns.lineplot(x ='regularizer_rate' , y='acc_test', data = results_save[results_save.method == 'ExpectedGrad'], label=\"Expected Gradients\");\n",
    "plot = sns.lineplot(x ='regularizer_rate' , y='acc_test', data = results_save[results_save.method == 'EGradients'], label=\"Expected Gradients\");\n",
    "plot.set(xscale=\"log\")\n",
    "plot.set_xlabel(\"Regularization strength\")\n",
    "plot.set_ylabel(\"Test Accuracy\")\n",
    "plot.set_title(\"\");\n",
    "fig  = plot.get_figure()\n",
    "fig.tight_layout()\n",
    "# fig.savefig(oj(save_path,\"ColorMNIST_results\"))\n",
    "plt.show()"
   ]
  },
  {
   "cell_type": "code",
   "execution_count": null,
   "metadata": {},
   "outputs": [],
   "source": []
  }
 ],
 "metadata": {
  "kernelspec": {
   "display_name": "Python 3",
   "language": "python",
   "name": "python3"
  },
  "language_info": {
   "codemirror_mode": {
    "name": "ipython",
    "version": 3
   },
   "file_extension": ".py",
   "mimetype": "text/x-python",
   "name": "python",
   "nbconvert_exporter": "python",
   "pygments_lexer": "ipython3",
   "version": "3.6.10"
  }
 },
 "nbformat": 4,
 "nbformat_minor": 2
}
