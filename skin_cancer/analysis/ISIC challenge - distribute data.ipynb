{
 "cells": [
  {
   "cell_type": "code",
   "execution_count": 33,
   "metadata": {},
   "outputs": [],
   "source": [
    "\n",
    "\n",
    "import csv\n",
    "img_path = \"./challenge\\ISIC_2019_Training_Input\\ISIC_2019_Training_Input\"\n",
    "meta_file = \"challenge\\ISIC_2019_Training_GroundTruth.csv\"\n",
    "list_of_meta = []\n",
    "with open(meta_file, newline='') as csvfile:\n",
    "    spamreader = csv.reader(csvfile, delimiter=',')\n",
    "    for row in spamreader:\n",
    "        list_of_meta.append(row)    \n",
    "#%%\n",
    "\n",
    "from shutil import copyfile\n",
    "from os.path import join as oj\n",
    "\n",
    "list_of_meta = list_of_meta[1:]\n",
    "from shutil import copyfile\n",
    "import numpy as np\n",
    "from os.path import isdir"
   ]
  },
  {
   "cell_type": "code",
   "execution_count": 38,
   "metadata": {},
   "outputs": [],
   "source": [
    "from os import listdir"
   ]
  },
  {
   "cell_type": "code",
   "execution_count": 35,
   "metadata": {},
   "outputs": [],
   "source": [
    "challenge_path = \"./challenge\""
   ]
  },
  {
   "cell_type": "code",
   "execution_count": 18,
   "metadata": {},
   "outputs": [],
   "source": [
    "if False:\n",
    "    new_list = []\n",
    "    for line in list_of_meta:\n",
    "        file_name = line[0]\n",
    "        cat = np.asarray([float(x) for x in line[1:]]).argmax()\n",
    "        new_list.append((file_name, cat))\n",
    "    for line in new_list:\n",
    "        new_folder = oj('challenge', str(line[1]))\n",
    "        old_file = oj(img_path,line[0] +'.jpg' )\n",
    "        copyfile(old_file, oj(new_folder, line[0] +'.jpg'))\n"
   ]
  },
  {
   "cell_type": "code",
   "execution_count": 50,
   "metadata": {},
   "outputs": [],
   "source": [
    "folders = listdir(challenge_path)[:4]"
   ]
  },
  {
   "cell_type": "code",
   "execution_count": 51,
   "metadata": {},
   "outputs": [
    {
     "data": {
      "text/plain": [
       "['0', '1', '2', '4']"
      ]
     },
     "execution_count": 51,
     "metadata": {},
     "output_type": "execute_result"
    }
   ],
   "source": [
    "folders"
   ]
  },
  {
   "cell_type": "markdown",
   "metadata": {},
   "source": [
    "# Names\n",
    "- 0  Melanoma\n",
    "* 1 Melanocytic nevus (181 with patches)\n",
    "* 2 Basal cell carcinoma\n",
    "* 3 Actinic keratosis\n",
    "* 4 Benign keratosis (solar lentigo / seborrheic keratosis / lichen planus-like keratosis)\n",
    "* 5 Dermatofibroma\n",
    "* 6 Vascular lesion\n",
    "* 7 Squamous cell carcinoma"
   ]
  },
  {
   "cell_type": "code",
   "execution_count": 52,
   "metadata": {},
   "outputs": [
    {
     "name": "stdout",
     "output_type": "stream",
     "text": [
      "0 4522\n",
      "1 12875\n",
      "2 3323\n",
      "4 2624\n"
     ]
    }
   ],
   "source": [
    "num_examples = np.empty((4))\n",
    "for i,folder in enumerate(folders):\n",
    "    num_examples[i] = len(listdir(oj(challenge_path, folder)))\n",
    "    print(folder, len(listdir(oj(challenge_path, folder))))"
   ]
  },
  {
   "cell_type": "code",
   "execution_count": null,
   "metadata": {},
   "outputs": [],
   "source": [
    "\n",
    "for i,folder in enumerate(folders):"
   ]
  },
  {
   "cell_type": "code",
   "execution_count": 47,
   "metadata": {},
   "outputs": [],
   "source": [
    "num_examples /= num_examples.sum()"
   ]
  },
  {
   "cell_type": "code",
   "execution_count": 48,
   "metadata": {},
   "outputs": [
    {
     "data": {
      "text/plain": [
       "array([0.17851644, 0.5082705 , 0.13118314, 0.03422684, 0.10358849,\n",
       "       0.00943508, 0.00998776, 0.02479176])"
      ]
     },
     "execution_count": 48,
     "metadata": {},
     "output_type": "execute_result"
    }
   ],
   "source": [
    "num_examples"
   ]
  },
  {
   "cell_type": "code",
   "execution_count": 16,
   "metadata": {},
   "outputs": [
    {
     "data": {
      "text/plain": [
       "1"
      ]
     },
     "execution_count": 16,
     "metadata": {},
     "output_type": "execute_result"
    }
   ],
   "source": []
  }
 ],
 "metadata": {
  "kernelspec": {
   "display_name": "Python 3",
   "language": "python",
   "name": "python3"
  },
  "language_info": {
   "codemirror_mode": {
    "name": "ipython",
    "version": 3
   },
   "file_extension": ".py",
   "mimetype": "text/x-python",
   "name": "python",
   "nbconvert_exporter": "python",
   "pygments_lexer": "ipython3",
   "version": "3.6.6"
  }
 },
 "nbformat": 4,
 "nbformat_minor": 2
}
