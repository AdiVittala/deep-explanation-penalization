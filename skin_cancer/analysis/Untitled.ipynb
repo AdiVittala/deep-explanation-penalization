{
 "cells": [
  {
   "cell_type": "code",
   "execution_count": null,
   "metadata": {},
   "outputs": [],
   "source": [
    "fig, axes = plt.subplots(nrows = len(imgs), ncols = 3, figsize=(40,30))\n",
    "for i in range(len(imgs)):\n",
    "    test = imgs[i]\n",
    "    axes[i,0].imshow(test)\n",
    "    bw_img = rgb2gray(test)\n",
    "    edges = canny(bw_img)\n",
    "\n",
    "    axes[i,1].imshow(edges)\n",
    "\n",
    "    lines = probabilistic_hough_line(edges, threshold=40, line_length=200,\n",
    "                                 line_gap=10)\n",
    "    axes[i,2].imshow(edges * 0)\n",
    "\n",
    "    for line in lines:\n",
    "        p0, p1 = line\n",
    "        axes[i,2].plot((p0[0], p1[0]), (p0[1], p1[1]))\n",
    "fig.savefig(\"Tee\")"
   ]
  }
 ],
 "metadata": {
  "kernelspec": {
   "display_name": "Python 3",
   "language": "python",
   "name": "python3"
  },
  "language_info": {
   "codemirror_mode": {
    "name": "ipython",
    "version": 3
   },
   "file_extension": ".py",
   "mimetype": "text/x-python",
   "name": "python",
   "nbconvert_exporter": "python",
   "pygments_lexer": "ipython3",
   "version": "3.6.6"
  }
 },
 "nbformat": 4,
 "nbformat_minor": 2
}
