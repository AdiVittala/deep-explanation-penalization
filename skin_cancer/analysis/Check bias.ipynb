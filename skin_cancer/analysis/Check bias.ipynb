{
 "cells": [
  {
   "cell_type": "markdown",
   "metadata": {},
   "source": [
    "Check the different data distributions for rulers and patches"
   ]
  },
  {
   "cell_type": "code",
   "execution_count": 1,
   "metadata": {},
   "outputs": [],
   "source": [
    "import matplotlib.pyplot as plt\n",
    "%matplotlib inline"
   ]
  },
  {
   "cell_type": "code",
   "execution_count": 2,
   "metadata": {},
   "outputs": [],
   "source": [
    "# -*- coding: utf-8 -*-\n",
    "\"\"\"\n",
    "Created on Mon Jun 24 00:00:55 2019\n",
    "\n",
    "@author: lauri\n",
    "\"\"\"\n",
    "save_path = \"../../results_for_export\"\n",
    "import csv\n",
    "import numpy as np\n",
    "from skimage.transform import probabilistic_hough_line\n",
    "from skimage.feature import canny\n",
    "from shutil import copyfile\n",
    "from os.path import join as oj\n",
    "from PIL import Image\n",
    "from skimage.draw import line as draw_line\n",
    "from skimage.color import rgb2gray\n",
    "from tqdm import tqdm, tqdm_notebook\n",
    "def has_line(img):\n",
    "    bw_img = rgb2gray(img) \n",
    "    lines = probabilistic_hough_line(canny(bw_img, sigma=2), threshold=40, line_length=200,\n",
    "                                 line_gap=10)\n",
    "    lines = [line for line in lines if line[0][0] != line[1][0] and line[0][1] != line[1][1]  ]\n",
    "    \n",
    "    return len(lines) >0\n",
    "    \n",
    "def highlight_line(img):\n",
    "    bw_img = rgb2gray(img) \n",
    "    lines = probabilistic_hough_line(canny(bw_img, sigma=2), threshold=40, line_length=200,\n",
    "                                 line_gap=10)\n",
    "    lines = [line for line in lines if line[0][0] != line[1][0] and line[0][1] != line[1][1]  ]\n",
    "    \n",
    "    return lines"
   ]
  },
  {
   "cell_type": "code",
   "execution_count": 3,
   "metadata": {},
   "outputs": [],
   "source": [
    "dataset_path = \"/home/lauri/datasets/ISIC\"\n",
    "    \n",
    "meta_file = \"ISIC_y.csv\"\n",
    "mal_folder = oj(dataset_path, 'cancer')"
   ]
  },
  {
   "cell_type": "code",
   "execution_count": 4,
   "metadata": {},
   "outputs": [],
   "source": [
    "list_of_meta = []\n",
    "with open(oj(dataset_path, meta_file), newline='') as csvfile:\n",
    "    spamreader = csv.reader(csvfile, delimiter=',')\n",
    "    for row in spamreader:\n",
    "        list_of_meta.append(row)    "
   ]
  },
  {
   "cell_type": "code",
   "execution_count": null,
   "metadata": {},
   "outputs": [],
   "source": [
    "list_mal_files = []\n",
    "for line in list_of_meta[1:]:\n",
    "    if line[1] == 'malignant':\n",
    "        list_mal_files.append(line[0] + \".jpg\")\n"
   ]
  },
  {
   "cell_type": "code",
   "execution_count": null,
   "metadata": {},
   "outputs": [],
   "source": [
    "list_good_files = []\n",
    "for line in list_of_meta[1:]:\n",
    "    if line[1] == 'benigh':\n",
    "        list_mal_files.append(line[0] + \".jpg\")\n"
   ]
  },
  {
   "cell_type": "markdown",
   "metadata": {},
   "source": [
    "# Find rulers"
   ]
  },
  {
   "cell_type": "code",
   "execution_count": null,
   "metadata": {},
   "outputs": [],
   "source": [
    "imgs = np.empty((len(list_mal_files), 450, 600, 3 ))\n",
    "for i,file_name in tqdm_notebook(enumerate(list_mal_files)):\n",
    "\n",
    "    try:\n",
    "        img = Image.open(oj(mal_folder, file_name))\n",
    "        imgs[i] = np.asarray(img)\n",
    "    except:\n",
    "        print(\"BB\")\n",
    "        pass\n",
    "        \n",
    "imgs /=255.0\n",
    "imgs_with_rulers = []\n",
    "for i in tqdm_notebook(range(len(list_mal_files[:500]))):\n",
    "    if has_line(imgs[i]):\n",
    "        imgs_with_rulers.append(imgs[i])\n",
    "    "
   ]
  },
  {
   "cell_type": "code",
   "execution_count": null,
   "metadata": {},
   "outputs": [],
   "source": [
    "fig, axes = plt.subplots(ncols = 3, nrows = 2, figsize = (50,30))\n",
    "for i in range(3):\n",
    "    axes[0, i].imshow(imgs_with_rulers[i+2])\n",
    "    \n",
    "\n",
    "    lines = highlight_line(imgs_with_rulers[i+2])\n",
    "    img = imgs_with_rulers[i+2].copy()/5\n",
    "    cur_line = lines[0]\n",
    "    p0, p1 = cur_line\n",
    "\n",
    "    line_x, line_y = draw_line(p0[1], p0[0], p1[1], p1[0])\n",
    "\n",
    "    img[line_x, line_y] = [1,0,0]\n",
    "    axes[1, i].imshow(img)"
   ]
  },
  {
   "cell_type": "code",
   "execution_count": null,
   "metadata": {},
   "outputs": [],
   "source": [
    "fig.savefig(oj(save_path, \"ruler_detection\"))"
   ]
  },
  {
   "cell_type": "markdown",
   "metadata": {},
   "source": [
    "# Find patches"
   ]
  },
  {
   "cell_type": "code",
   "execution_count": null,
   "metadata": {},
   "outputs": [],
   "source": [
    "imgs = np.empty((len(list_mal_files), 450, 600, 3 ))\n",
    "for i,file_name in tqdm_notebook(enumerate(list_mal_files)):\n",
    "\n",
    "    try:\n",
    "        img = Image.open(oj(mal_folder, file_name))\n",
    "        imgs[i] = np.asarray(img)\n",
    "    except:\n",
    "        print(\"BB\")\n",
    "        pass\n",
    "        \n",
    "imgs /=255.0\n",
    "imgs_with_rulers = []\n",
    "for i in tqdm_notebook(range(len(list_mal_files[:500]))):\n",
    "    if has_line(imgs[i]):\n",
    "        imgs_with_rulers.append(imgs[i])\n",
    "    "
   ]
  }
 ],
 "metadata": {
  "kernelspec": {
   "display_name": "Python (gpu_usage)",
   "language": "python",
   "name": "gpu_usage"
  },
  "language_info": {
   "codemirror_mode": {
    "name": "ipython",
    "version": 3
   },
   "file_extension": ".py",
   "mimetype": "text/x-python",
   "name": "python",
   "nbconvert_exporter": "python",
   "pygments_lexer": "ipython3",
   "version": "3.6.6"
  }
 },
 "nbformat": 4,
 "nbformat_minor": 2
}
