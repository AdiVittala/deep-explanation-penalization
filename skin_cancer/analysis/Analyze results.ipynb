{
 "cells": [
  {
   "cell_type": "code",
   "execution_count": 1,
   "metadata": {},
   "outputs": [],
   "source": [
    "import torch\n",
    "import torchvision\n",
    "import torchvision.datasets as datasets\n",
    "import sys\n",
    "import numpy as np\n",
    "import torch.utils.data as utils\n",
    "from torch.utils.data import DataLoader\n",
    "from sklearn.metrics import auc,average_precision_score, roc_curve,roc_auc_score,precision_recall_curve, f1_score\n",
    "from torch.utils.data import Subset\n",
    "from torchvision import  transforms\n",
    "import pickle as pkl\n",
    "from os.path import join as oj\n",
    "from tqdm import tqdm_notebook\n",
    "import matplotlib.pyplot as plt\n",
    "import torch.optim as optim\n",
    "from torch.optim import lr_scheduler\n",
    "import os\n",
    "import argparse\n",
    "from torch import nn\n",
    "from numpy.random import randint\n",
    "import torchvision.models as models\n",
    "import time\n",
    "import copy\n",
    "from tqdm import tqdm\n",
    "sys.path.append('../../fit/')\n",
    "import cd\n",
    "import sys\n",
    "sys.path.insert(1, oj(sys.path[0], '..'))  # insert parent path\n",
    "from copy import deepcopy\n",
    "import pandas as pd\n",
    "import seaborn as sns\n",
    "sns.set()\n",
    "import torch.nn.functional as F\n",
    "from os.path import join as oj\n",
    "pd.set_option('precision', 2)\n",
    "%matplotlib inline"
   ]
  },
  {
   "cell_type": "code",
   "execution_count": 2,
   "metadata": {},
   "outputs": [
    {
     "name": "stderr",
     "output_type": "stream",
     "text": [
      "/home/lauri/.conda/envs/gpu_usage/lib/python3.6/site-packages/ipykernel_launcher.py:7: FutureWarning: Sorting because non-concatenation axis is not aligned. A future version\n",
      "of pandas will change to not sort by default.\n",
      "\n",
      "To accept the future behavior, pass 'sort=False'.\n",
      "\n",
      "To retain the current behavior and silence the warning, pass 'sort=True'.\n",
      "\n",
      "  import sys\n"
     ]
    }
   ],
   "source": [
    "save_path = \"../../results_for_export\"\n",
    "trained_model_folder = '../old_feature_models/'\n",
    "fnames = sorted([oj(trained_model_folder, fname) for fname in os.listdir(trained_model_folder) if 'pkl'  in fname]) \n",
    "# other models were trained badly\n",
    "\n",
    "results_list = [pd.Series(pkl.load(open(fname, \"rb\"))) for fname in (fnames)] \n",
    "results = pd.concat(results_list, axis=1).T.infer_objects() \n"
   ]
  },
  {
   "cell_type": "code",
   "execution_count": 3,
   "metadata": {},
   "outputs": [
    {
     "name": "stderr",
     "output_type": "stream",
     "text": [
      "/home/lauri/.conda/envs/gpu_usage/lib/python3.6/site-packages/ipykernel_launcher.py:7: SettingWithCopyWarning: \n",
      "A value is trying to be set on a copy of a slice from a DataFrame\n",
      "\n",
      "See the caveats in the documentation: http://pandas.pydata.org/pandas-docs/stable/indexing.html#indexing-view-versus-copy\n",
      "  import sys\n"
     ]
    }
   ],
   "source": [
    "results['final_acc'] = [max(x) for x in results['val_acc_history']] #TODO change so it \n",
    "results['final_acc_train'] = [max(x)  for x in results['train_acc_history']]\n",
    "results['AUC (no patches)'] =[0 for x in results['regularizer_rate']]\n",
    "results['final_cd'] = [min(x) for x in results['train_cd_history']]\n",
    "results['final_test_loss'] = [min(x) for x in results['val_loss_history']]\n",
    "results['final_train_loss'] = [min(x) for x in results['train_loss_history']]\n",
    "results['regularizer_rate'][6] =-1"
   ]
  },
  {
   "cell_type": "code",
   "execution_count": 4,
   "metadata": {
    "scrolled": false
   },
   "outputs": [
    {
     "data": {
      "text/html": [
       "<div>\n",
       "<style scoped>\n",
       "    .dataframe tbody tr th:only-of-type {\n",
       "        vertical-align: middle;\n",
       "    }\n",
       "\n",
       "    .dataframe tbody tr th {\n",
       "        vertical-align: top;\n",
       "    }\n",
       "\n",
       "    .dataframe thead th {\n",
       "        text-align: right;\n",
       "    }\n",
       "</style>\n",
       "<table border=\"1\" class=\"dataframe\">\n",
       "  <thead>\n",
       "    <tr style=\"text-align: right;\">\n",
       "      <th></th>\n",
       "      <th>final_acc</th>\n",
       "      <th>AUC (no patches)</th>\n",
       "    </tr>\n",
       "    <tr>\n",
       "      <th>regularizer_rate</th>\n",
       "      <th></th>\n",
       "      <th></th>\n",
       "    </tr>\n",
       "  </thead>\n",
       "  <tbody>\n",
       "    <tr>\n",
       "      <th>-1.00</th>\n",
       "      <td>0.85</td>\n",
       "      <td>0</td>\n",
       "    </tr>\n",
       "    <tr>\n",
       "      <th>0.00</th>\n",
       "      <td>0.91</td>\n",
       "      <td>0</td>\n",
       "    </tr>\n",
       "    <tr>\n",
       "      <th>0.01</th>\n",
       "      <td>0.92</td>\n",
       "      <td>0</td>\n",
       "    </tr>\n",
       "    <tr>\n",
       "      <th>0.10</th>\n",
       "      <td>0.92</td>\n",
       "      <td>0</td>\n",
       "    </tr>\n",
       "    <tr>\n",
       "      <th>1.00</th>\n",
       "      <td>0.92</td>\n",
       "      <td>0</td>\n",
       "    </tr>\n",
       "    <tr>\n",
       "      <th>10.00</th>\n",
       "      <td>0.92</td>\n",
       "      <td>0</td>\n",
       "    </tr>\n",
       "    <tr>\n",
       "      <th>100.00</th>\n",
       "      <td>0.92</td>\n",
       "      <td>0</td>\n",
       "    </tr>\n",
       "  </tbody>\n",
       "</table>\n",
       "</div>"
      ],
      "text/plain": [
       "                  final_acc  AUC (no patches)\n",
       "regularizer_rate                             \n",
       "-1.00                  0.85                 0\n",
       " 0.00                  0.91                 0\n",
       " 0.01                  0.92                 0\n",
       " 0.10                  0.92                 0\n",
       " 1.00                  0.92                 0\n",
       " 10.00                 0.92                 0\n",
       " 100.00                0.92                 0"
      ]
     },
     "execution_count": 4,
     "metadata": {},
     "output_type": "execute_result"
    }
   ],
   "source": [
    "results[['regularizer_rate','final_acc','AUC (no patches)']].sort_values(by = ['regularizer_rate']).groupby(['regularizer_rate']).mean()"
   ]
  },
  {
   "cell_type": "code",
   "execution_count": 5,
   "metadata": {},
   "outputs": [
    {
     "data": {
      "text/html": [
       "<div>\n",
       "<style scoped>\n",
       "    .dataframe tbody tr th:only-of-type {\n",
       "        vertical-align: middle;\n",
       "    }\n",
       "\n",
       "    .dataframe tbody tr th {\n",
       "        vertical-align: top;\n",
       "    }\n",
       "\n",
       "    .dataframe thead th {\n",
       "        text-align: right;\n",
       "    }\n",
       "</style>\n",
       "<table border=\"1\" class=\"dataframe\">\n",
       "  <thead>\n",
       "    <tr style=\"text-align: right;\">\n",
       "      <th></th>\n",
       "      <th>regularizer_rate</th>\n",
       "      <th>pid</th>\n",
       "    </tr>\n",
       "  </thead>\n",
       "  <tbody>\n",
       "    <tr>\n",
       "      <th>0</th>\n",
       "      <td>0.1</td>\n",
       "      <td>21356112048316716264</td>\n",
       "    </tr>\n",
       "    <tr>\n",
       "      <th>1</th>\n",
       "      <td>0</td>\n",
       "      <td>30446737273071054815</td>\n",
       "    </tr>\n",
       "    <tr>\n",
       "      <th>2</th>\n",
       "      <td>1e+02</td>\n",
       "      <td>38588118287352320387</td>\n",
       "    </tr>\n",
       "    <tr>\n",
       "      <th>3</th>\n",
       "      <td>1</td>\n",
       "      <td>53471575876675702462</td>\n",
       "    </tr>\n",
       "    <tr>\n",
       "      <th>4</th>\n",
       "      <td>0.01</td>\n",
       "      <td>55550356345607667132</td>\n",
       "    </tr>\n",
       "    <tr>\n",
       "      <th>5</th>\n",
       "      <td>10</td>\n",
       "      <td>68254605873562681071</td>\n",
       "    </tr>\n",
       "    <tr>\n",
       "      <th>6</th>\n",
       "      <td>-1</td>\n",
       "      <td>76712724718517583502</td>\n",
       "    </tr>\n",
       "  </tbody>\n",
       "</table>\n",
       "</div>"
      ],
      "text/plain": [
       "  regularizer_rate                   pid\n",
       "0              0.1  21356112048316716264\n",
       "1                0  30446737273071054815\n",
       "2            1e+02  38588118287352320387\n",
       "3                1  53471575876675702462\n",
       "4             0.01  55550356345607667132\n",
       "5               10  68254605873562681071\n",
       "6               -1  76712724718517583502"
      ]
     },
     "execution_count": 5,
     "metadata": {},
     "output_type": "execute_result"
    }
   ],
   "source": [
    "results[['regularizer_rate','pid',]]"
   ]
  },
  {
   "cell_type": "code",
   "execution_count": null,
   "metadata": {},
   "outputs": [],
   "source": [
    "\n",
    "print(results[['regularizer_rate','final_acc', 'AUC (no patches)']].sort_values(by = ['regularizer_rate']).to_latex(index = False))"
   ]
  },
  {
   "cell_type": "markdown",
   "metadata": {},
   "source": [
    "# Calculate ROC AUC"
   ]
  },
  {
   "cell_type": "code",
   "execution_count": null,
   "metadata": {},
   "outputs": [],
   "source": [
    "data_path = \"../../../../datasets\"\n",
    "save_path = oj(data_path, \"ISIC_features\")\n",
    "from torch.utils.data import TensorDataset, ConcatDataset\n",
    "with open(oj(save_path, \"cancer.npy\"), 'rb') as f:\n",
    "    cancer_featuress = np.load(f)\n",
    "with open(oj(save_path, \"not_cancer.npy\"), 'rb') as f:\n",
    "    not_cancer_featuress = np.load(f)\n",
    "    \n",
    "cancer_targets = np.ones((cancer_featuress.shape[0])).astype(np.int64)\n",
    "not_cancer_targets = np.zeros((not_cancer_featuress.shape[0])).astype(np.int64)\n",
    "with open(oj(save_path, \"not_cancer_cd.npy\"), 'rb') as f:\n",
    "    not_cancer_cd= np.load(f)\n",
    "not_cancer_dataset = TensorDataset(torch.from_numpy(not_cancer_featuress).float(), torch.from_numpy(not_cancer_targets),torch.from_numpy(not_cancer_cd).float())\n",
    "\n",
    "cancer_dataset = TensorDataset(torch.from_numpy(cancer_featuress).float(), torch.from_numpy(cancer_targets),torch.from_numpy(-np.ones((len(cancer_featuress), 2, 25088))).float())\n",
    "complete_dataset = ConcatDataset((cancer_dataset, not_cancer_dataset))\n",
    "\n",
    "\n",
    "\n",
    "num_total = len(complete_dataset)\n",
    "num_train = int(0.8 * num_total)\n",
    "num_val = int(0.1 * num_total)\n",
    "num_test = num_total - num_train - num_val\n",
    "torch.manual_seed(0);\n",
    "train_dataset, test_dataset, val_dataset= torch.utils.data.random_split(complete_dataset, [num_train, num_test, num_val])\n",
    "\n",
    "\n",
    "datasets = {'train' : train_dataset, 'test':test_dataset, 'val': val_dataset}\n",
    "dataset_sizes = {'train' : len(train_dataset), 'test':len(test_dataset), 'val': len(val_dataset)}"
   ]
  },
  {
   "cell_type": "code",
   "execution_count": null,
   "metadata": {},
   "outputs": [],
   "source": [
    "\n",
    "val_filtered_dataset = torch.utils.data.Subset(complete_dataset, [idx for idx in val_dataset.indices if complete_dataset[idx][2][0,0] ==-1])\n"
   ]
  },
  {
   "cell_type": "code",
   "execution_count": null,
   "metadata": {
    "scrolled": true
   },
   "outputs": [],
   "source": [
    "device = torch.device(0)\n",
    "model = models.vgg16(pretrained=True)\n",
    "# make conv untrainable - test if needed\n",
    "model.classifier[-1] = nn.Linear(4096, 2)\n",
    "model = model.classifier.to(device)"
   ]
  },
  {
   "cell_type": "code",
   "execution_count": null,
   "metadata": {},
   "outputs": [],
   "source": [
    "def eval_model_on(model, dataset):\n",
    "    val_filtered_dataloader = torch.utils.data.DataLoader(dataset, batch_size=16,\n",
    "                                             shuffle=True, num_workers=4)\n",
    "    model.eval()\n",
    "    y = []\n",
    "    y_hat = []\n",
    "    softmax= torch.nn.Softmax()\n",
    "    with torch.no_grad() :\n",
    "        for inputs, labels, cd in val_filtered_dataloader:\n",
    "            y_hat.append((labels).cpu().numpy())\n",
    "            y.append(torch.nn.Softmax(dim=1)( model(inputs.cuda()))[:,0].detach().cpu().numpy())\n",
    "    y_hat = np.concatenate( y_hat, axis=0 )\n",
    "    y = np.concatenate( y, axis=0 )\n",
    "    return 1-y, y_hat\n"
   ]
  },
  {
   "cell_type": "code",
   "execution_count": null,
   "metadata": {},
   "outputs": [],
   "source": [
    "results_for_auc = results[['regularizer_rate','pid',]]\n",
    "roc_curves = {}\n",
    "f1_scores = {}\n",
    "auc_scores = {}\n",
    "\n",
    "auc_scorespid = {}\n",
    "for index, row in results_for_auc.iterrows():\n",
    "\n",
    "    with open(oj(trained_model_folder, str(row['pid']) + '.pt'), 'rb') as f:\n",
    "        \n",
    "        weights = torch.load(f)\n",
    "    model.load_state_dict(weights)\n",
    "    y, y_hat = eval_model_on(model, val_filtered_dataset)\n",
    "\n",
    "    precision, recall, _ = roc_curve(y_hat, y)\n",
    "\n",
    "    roc_curves[row['regularizer_rate']] = (precision, recall)\n",
    "    auc_scores[row['regularizer_rate']] = roc_auc_score(y_hat, y)\n",
    "    \n",
    "    auc_scorespid[row['pid']] = roc_auc_score(y_hat, y)\n",
    "    f1_scores[row['regularizer_rate']] = f1_score(y_hat, y > .5)\n",
    "\n",
    "results['AUC (no patches)'] =[auc_scorespid[x] for x in results['pid']]"
   ]
  },
  {
   "cell_type": "code",
   "execution_count": null,
   "metadata": {},
   "outputs": [],
   "source": [
    "fig, ax = plt.subplots(figsize = (10,10))\n",
    "\n",
    "for key in roc_curves.keys():\n",
    "    key_label = key\n",
    "    if key == 1.0 or key == 0.0 or key == -1:\n",
    "\n",
    "        ax.plot(roc_curves[key][1], 1-roc_curves[key][0], label = str(key_label) + \" AUC: \"+ \"{:2.2f}\".format(auc_scores[key]))\n",
    "ax.set_ylabel(\"Specificity\");\n",
    "ax.set_xlabel(\"Sensitivity\");\n",
    "fig.legend(loc=10)\n",
    "fig.suptitle(\"Malignant tumor classification \")\n",
    "save_path = \"../../results_for_export\"\n",
    "# fig.savefig(oj(save_path, \"with_reg\"))"
   ]
  },
  {
   "cell_type": "markdown",
   "metadata": {},
   "source": [
    "# Stuff to try"
   ]
  },
  {
   "cell_type": "code",
   "execution_count": null,
   "metadata": {},
   "outputs": [],
   "source": [
    "val_filtered_dataloader = torch.utils.data.DataLoader(val_filtered_dataset, batch_size=16,\n",
    "                                             shuffle=True, num_workers=4)"
   ]
  },
  {
   "cell_type": "code",
   "execution_count": null,
   "metadata": {},
   "outputs": [],
   "source": [
    "for data, target,_ in val_filtered_dataloader:\n",
    "    break\n",
    "    num_one +=target.sum().cpu().item()"
   ]
  },
  {
   "cell_type": "code",
   "execution_count": null,
   "metadata": {},
   "outputs": [],
   "source": [
    "data.shape"
   ]
  },
  {
   "cell_type": "code",
   "execution_count": null,
   "metadata": {},
   "outputs": [],
   "source": [
    "test_out = model(data.cuda())"
   ]
  },
  {
   "cell_type": "code",
   "execution_count": null,
   "metadata": {},
   "outputs": [],
   "source": [
    "test_out.shape"
   ]
  },
  {
   "cell_type": "code",
   "execution_count": null,
   "metadata": {},
   "outputs": [],
   "source": [
    "torch.concat((test_out[:,0], test_out[:,1])).shape"
   ]
  },
  {
   "cell_type": "code",
   "execution_count": null,
   "metadata": {},
   "outputs": [],
   "source": []
  }
 ],
 "metadata": {
  "kernelspec": {
   "display_name": "Python (gpu_usage)",
   "language": "python",
   "name": "gpu_usage"
  },
  "language_info": {
   "codemirror_mode": {
    "name": "ipython",
    "version": 3
   },
   "file_extension": ".py",
   "mimetype": "text/x-python",
   "name": "python",
   "nbconvert_exporter": "python",
   "pygments_lexer": "ipython3",
   "version": "3.6.6"
  }
 },
 "nbformat": 4,
 "nbformat_minor": 2
}
