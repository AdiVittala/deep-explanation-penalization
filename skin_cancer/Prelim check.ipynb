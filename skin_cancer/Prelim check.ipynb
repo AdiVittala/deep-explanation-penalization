{
 "cells": [
  {
   "cell_type": "code",
   "execution_count": 1,
   "metadata": {},
   "outputs": [],
   "source": [
    "%load_ext autoreload\n",
    "%autoreload 2"
   ]
  },
  {
   "cell_type": "code",
   "execution_count": 2,
   "metadata": {},
   "outputs": [],
   "source": [
    "import torch\n",
    "import torchvision\n",
    "import torchvision.datasets as datasets\n",
    "import sys\n",
    "import numpy as np\n",
    "import torch.utils.data as utils\n",
    "import torch\n",
    "from torch.utils.data import DataLoader\n",
    "from torchvision import datasets, transforms\n",
    "sys.path.append(\"../../Dataset-REPAIR\")\n",
    "from utils.datasets import ColoredDataset\n",
    "import pickle as pkl\n",
    "\n",
    "from os.path import join as oj\n",
    "import matplotlib.pyplot as plt\n",
    "%matplotlib inline\n",
    "import os"
   ]
  },
  {
   "cell_type": "code",
   "execution_count": 3,
   "metadata": {},
   "outputs": [],
   "source": [
    "import torch\n",
    "import torchvision\n",
    "import torchvision.datasets as datasets\n",
    "import sys\n",
    "import matplotlib.pyplot as plt\n",
    "import numpy as np\n",
    "import torch.utils.data as utils\n",
    "from sklearn.metrics import auc,average_precision_score, roc_curve,roc_auc_score"
   ]
  },
  {
   "cell_type": "code",
   "execution_count": 4,
   "metadata": {},
   "outputs": [],
   "source": [
    "from torch import nn"
   ]
  },
  {
   "cell_type": "code",
   "execution_count": 18,
   "metadata": {},
   "outputs": [],
   "source": [
    "device = torch.device(\"cuda\")"
   ]
  },
  {
   "cell_type": "code",
   "execution_count": 19,
   "metadata": {},
   "outputs": [],
   "source": [
    "import torchvision.models as models\n",
    "\n",
    "model = models.vgg16(pretrained=True).to(device)\n",
    "model.classifier[-1] = nn.Linear(4096, 2)\n",
    "model.load_state_dict(torch.load('cancer_prim.pt'))"
   ]
  },
  {
   "cell_type": "code",
   "execution_count": 27,
   "metadata": {},
   "outputs": [],
   "source": [
    "data_root  = \"../../../datasets/ISIC\"\n",
    "data_transform = transforms.Compose([\n",
    "        transforms.ToTensor(),\n",
    "        transforms.Normalize(mean=[0.485, 0.456, 0.406],\n",
    "                             std=[0.229, 0.224, 0.225])\n",
    "    ])\n",
    "img_dataset = datasets.ImageFolder(data_root,transform=data_transform)\n",
    "num_total = len(img_dataset)\n",
    "num_train = int(0.8 * num_total)\n",
    "num_val = int(0.1 * num_total)\n",
    "num_test = num_total - num_train - num_val\n",
    "torch.manual_seed(0);\n",
    "train_dataset, test_dataset, val_dataset= torch.utils.data.random_split(img_dataset, [num_train, num_test, num_val])"
   ]
  },
  {
   "cell_type": "code",
   "execution_count": 28,
   "metadata": {},
   "outputs": [],
   "source": [
    "datasets = {'train' : train_dataset, 'test':test_dataset, 'val': val_dataset}\n",
    "dataloaders = {x: torch.utils.data.DataLoader(datasets[x], batch_size=64,\n",
    "                                             shuffle=True, num_workers=4)\n",
    "              for x in ['train', 'test','val']}"
   ]
  },
  {
   "cell_type": "code",
   "execution_count": null,
   "metadata": {},
   "outputs": [],
   "source": [
    "\n",
    "not_cancer_ratio = np.asarray(train_dataset.dataset.targets).mean() \n",
    "cancer_ratio = 1- not_cancer_ratio\n",
    "cancer_weight = 1/cancer_ratio\n",
    "not_cancer_weight = 1/ not_cancer_ratio\n",
    "weights = np.asarray([cancer_weight, not_cancer_weight])\n",
    "weights /= weights.sum()\n",
    "weights = torch.tensor(weights).to(device)"
   ]
  },
  {
   "cell_type": "code",
   "execution_count": 56,
   "metadata": {},
   "outputs": [
    {
     "name": "stderr",
     "output_type": "stream",
     "text": [
      "/home/lauri/.conda/envs/gpu_usage/lib/python3.6/site-packages/ipykernel_launcher.py:7: UserWarning: Implicit dimension choice for softmax has been deprecated. Change the call to include dim=X as an argument.\n",
      "  import sys\n"
     ]
    }
   ],
   "source": [
    "model.eval()\n",
    "y = []\n",
    "y_hat = []\n",
    "softmax= torch.nn.Softmax()\n",
    "for inputs, labels in dataloaders['val']:\n",
    "    y_hat.append((1-labels).cpu().numpy())\n",
    "    y.append(torch.nn.Softmax()( model(inputs.cuda()))[:,0].detach().cpu().numpy())\n",
    "y_hat = np.concatenate( y_hat, axis=0 )\n",
    "y = np.concatenate( y, axis=0 )"
   ]
  },
  {
   "cell_type": "code",
   "execution_count": 70,
   "metadata": {
    "scrolled": true
   },
   "outputs": [
    {
     "data": {
      "text/plain": [
       "['cancer', 'not_cancer']"
      ]
     },
     "execution_count": 70,
     "metadata": {},
     "output_type": "execute_result"
    }
   ],
   "source": [
    "train_dataset.dataset.classes"
   ]
  },
  {
   "cell_type": "code",
   "execution_count": 97,
   "metadata": {
    "scrolled": true
   },
   "outputs": [
    {
     "data": {
      "text/plain": [
       "0.9242712774497387"
      ]
     },
     "execution_count": 97,
     "metadata": {},
     "output_type": "execute_result"
    }
   ],
   "source": [
    "roc_auc_score(y_hat, y)"
   ]
  },
  {
   "cell_type": "code",
   "execution_count": 103,
   "metadata": {},
   "outputs": [],
   "source": [
    "num_fp = (y > 0.5)[np.where(y_hat == 0)].sum()\n",
    "num_tp = (y > 0.5)[np.where(y_hat == 1)].sum()\n",
    "\n",
    "num_fn = (y < 0.5)[np.where(y_hat == 1)].sum()\n",
    "num_tn = (y < 0.5)[np.where(y_hat == 0)].sum()\n"
   ]
  },
  {
   "cell_type": "code",
   "execution_count": 122,
   "metadata": {
    "scrolled": true
   },
   "outputs": [
    {
     "name": "stdout",
     "output_type": "stream",
     "text": [
      "Precision: 0.45\n",
      "Recall: 0.70\n"
     ]
    }
   ],
   "source": [
    "print(\"Precision: {:.2f}\".format(num_tp/(num_tp+num_fp)))\n",
    "print(\"Recall: {:.2f}\".format(num_tp/(num_tp+num_fn)))"
   ]
  },
  {
   "cell_type": "code",
   "execution_count": 124,
   "metadata": {},
   "outputs": [
    {
     "name": "stdout",
     "output_type": "stream",
     "text": [
      "For not cancer:\n",
      "Precision: 0.96\n",
      "Recall: 0.90\n"
     ]
    }
   ],
   "source": [
    "print(\"For not cancer:\")\n",
    "print(\"Precision: {:.2f}\".format(num_tn/(num_tn+num_fn)))\n",
    "print(\"Recall: {:.2f}\".format(num_tn/(num_tn+num_fp)))"
   ]
  },
  {
   "cell_type": "code",
   "execution_count": null,
   "metadata": {},
   "outputs": [],
   "source": []
  }
 ],
 "metadata": {
  "kernelspec": {
   "display_name": "Python (gpu_usage)",
   "language": "python",
   "name": "gpu_usage"
  },
  "language_info": {
   "codemirror_mode": {
    "name": "ipython",
    "version": 3
   },
   "file_extension": ".py",
   "mimetype": "text/x-python",
   "name": "python",
   "nbconvert_exporter": "python",
   "pygments_lexer": "ipython3",
   "version": "3.6.6"
  }
 },
 "nbformat": 4,
 "nbformat_minor": 2
}
