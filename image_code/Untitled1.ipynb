{
 "cells": [
  {
   "cell_type": "code",
   "execution_count": 1,
   "metadata": {},
   "outputs": [],
   "source": [
    "import torch\n",
    "import torchvision\n",
    "import torchvision.datasets as datasets\n",
    "import sys\n",
    "import numpy as np\n",
    "import torch.utils.data as utils\n",
    "from colour import Color\n",
    "red = Color(\"red\")\n",
    "colors = list(red.range_to(Color(\"green\"),10))\n",
    "from os.path import join as oj\n",
    "mnist_trainset = datasets.MNIST(root='../data', train=True, download=True, transform=None)\n",
    "color_x = np.zeros((60000, 3, 28, 28))"
   ]
  },
  {
   "cell_type": "code",
   "execution_count": 3,
   "metadata": {},
   "outputs": [],
   "source": [
    "from colour import Color\n",
    "red = Color(\"red\")\n",
    "colors = list(red.range_to(Color(\"green\"),10))\n",
    "colors = [x.get_rgb() for x in colors]"
   ]
  },
  {
   "cell_type": "code",
   "execution_count": null,
   "metadata": {},
   "outputs": [],
   "source": [
    "np.random"
   ]
  },
  {
   "cell_type": "code",
   "execution_count": 80,
   "metadata": {},
   "outputs": [],
   "source": []
  },
  {
   "cell_type": "code",
   "execution_count": 82,
   "metadata": {},
   "outputs": [
    {
     "data": {
      "text/plain": [
       "array([626, 124, 439, 129, 216, 484, 208, 408, 602, 493, 622, 240, 631,\n",
       "       348, 540, 348, 630, 495, 153, 577, 216, 520, 685, 316, 630, 692,\n",
       "       322, 603, 355, 327, 522, 652, 372, 550, 207, 597, 408, 601, 345,\n",
       "       150, 595, 297, 241, 550, 235, 686, 217, 544, 236, 262, 521, 487,\n",
       "       240, 295, 439, 551, 215, 260, 292, 656, 346, 291, 202, 315])"
      ]
     },
     "execution_count": 82,
     "metadata": {},
     "output_type": "execute_result"
    }
   ],
   "source": []
  },
  {
   "cell_type": "code",
   "execution_count": 79,
   "metadata": {},
   "outputs": [
    {
     "data": {
      "text/plain": [
       "151.12189999999998"
      ]
     },
     "execution_count": 79,
     "metadata": {},
     "output_type": "execute_result"
    }
   ],
   "source": [
    "prob.sum()"
   ]
  },
  {
   "cell_type": "code",
   "execution_count": 115,
   "metadata": {},
   "outputs": [
    {
     "data": {
      "text/plain": [
       "435"
      ]
     },
     "execution_count": 115,
     "metadata": {},
     "output_type": "execute_result"
    }
   ],
   "source": [
    "np.argmax(prob)"
   ]
  },
  {
   "cell_type": "code",
   "execution_count": 117,
   "metadata": {},
   "outputs": [
    {
     "data": {
      "text/plain": [
       "15"
      ]
     },
     "execution_count": 117,
     "metadata": {},
     "output_type": "execute_result"
    }
   ],
   "source": [
    "(435 -15*28)"
   ]
  },
  {
   "cell_type": "code",
   "execution_count": 73,
   "metadata": {},
   "outputs": [
    {
     "ename": "AttributeError",
     "evalue": "'AxesImage' object has no attribute 'sum'",
     "output_type": "error",
     "traceback": [
      "\u001b[0;31m---------------------------------------------------------------------------\u001b[0m",
      "\u001b[0;31mAttributeError\u001b[0m                            Traceback (most recent call last)",
      "\u001b[0;32m<ipython-input-73-f6ee407b096f>\u001b[0m in \u001b[0;36m<module>\u001b[0;34m\u001b[0m\n\u001b[0;32m----> 1\u001b[0;31m \u001b[0mplt\u001b[0m\u001b[0;34m.\u001b[0m\u001b[0mimshow\u001b[0m\u001b[0;34m(\u001b[0m\u001b[0;34m(\u001b[0m\u001b[0mmnist_trainset\u001b[0m\u001b[0;34m.\u001b[0m\u001b[0mdata\u001b[0m\u001b[0;34m.\u001b[0m\u001b[0mnumpy\u001b[0m\u001b[0;34m(\u001b[0m\u001b[0;34m)\u001b[0m \u001b[0;34m==\u001b[0m\u001b[0;36m0\u001b[0m\u001b[0;34m)\u001b[0m\u001b[0;34m.\u001b[0m\u001b[0mmean\u001b[0m\u001b[0;34m(\u001b[0m\u001b[0maxis\u001b[0m \u001b[0;34m=\u001b[0m \u001b[0;34m(\u001b[0m\u001b[0;36m0\u001b[0m\u001b[0;34m)\u001b[0m\u001b[0;34m)\u001b[0m\u001b[0;34m)\u001b[0m\u001b[0;34m.\u001b[0m\u001b[0msum\u001b[0m\u001b[0;34m(\u001b[0m\u001b[0;34m)\u001b[0m\u001b[0;34m\u001b[0m\u001b[0m\n\u001b[0m",
      "\u001b[0;31mAttributeError\u001b[0m: 'AxesImage' object has no attribute 'sum'"
     ]
    },
    {
     "data": {
      "image/png": "[encoded data removed]",
      "text/plain": [
       "<matplotlib.figure.Figure at 0x7fa4a07d6c88>"
      ]
     },
     "metadata": {
      "needs_background": "light"
     },
     "output_type": "display_data"
    }
   ],
   "source": [
    "plt.imshow((mnist_trainset.data.numpy() ==0).mean(axis = (0))).sum()"
   ]
  },
  {
   "cell_type": "code",
   "execution_count": 108,
   "metadata": {},
   "outputs": [
    {
     "name": "stderr",
     "output_type": "stream",
     "text": [
      "/home/lauri/.local/lib/python3.6/site-packages/torchvision/datasets/mnist.py:43: UserWarning: train_labels has been renamed targets\n",
      "  warnings.warn(\"train_labels has been renamed targets\")\n"
     ]
    }
   ],
   "source": [
    "\n",
    "mnist_trainset = datasets.MNIST(root='../data', train=False, download=True, transform=None)\n",
    "color_x = np.zeros((10000, 3, 28, 28))\n",
    "for i in range(10):\n",
    "    color_x[np.where((mnist_trainset.train_labels ==i)) ] = (mnist_trainset.data[np.where((mnist_trainset.train_labels ==i))].numpy().astype(np.float32)[:, np.newaxis, :,:]*np.asarray(colors[9-i])[None, :, None, None])\n",
    "color_y = mnist_trainset.train_labels.numpy().copy()\n",
    "color_x /=color_x.max()\n",
    "color_x = color_x*2 -1\n"
   ]
  },
  {
   "cell_type": "code",
   "execution_count": 20,
   "metadata": {},
   "outputs": [],
   "source": [
    "import matplotlib.pyplot as plt\n",
    "%matplotlib inline"
   ]
  },
  {
   "cell_type": "code",
   "execution_count": 22,
   "metadata": {},
   "outputs": [
    {
     "data": {
      "text/plain": [
       "(3, 28, 28)"
      ]
     },
     "execution_count": 22,
     "metadata": {},
     "output_type": "execute_result"
    }
   ],
   "source": [
    "color_x[0].shape"
   ]
  },
  {
   "cell_type": "code",
   "execution_count": 25,
   "metadata": {},
   "outputs": [
    {
     "data": {
      "text/plain": [
       "-1.0"
      ]
     },
     "execution_count": 25,
     "metadata": {},
     "output_type": "execute_result"
    }
   ],
   "source": [
    "color_x[0].min()"
   ]
  },
  {
   "cell_type": "code",
   "execution_count": 46,
   "metadata": {},
   "outputs": [
    {
     "data": {
      "text/plain": [
       "7"
      ]
     },
     "execution_count": 46,
     "metadata": {},
     "output_type": "execute_result"
    }
   ],
   "source": [
    "color_y[17]"
   ]
  },
  {
   "cell_type": "code",
   "execution_count": 45,
   "metadata": {},
   "outputs": [
    {
     "data": {
      "text/plain": [
       "17"
      ]
     },
     "execution_count": 45,
     "metadata": {},
     "output_type": "execute_result"
    }
   ],
   "source": [
    "i"
   ]
  },
  {
   "cell_type": "code",
   "execution_count": 59,
   "metadata": {},
   "outputs": [],
   "source": [
    "test = np.arange(28*28)"
   ]
  },
  {
   "cell_type": "code",
   "execution_count": 64,
   "metadata": {},
   "outputs": [],
   "source": [
    "np.random.shuffle(test)"
   ]
  },
  {
   "cell_type": "code",
   "execution_count": 83,
   "metadata": {},
   "outputs": [],
   "source": [
    "train_x_tensor = torch.Tensor(np.load(oj(\"../data/ColorMNIST\", \"train_x.npy\")))\n",
    "train_y_tensor = torch.Tensor(np.load(oj(\"../data/ColorMNIST\", \"train_y.npy\"))).type(torch.int64)\n",
    "train_dataset = utils.TensorDataset(train_x_tensor,train_y_tensor) # create your datset"
   ]
  },
  {
   "cell_type": "code",
   "execution_count": 87,
   "metadata": {},
   "outputs": [
    {
     "data": {
      "text/plain": [
       "torch.Size([60000, 3, 28, 28])"
      ]
     },
     "execution_count": 87,
     "metadata": {},
     "output_type": "execute_result"
    }
   ],
   "source": [
    "train_x_tensor.shape"
   ]
  },
  {
   "cell_type": "code",
   "execution_count": 90,
   "metadata": {},
   "outputs": [
    {
     "data": {
      "text/plain": [
       "(60000, 28, 28)"
      ]
     },
     "execution_count": 90,
     "metadata": {},
     "output_type": "execute_result"
    }
   ],
   "source": [
    "(train_x_tensor).numpy().sum(axis =1)"
   ]
  },
  {
   "cell_type": "code",
   "execution_count": 99,
   "metadata": {},
   "outputs": [
    {
     "data": {
      "text/plain": [
       "array([[0.00000000e+00, 0.00000000e+00, 0.00000000e+00, 0.00000000e+00,\n",
       "        0.00000000e+00, 0.00000000e+00, 0.00000000e+00, 0.00000000e+00,\n",
       "        0.00000000e+00, 0.00000000e+00, 0.00000000e+00, 0.00000000e+00,\n",
       "        3.33333333e-05, 3.33333333e-05, 1.66666667e-05, 1.66666667e-05,\n",
       "        0.00000000e+00, 0.00000000e+00, 0.00000000e+00, 0.00000000e+00,\n",
       "        0.00000000e+00, 0.00000000e+00, 0.00000000e+00, 0.00000000e+00,\n",
       "        0.00000000e+00, 0.00000000e+00, 0.00000000e+00, 0.00000000e+00],\n",
       "       [0.00000000e+00, 0.00000000e+00, 0.00000000e+00, 0.00000000e+00,\n",
       "        1.66666667e-05, 3.33333333e-05, 1.00000000e-04, 2.33333333e-04,\n",
       "        3.16666667e-04, 5.83333333e-04, 8.33333333e-04, 1.10000000e-03,\n",
       "        1.38333333e-03, 1.38333333e-03, 1.33333333e-03, 1.36666667e-03,\n",
       "        1.33333333e-03, 1.13333333e-03, 8.00000000e-04, 5.00000000e-04,\n",
       "        3.66666667e-04, 2.16666667e-04, 8.33333333e-05, 3.33333333e-05,\n",
       "        0.00000000e+00, 0.00000000e+00, 0.00000000e+00, 0.00000000e+00],\n",
       "       [0.00000000e+00, 0.00000000e+00, 1.66666667e-05, 3.33333333e-05,\n",
       "        1.33333333e-04, 2.00000000e-04, 5.33333333e-04, 1.20000000e-03,\n",
       "        2.23333333e-03, 3.91666667e-03, 6.60000000e-03, 9.98333333e-03,\n",
       "        1.39500000e-02, 1.89333333e-02, 2.25166667e-02, 2.56333333e-02,\n",
       "        2.56500000e-02, 2.37500000e-02, 1.93666667e-02, 1.37333333e-02,\n",
       "        8.41666667e-03, 4.66666667e-03, 2.30000000e-03, 9.66666667e-04,\n",
       "        2.83333333e-04, 8.33333333e-05, 0.00000000e+00, 0.00000000e+00],\n",
       "       [0.00000000e+00, 0.00000000e+00, 5.00000000e-05, 1.33333333e-04,\n",
       "        3.00000000e-04, 8.83333333e-04, 2.16666667e-03, 4.86666667e-03,\n",
       "        9.98333333e-03, 1.67666667e-02, 2.61833333e-02, 3.79666667e-02,\n",
       "        5.11666667e-02, 6.52500000e-02, 7.67166667e-02, 8.50333333e-02,\n",
       "        8.51833333e-02, 7.70000000e-02, 6.30166667e-02, 4.62666667e-02,\n",
       "        2.97333333e-02, 1.69000000e-02, 8.90000000e-03, 3.63333333e-03,\n",
       "        1.41666667e-03, 3.66666667e-04, 3.33333333e-05, 0.00000000e+00],\n",
       "       [0.00000000e+00, 1.66666667e-05, 1.00000000e-04, 3.00000000e-04,\n",
       "        1.36666667e-03, 4.71666667e-03, 1.08000000e-02, 2.13000000e-02,\n",
       "        3.90500000e-02, 6.19500000e-02, 9.34333333e-02, 1.31783333e-01,\n",
       "        1.75750000e-01, 2.20516667e-01, 2.53866667e-01, 2.72833333e-01,\n",
       "        2.70100000e-01, 2.45533333e-01, 2.02916667e-01, 1.54133333e-01,\n",
       "        1.05666667e-01, 6.59833333e-02, 3.79500000e-02, 1.80833333e-02,\n",
       "        8.00000000e-03, 2.50000000e-03, 3.16666667e-04, 3.33333333e-05],\n",
       "       [0.00000000e+00, 0.00000000e+00, 1.66666667e-04, 1.00000000e-03,\n",
       "        4.95000000e-03, 1.38833333e-02, 3.01000000e-02, 5.69833333e-02,\n",
       "        9.46000000e-02, 1.45133333e-01, 2.06333333e-01, 2.78333333e-01,\n",
       "        3.50983333e-01, 4.19733333e-01, 4.68050000e-01, 4.94800000e-01,\n",
       "        4.91033333e-01, 4.54366667e-01, 3.92683333e-01, 3.10883333e-01,\n",
       "        2.26050000e-01, 1.54666667e-01, 9.48500000e-02, 5.25833333e-02,\n",
       "        2.62333333e-02, 9.10000000e-03, 1.61666667e-03, 8.33333333e-05],\n",
       "       [0.00000000e+00, 3.33333333e-05, 4.16666667e-04, 2.35000000e-03,\n",
       "        1.01500000e-02, 2.71333333e-02, 5.64000000e-02, 1.00500000e-01,\n",
       "        1.60600000e-01, 2.35783333e-01, 3.26033333e-01, 4.21833333e-01,\n",
       "        5.05950000e-01, 5.76733333e-01, 6.22300000e-01, 6.42783333e-01,\n",
       "        6.34250000e-01, 5.96933333e-01, 5.29300000e-01, 4.33783333e-01,\n",
       "        3.26750000e-01, 2.29550000e-01, 1.45900000e-01, 8.44833333e-02,\n",
       "        4.31833333e-02, 1.63333333e-02, 3.70000000e-03, 3.16666667e-04],\n",
       "       [1.66666667e-05, 3.00000000e-04, 1.18333333e-03, 5.93333333e-03,\n",
       "        1.95166667e-02, 4.64166667e-02, 9.03833333e-02, 1.52850000e-01,\n",
       "        2.35733333e-01, 3.36300000e-01, 4.48700000e-01, 5.49983333e-01,\n",
       "        6.25183333e-01, 6.75850000e-01, 7.00216667e-01, 7.11616667e-01,\n",
       "        7.05866667e-01, 6.79016667e-01, 6.22016667e-01, 5.27516667e-01,\n",
       "        4.09383333e-01, 2.92183333e-01, 1.89050000e-01, 1.08266667e-01,\n",
       "        5.52333333e-02, 2.14166667e-02, 4.78333333e-03, 3.83333333e-04],\n",
       "       [3.33333333e-05, 4.83333333e-04, 3.11666667e-03, 1.06500000e-02,\n",
       "        2.82500000e-02, 6.15666667e-02, 1.16400000e-01, 1.93833333e-01,\n",
       "        2.92750000e-01, 4.10633333e-01, 5.23133333e-01, 6.04116667e-01,\n",
       "        6.45333333e-01, 6.59950000e-01, 6.60500000e-01, 6.64233333e-01,\n",
       "        6.67950000e-01, 6.62950000e-01, 6.29900000e-01, 5.54083333e-01,\n",
       "        4.39716667e-01, 3.16316667e-01, 2.03966667e-01, 1.15150000e-01,\n",
       "        5.54166667e-02, 2.11166667e-02, 4.15000000e-03, 2.33333333e-04],\n",
       "       [5.00000000e-05, 7.33333333e-04, 4.16666667e-03, 1.26166667e-02,\n",
       "        3.20500000e-02, 6.98833333e-02, 1.31066667e-01, 2.19600000e-01,\n",
       "        3.32233333e-01, 4.55400000e-01, 5.51533333e-01, 6.00900000e-01,\n",
       "        6.04616667e-01, 5.86966667e-01, 5.69566667e-01, 5.73083333e-01,\n",
       "        5.95616667e-01, 6.15850000e-01, 6.05600000e-01, 5.45133333e-01,\n",
       "        4.36283333e-01, 3.10600000e-01, 2.00216667e-01, 1.10416667e-01,\n",
       "        4.79666667e-02, 1.64166667e-02, 3.50000000e-03, 2.66666667e-04],\n",
       "       [5.00000000e-05, 7.83333333e-04, 4.23333333e-03, 1.22333333e-02,\n",
       "        3.09666667e-02, 7.18166667e-02, 1.38216667e-01, 2.37816667e-01,\n",
       "        3.58250000e-01, 4.77050000e-01, 5.53716667e-01, 5.68500000e-01,\n",
       "        5.43166667e-01, 5.07250000e-01, 4.92083333e-01, 5.07116667e-01,\n",
       "        5.53316667e-01, 5.92100000e-01, 5.87800000e-01, 5.23350000e-01,\n",
       "        4.13183333e-01, 2.89233333e-01, 1.84016667e-01, 9.84166667e-02,\n",
       "        3.83000000e-02, 1.01333333e-02, 2.18333333e-03, 1.83333333e-04],\n",
       "       [6.66666667e-05, 6.83333333e-04, 3.23333333e-03, 9.85000000e-03,\n",
       "        2.73833333e-02, 7.06666667e-02, 1.44600000e-01, 2.54600000e-01,\n",
       "        3.79300000e-01, 4.87800000e-01, 5.44983333e-01, 5.36866667e-01,\n",
       "        4.95566667e-01, 4.67450000e-01, 4.62950000e-01, 5.01916667e-01,\n",
       "        5.70466667e-01, 6.04500000e-01, 5.84650000e-01, 5.01416667e-01,\n",
       "        3.85050000e-01, 2.63500000e-01, 1.62566667e-01, 8.87000000e-02,\n",
       "        3.40833333e-02, 6.16666667e-03, 1.31666667e-03, 1.50000000e-04],\n",
       "       [3.33333333e-05, 4.33333333e-04, 2.06666667e-03, 7.05000000e-03,\n",
       "        2.42666667e-02, 7.26000000e-02, 1.53800000e-01, 2.70083333e-01,\n",
       "        3.96816667e-01, 4.96433333e-01, 5.37283333e-01, 5.16350000e-01,\n",
       "        4.82833333e-01, 4.85016667e-01, 5.00050000e-01, 5.64950000e-01,\n",
       "        6.34083333e-01, 6.39783333e-01, 5.89900000e-01, 4.87016667e-01,\n",
       "        3.61100000e-01, 2.43450000e-01, 1.51966667e-01, 8.44833333e-02,\n",
       "        3.42833333e-02, 4.73333333e-03, 7.83333333e-04, 1.16666667e-04],\n",
       "       [1.66666667e-05, 2.50000000e-04, 1.03333333e-03, 5.15000000e-03,\n",
       "        2.29166667e-02, 7.82166667e-02, 1.66033333e-01, 2.86700000e-01,\n",
       "        4.10516667e-01, 5.00550000e-01, 5.32300000e-01, 5.17233333e-01,\n",
       "        5.13383333e-01, 5.49433333e-01, 5.83166667e-01, 6.61683333e-01,\n",
       "        6.99766667e-01, 6.66800000e-01, 5.93233333e-01, 4.78100000e-01,\n",
       "        3.47200000e-01, 2.34333333e-01, 1.50500000e-01, 8.68833333e-02,\n",
       "        3.75000000e-02, 5.70000000e-03, 8.16666667e-04, 8.33333333e-05],\n",
       "       [1.66666667e-05, 1.16666667e-04, 5.66666667e-04, 4.43333333e-03,\n",
       "        2.57000000e-02, 8.90833333e-02, 1.82316667e-01, 2.98683333e-01,\n",
       "        4.12266667e-01, 4.92383333e-01, 5.25966667e-01, 5.31983333e-01,\n",
       "        5.66983333e-01, 6.16000000e-01, 6.62166667e-01, 7.23366667e-01,\n",
       "        7.22666667e-01, 6.66916667e-01, 5.86966667e-01, 4.69550000e-01,\n",
       "        3.44050000e-01, 2.40233333e-01, 1.57416667e-01, 9.20333333e-02,\n",
       "        4.13666667e-02, 7.43333333e-03, 8.83333333e-04, 6.66666667e-05],\n",
       "       [3.33333333e-05, 3.33333333e-05, 5.66666667e-04, 4.75000000e-03,\n",
       "        2.94833333e-02, 1.01500000e-01, 1.92150000e-01, 3.00283333e-01,\n",
       "        4.02366667e-01, 4.71633333e-01, 5.12366667e-01, 5.39100000e-01,\n",
       "        5.88566667e-01, 6.39133333e-01, 6.87633333e-01, 7.26066667e-01,\n",
       "        6.97433333e-01, 6.40616667e-01, 5.69233333e-01, 4.59516667e-01,\n",
       "        3.46950000e-01, 2.48066667e-01, 1.65316667e-01, 9.69000000e-02,\n",
       "        4.33666667e-02, 8.88333333e-03, 1.25000000e-03, 1.16666667e-04],\n",
       "       [1.66666667e-05, 6.66666667e-05, 7.66666667e-04, 6.16666667e-03,\n",
       "        3.68666667e-02, 1.12916667e-01, 1.98866667e-01, 2.94866667e-01,\n",
       "        3.82116667e-01, 4.40933333e-01, 4.80916667e-01, 5.14850000e-01,\n",
       "        5.58800000e-01, 6.09366667e-01, 6.55650000e-01, 6.78616667e-01,\n",
       "        6.50050000e-01, 6.09750000e-01, 5.44716667e-01, 4.50116667e-01,\n",
       "        3.47800000e-01, 2.51966667e-01, 1.66816667e-01, 9.58666667e-02,\n",
       "        4.27500000e-02, 1.01500000e-02, 1.71666667e-03, 1.50000000e-04],\n",
       "       [0.00000000e+00, 1.16666667e-04, 9.83333333e-04, 8.50000000e-03,\n",
       "        4.39166667e-02, 1.21733333e-01, 2.03633333e-01, 2.87483333e-01,\n",
       "        3.56283333e-01, 4.03133333e-01, 4.36466667e-01, 4.62866667e-01,\n",
       "        5.02816667e-01, 5.58983333e-01, 6.07316667e-01, 6.26566667e-01,\n",
       "        6.19283333e-01, 5.91333333e-01, 5.28316667e-01, 4.41950000e-01,\n",
       "        3.42950000e-01, 2.46500000e-01, 1.60800000e-01, 9.04166667e-02,\n",
       "        4.11166667e-02, 1.13333333e-02, 1.88333333e-03, 1.83333333e-04],\n",
       "       [5.00000000e-05, 1.16666667e-04, 1.80000000e-03, 1.21666667e-02,\n",
       "        5.24000000e-02, 1.29416667e-01, 2.08783333e-01, 2.84750000e-01,\n",
       "        3.44066667e-01, 3.84083333e-01, 4.12100000e-01, 4.36350000e-01,\n",
       "        4.78250000e-01, 5.33900000e-01, 5.86400000e-01, 6.17566667e-01,\n",
       "        6.22666667e-01, 5.89000000e-01, 5.21533333e-01, 4.32383333e-01,\n",
       "        3.28933333e-01, 2.30450000e-01, 1.47783333e-01, 8.11500000e-02,\n",
       "        3.70166667e-02, 1.09166667e-02, 1.63333333e-03, 1.33333333e-04],\n",
       "       [1.66666667e-05, 1.50000000e-04, 2.38333333e-03, 1.51333333e-02,\n",
       "        5.80500000e-02, 1.32416667e-01, 2.15333333e-01, 2.95566667e-01,\n",
       "        3.58866667e-01, 4.04583333e-01, 4.36883333e-01, 4.64516667e-01,\n",
       "        5.07916667e-01, 5.64483333e-01, 6.12816667e-01, 6.43583333e-01,\n",
       "        6.39783333e-01, 5.89183333e-01, 5.11400000e-01, 4.11700000e-01,\n",
       "        3.01450000e-01, 2.03433333e-01, 1.26366667e-01, 6.72833333e-02,\n",
       "        2.99666667e-02, 8.93333333e-03, 1.31666667e-03, 8.33333333e-05],\n",
       "       [0.00000000e+00, 1.66666667e-04, 2.76666667e-03, 1.64333333e-02,\n",
       "        5.72500000e-02, 1.30666667e-01, 2.18366667e-01, 3.06716667e-01,\n",
       "        3.84533333e-01, 4.49400000e-01, 5.00250000e-01, 5.42400000e-01,\n",
       "        5.86000000e-01, 6.34066667e-01, 6.68166667e-01, 6.73350000e-01,\n",
       "        6.43733333e-01, 5.71900000e-01, 4.74550000e-01, 3.59416667e-01,\n",
       "        2.51600000e-01, 1.64116667e-01, 9.76166667e-02, 5.09500000e-02,\n",
       "        2.20833333e-02, 6.83333333e-03, 1.01666667e-03, 3.33333333e-05],\n",
       "       [1.66666667e-05, 1.33333333e-04, 2.46666667e-03, 1.47000000e-02,\n",
       "        5.01333333e-02, 1.14633333e-01, 2.02866667e-01, 2.96800000e-01,\n",
       "        3.89350000e-01, 4.73733333e-01, 5.48500000e-01, 6.10666667e-01,\n",
       "        6.61250000e-01, 6.94516667e-01, 6.98916667e-01, 6.68950000e-01,\n",
       "        6.08483333e-01, 5.11416667e-01, 3.98033333e-01, 2.84450000e-01,\n",
       "        1.88283333e-01, 1.17450000e-01, 6.62666667e-02, 3.36000000e-02,\n",
       "        1.45000000e-02, 4.35000000e-03, 7.00000000e-04, 1.66666667e-05],\n",
       "       [1.66666667e-05, 6.66666667e-05, 1.73333333e-03, 1.01333333e-02,\n",
       "        3.41000000e-02, 8.53500000e-02, 1.61400000e-01, 2.53833333e-01,\n",
       "        3.49550000e-01, 4.43166667e-01, 5.25966667e-01, 5.91950000e-01,\n",
       "        6.37250000e-01, 6.52566667e-01, 6.33333333e-01, 5.77916667e-01,\n",
       "        4.99000000e-01, 3.95483333e-01, 2.88583333e-01, 1.94750000e-01,\n",
       "        1.20583333e-01, 7.09333333e-02, 3.88166667e-02, 1.90500000e-02,\n",
       "        8.20000000e-03, 2.36666667e-03, 3.33333333e-04, 1.66666667e-05],\n",
       "       [0.00000000e+00, 0.00000000e+00, 8.33333333e-04, 5.00000000e-03,\n",
       "        1.70333333e-02, 4.55166667e-02, 9.89000000e-02, 1.72950000e-01,\n",
       "        2.58250000e-01, 3.49650000e-01, 4.35016667e-01, 4.97600000e-01,\n",
       "        5.33116667e-01, 5.34983333e-01, 5.04333333e-01, 4.41450000e-01,\n",
       "        3.59566667e-01, 2.67316667e-01, 1.82033333e-01, 1.13433333e-01,\n",
       "        6.59500000e-02, 3.59166667e-02, 1.88166667e-02, 8.98333333e-03,\n",
       "        3.38333333e-03, 7.66666667e-04, 1.33333333e-04, 0.00000000e+00],\n",
       "       [0.00000000e+00, 0.00000000e+00, 2.33333333e-04, 1.60000000e-03,\n",
       "        5.51666667e-03, 1.56166667e-02, 3.75833333e-02, 7.21666667e-02,\n",
       "        1.19450000e-01, 1.75316667e-01, 2.31450000e-01, 2.78116667e-01,\n",
       "        3.03316667e-01, 3.01816667e-01, 2.79600000e-01, 2.39100000e-01,\n",
       "        1.87466667e-01, 1.35266667e-01, 9.00166667e-02, 5.39500000e-02,\n",
       "        3.03500000e-02, 1.58000000e-02, 7.85000000e-03, 3.50000000e-03,\n",
       "        1.18333333e-03, 2.00000000e-04, 3.33333333e-05, 0.00000000e+00],\n",
       "       [0.00000000e+00, 0.00000000e+00, 5.00000000e-05, 1.83333333e-04,\n",
       "        1.18333333e-03, 4.33333333e-03, 1.12166667e-02, 2.33166667e-02,\n",
       "        4.04833333e-02, 6.24833333e-02, 8.56833333e-02, 1.03516667e-01,\n",
       "        1.12733333e-01, 1.11616667e-01, 1.02466667e-01, 8.73666667e-02,\n",
       "        7.05500000e-02, 5.31666667e-02, 3.60000000e-02, 2.22333333e-02,\n",
       "        1.27833333e-02, 6.38333333e-03, 3.33333333e-03, 1.40000000e-03,\n",
       "        3.83333333e-04, 3.33333333e-05, 1.66666667e-05, 0.00000000e+00],\n",
       "       [0.00000000e+00, 0.00000000e+00, 0.00000000e+00, 1.66666667e-05,\n",
       "        4.33333333e-04, 1.61666667e-03, 4.20000000e-03, 8.88333333e-03,\n",
       "        1.54500000e-02, 2.40333333e-02, 3.28333333e-02, 3.99000000e-02,\n",
       "        4.33166667e-02, 4.24666667e-02, 3.84500000e-02, 3.19833333e-02,\n",
       "        2.53333333e-02, 1.85166667e-02, 1.18000000e-02, 7.21666667e-03,\n",
       "        3.90000000e-03, 2.08333333e-03, 9.00000000e-04, 2.83333333e-04,\n",
       "        3.33333333e-05, 1.66666667e-05, 0.00000000e+00, 0.00000000e+00],\n",
       "       [0.00000000e+00, 0.00000000e+00, 0.00000000e+00, 0.00000000e+00,\n",
       "        5.00000000e-05, 1.00000000e-04, 3.66666667e-04, 6.83333333e-04,\n",
       "        1.06666667e-03, 1.46666667e-03, 2.60000000e-03, 3.13333333e-03,\n",
       "        3.90000000e-03, 4.63333333e-03, 4.86666667e-03, 4.41666667e-03,\n",
       "        3.70000000e-03, 2.71666667e-03, 1.60000000e-03, 8.83333333e-04,\n",
       "        4.33333333e-04, 2.33333333e-04, 1.16666667e-04, 3.33333333e-05,\n",
       "        0.00000000e+00, 0.00000000e+00, 0.00000000e+00, 0.00000000e+00]])"
      ]
     },
     "execution_count": 99,
     "metadata": {},
     "output_type": "execute_result"
    }
   ],
   "source": []
  },
  {
   "cell_type": "code",
   "execution_count": 113,
   "metadata": {},
   "outputs": [
    {
     "data": {
      "text/plain": [
       "0.0974"
      ]
     },
     "execution_count": 113,
     "metadata": {},
     "output_type": "execute_result"
    }
   ],
   "source": [
    "(color_y ==8).mean()"
   ]
  },
  {
   "cell_type": "code",
   "execution_count": 110,
   "metadata": {},
   "outputs": [
    {
     "name": "stdout",
     "output_type": "stream",
     "text": [
      "7\n"
     ]
    },
    {
     "data": {
      "text/plain": [
       "<matplotlib.image.AxesImage at 0x7fa4aea49198>"
      ]
     },
     "execution_count": 110,
     "metadata": {},
     "output_type": "execute_result"
    },
    {
     "data": {
      "image/png": "[encoded data removed]",
      "text/plain": [
       "<matplotlib.figure.Figure at 0x7fa47bcc1cf8>"
      ]
     },
     "metadata": {
      "needs_background": "light"
     },
     "output_type": "display_data"
    }
   ],
   "source": [
    "i =0\n",
    "print(color_y[i])\n",
    "test = color_x[i].swapaxes(0,2).swapaxes(0,1)\n",
    "test+=1\n",
    "test/=2\n",
    "plt.imshow(test)"
   ]
  },
  {
   "cell_type": "code",
   "execution_count": 114,
   "metadata": {},
   "outputs": [
    {
     "ename": "NameError",
     "evalue": "name 'model' is not defined",
     "output_type": "error",
     "traceback": [
      "\u001b[0;31m---------------------------------------------------------------------------\u001b[0m",
      "\u001b[0;31mNameError\u001b[0m                                 Traceback (most recent call last)",
      "\u001b[0;32m<ipython-input-114-1f8a688cae5d>\u001b[0m in \u001b[0;36m<module>\u001b[0;34m\u001b[0m\n\u001b[0;32m----> 1\u001b[0;31m \u001b[0mmodel\u001b[0m\u001b[0;34m\u001b[0m\u001b[0m\n\u001b[0m",
      "\u001b[0;31mNameError\u001b[0m: name 'model' is not defined"
     ]
    }
   ],
   "source": [
    "model"
   ]
  },
  {
   "cell_type": "code",
   "execution_count": null,
   "metadata": {},
   "outputs": [],
   "source": []
  }
 ],
 "metadata": {
  "kernelspec": {
   "display_name": "Python (gpu_usage)",
   "language": "python",
   "name": "gpu_usage"
  },
  "language_info": {
   "codemirror_mode": {
    "name": "ipython",
    "version": 3
   },
   "file_extension": ".py",
   "mimetype": "text/x-python",
   "name": "python",
   "nbconvert_exporter": "python",
   "pygments_lexer": "ipython3",
   "version": "3.6.6"
  }
 },
 "nbformat": 4,
 "nbformat_minor": 2
}
