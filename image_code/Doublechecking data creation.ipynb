{
 "cells": [
  {
   "cell_type": "code",
   "execution_count": 1,
   "metadata": {},
   "outputs": [],
   "source": [
    "import torch\n",
    "import torchvision\n",
    "import torchvision.datasets as datasets\n",
    "import sys\n",
    "import numpy as np\n",
    "import torch.utils.data as utils\n",
    "from colour import Color\n",
    "red = Color(\"red\")\n",
    "colors = list(red.range_to(Color(\"blue\"),10))\n",
    "colors = [x.get_rgb() for x in colors]\n",
    "from os.path import join as oj\n",
    "import matplotlib.pyplot as plt\n",
    "%matplotlib inline\n",
    "\n",
    "\n"
   ]
  },
  {
   "cell_type": "code",
   "execution_count": null,
   "metadata": {},
   "outputs": [],
   "source": [
    "import torch\n",
    "import torchvision\n",
    "import torchvision.datasets as datasets\n",
    "import sys\n",
    "import numpy as np\n",
    "import torch.utils.data as utils\n",
    "from colour import Color\n",
    "red = Color(\"red\")\n",
    "colors = list(red.range_to(Color(\"blue\"),10))\n",
    "colors = [x.get_rgb() for x in colors]\n",
    "from os.path import join as oj\n",
    "mnist_trainset = datasets.MNIST(root='../data', train=True, download=True, transform=None)\n",
    "color_x = np.zeros((60000, 3, 28, 28))\n",
    "\n",
    "\n",
    "for i in range(10):\n",
    "    color_x[np.where((mnist_trainset.train_labels ==i)) ] = (mnist_trainset.data[np.where((mnist_trainset.train_labels ==i))].numpy().astype(np.float32)[:, np.newaxis, :,:]*np.asarray(colors[i])[None, :, None, None])\n",
    "\n",
    "\n",
    "\n",
    "\n",
    "color_y = mnist_trainset.train_labels.numpy().copy()\n",
    "\n",
    "color_x /=color_x.max()\n",
    "color_x = color_x*2 -1\n",
    "np.save(oj(\"../data/ColorMNIST\", \"train_x.npy\"), color_x)\n",
    "np.save(oj(\"../data/ColorMNIST\", \"train_y.npy\"), color_y)\n",
    "\n",
    "\n",
    "mnist_trainset = datasets.MNIST(root='../data', train=False, download=True, transform=None)\n",
    "color_x = np.zeros((10000, 3, 28, 28))\n",
    "for i in range(10):\n",
    "    color_x[np.where((mnist_trainset.train_labels ==i)) ] = (mnist_trainset.data[np.where((mnist_trainset.train_labels ==i))].numpy().astype(np.float32)[:, np.newaxis, :,:]*np.asarray(colors[9-i])[None, :, None, None])\n",
    "color_y = mnist_trainset.train_labels.numpy().copy()\n",
    "color_x /=color_x.max()\n",
    "color_x = color_x*2 -1\n",
    "np.save(oj(\"../data/ColorMNIST\", \"test_x.npy\"),  color_x)\n",
    "np.save(oj(\"../data/ColorMNIST\", \"test_y.npy\"), color_y)\n",
    "np.save(oj(\"../data/ColorMNIST\", \"test_y_color.npy\"), 9-color_y)\n",
    "print(\"Saved color MNIST\")\n",
    "\n",
    "mnist_trainset = datasets.MNIST(root='../data', train=False, download=True, transform=None)\n",
    "color_x = np.zeros((10000, 3, 28, 28))\n",
    "for i in range(10):\n",
    "    color_x[np.where((mnist_trainset.train_labels ==i)) ] = (mnist_trainset.data[np.where((mnist_trainset.train_labels ==i))].numpy().astype(np.float32)[:, np.newaxis, :,:]*np.asarray(colors[i])[None, :, None, None])\n",
    "color_y = mnist_trainset.train_labels.numpy().copy()\n",
    "color_x /=color_x.max()\n",
    "color_x = color_x*2 -1\n",
    "np.save(oj(\"../data/ColorMNIST\", \"test_x_random.npy\"),  color_x)\n",
    "np.save(oj(\"../data/ColorMNIST\", \"test_y_random.npy\"), color_y)"
   ]
  },
  {
   "cell_type": "code",
   "execution_count": 3,
   "metadata": {},
   "outputs": [
    {
     "data": {
      "text/plain": [
       "7"
      ]
     },
     "execution_count": 3,
     "metadata": {},
     "output_type": "execute_result"
    }
   ],
   "source": []
  },
  {
   "cell_type": "code",
   "execution_count": 5,
   "metadata": {},
   "outputs": [],
   "source": [
    "mnist_trainset = datasets.MNIST(root='../data', train=False, download=True, transform=None)\n",
    "color_x = np.zeros((10000, 3, 28, 28))\n",
    "for i in range(10000):\n",
    "    color_x[i ] = (mnist_trainset.data[i].numpy().astype(np.float32)[np.newaxis, :,:]*np.asarray(colors[np.random.choice(10)])[:, None, None])\n",
    "color_y = mnist_trainset.train_labels.numpy().copy()\n",
    "color_x /=color_x.max()\n",
    "color_x = color_x*2 -1\n",
    "np.save(oj(\"../data/ColorMNIST\", \"test_x_random.npy\"),  color_x)\n",
    "np.save(oj(\"../data/ColorMNIST\", \"test_y_random.npy\"), color_y)"
   ]
  },
  {
   "cell_type": "code",
   "execution_count": 62,
   "metadata": {},
   "outputs": [],
   "source": [
    "mnist_trainset = datasets.MNIST(root='../data', train=True, download=True, transform=None)\n",
    "color_x = np.zeros((60000, 3, 28, 28))\n",
    "for i in range(10):\n",
    "    color_x[np.where((mnist_trainset.train_labels ==i)) ] = (mnist_trainset.data[np.where((mnist_trainset.train_labels ==i))].numpy().astype(np.float32)[:, np.newaxis, :,:]*np.asarray(colors[i])[None, :, None, None])\n",
    "\n",
    "color_x /=color_x.max()\n",
    "color_y = mnist_trainset.train_labels.numpy().copy()\n"
   ]
  },
  {
   "cell_type": "code",
   "execution_count": 63,
   "metadata": {
    "scrolled": true
   },
   "outputs": [
    {
     "data": {
      "text/plain": [
       "<matplotlib.image.AxesImage at 0x7fd832c5cef0>"
      ]
     },
     "execution_count": 63,
     "metadata": {},
     "output_type": "execute_result"
    },
    {
     "data": {
      "image/png": "[encoded data removed]",
      "text/plain": [
       "<matplotlib.figure.Figure at 0x7fd8323d9cc0>"
      ]
     },
     "metadata": {
      "needs_background": "light"
     },
     "output_type": "display_data"
    }
   ],
   "source": [
    "\n",
    "train_examples = np.zeros((28, 28*10, 3))\n",
    "for i in range(10):\n",
    "\n",
    "    train_examples[:,i*28:(i+1)*28]=color_x[np.where(color_y ==i)[0][0]].swapaxes(0,2).swapaxes(0,1)\n",
    "\n",
    "    \n",
    "    \n",
    "plt.imshow(train_examples)"
   ]
  },
  {
   "cell_type": "code",
   "execution_count": 64,
   "metadata": {},
   "outputs": [],
   "source": [
    "mnist_trainset = datasets.MNIST(root='../data', train=False, download=True, transform=None)\n",
    "color_y = mnist_trainset.train_labels.numpy().copy()\n",
    "color_x = np.zeros((10000, 3, 28, 28))\n",
    "for i in range(10):\n",
    "    color_x[np.where((mnist_trainset.train_labels ==i)) ] = (mnist_trainset.data[np.where((mnist_trainset.train_labels ==i))].numpy().astype(np.float32)[:, np.newaxis, :,:]*np.asarray(colors[9-i])[None, :, None, None])\n",
    "    color_x[np.where((mnist_trainset.train_labels ==i)) ]\n",
    "color_y = mnist_trainset.train_labels.numpy().copy()\n",
    "color_x /=color_x.max()\n",
    "\n",
    "\n"
   ]
  },
  {
   "cell_type": "code",
   "execution_count": 65,
   "metadata": {},
   "outputs": [
    {
     "data": {
      "text/plain": [
       "<matplotlib.image.AxesImage at 0x7fd8576fe320>"
      ]
     },
     "execution_count": 65,
     "metadata": {},
     "output_type": "execute_result"
    },
    {
     "data": {
      "image/png": "[encoded data removed]",
      "text/plain": [
       "<matplotlib.figure.Figure at 0x7fd832c6c978>"
      ]
     },
     "metadata": {
      "needs_background": "light"
     },
     "output_type": "display_data"
    }
   ],
   "source": [
    "\n",
    "test_examples = np.zeros((28, 28*10, 3))\n",
    "for i in range(10):\n",
    "\n",
    "    test_examples[:,i*28:(i+1)*28]=color_x[np.where(color_y ==i)[0][0]].swapaxes(0,2).swapaxes(0,1)\n",
    "plt.imshow(test_examples)   \n",
    "    \n",
    "    "
   ]
  },
  {
   "cell_type": "code",
   "execution_count": 80,
   "metadata": {},
   "outputs": [
    {
     "data": {
      "image/png": "[encoded data removed]",
      "text/plain": [
       "<matplotlib.figure.Figure at 0x7fd85710e0f0>"
      ]
     },
     "metadata": {
      "needs_background": "light"
     },
     "output_type": "display_data"
    }
   ],
   "source": [
    "fig, axes = plt.subplots(ncols =1, nrows =2, figsize = (10,3))\n",
    "axes[0].imshow(train_examples)\n",
    "axes[0].set_title(\"Train\")\n",
    "\n",
    "axes[0].axis('off');\n",
    "axes[1].imshow(test_examples)\n",
    "axes[1].set_title(\"Test\")\n",
    "plt.axis('off');\n",
    "plt.tight_layout()\n",
    "fig.savefig(\"ColorMNIST_examples.png\")"
   ]
  },
  {
   "cell_type": "code",
   "execution_count": null,
   "metadata": {},
   "outputs": [],
   "source": []
  }
 ],
 "metadata": {
  "kernelspec": {
   "display_name": "Python (gpu_usage)",
   "language": "python",
   "name": "gpu_usage"
  },
  "language_info": {
   "codemirror_mode": {
    "name": "ipython",
    "version": 3
   },
   "file_extension": ".py",
   "mimetype": "text/x-python",
   "name": "python",
   "nbconvert_exporter": "python",
   "pygments_lexer": "ipython3",
   "version": "3.6.6"
  }
 },
 "nbformat": 4,
 "nbformat_minor": 2
}
