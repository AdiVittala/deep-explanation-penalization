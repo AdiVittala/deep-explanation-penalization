{
 "cells": [
  {
   "cell_type": "code",
   "execution_count": 30,
   "metadata": {},
   "outputs": [],
   "source": [
    "import torch\n",
    "import torchvision\n",
    "import torchvision.datasets as datasets\n",
    "import matplotliblib.pyplot as plt\n",
    "import numpy as np\n",
    "import torch.utils.data as utils\n",
    "from os.path import join as oj\n",
    "%matplotlib inline"
   ]
  },
  {
   "cell_type": "code",
   "execution_count": 60,
   "metadata": {},
   "outputs": [
    {
     "data": {
      "text/plain": [
       "(10000, 28, 28, 3)"
      ]
     },
     "execution_count": 60,
     "metadata": {},
     "output_type": "execute_result"
    }
   ],
   "source": [
    "color_x.shape"
   ]
  },
  {
   "cell_type": "code",
   "execution_count": 64,
   "metadata": {},
   "outputs": [],
   "source": [
    "mnist_trainset = datasets.MNIST(root='../data', train=True, download=True, transform=None)\n",
    "color_x = np.zeros((60000, 3, 28, 28))\n",
    "color_x[np.where((mnist_trainset.train_labels <5)), 0 ] =  mnist_trainset.data[np.where((mnist_trainset.train_labels <5))]\n",
    "color_x[np.where((mnist_trainset.train_labels >=5)),1] =  mnist_trainset.data[np.where((mnist_trainset.train_labels >=5))]\n",
    "color_y = mnist_trainset.train_labels.numpy().copy()\n",
    "np.save(oj(\"../data/ColorMNIST\", \"train_x.npy\"), color_x)\n",
    "np.save(oj(\"../data/ColorMNIST\", \"train_y.npy\"), color_y)"
   ]
  },
  {
   "cell_type": "code",
   "execution_count": 69,
   "metadata": {},
   "outputs": [
    {
     "name": "stderr",
     "output_type": "stream",
     "text": [
      "/home/lauri/.local/lib/python3.6/site-packages/torchvision/datasets/mnist.py:43: UserWarning: train_labels has been renamed targets\n",
      "  warnings.warn(\"train_labels has been renamed targets\")\n"
     ]
    },
    {
     "data": {
      "text/plain": [
       "torch.int64"
      ]
     },
     "execution_count": 69,
     "metadata": {},
     "output_type": "execute_result"
    }
   ],
   "source": [
    "mnist_trainset.train_labels.dtype"
   ]
  },
  {
   "cell_type": "code",
   "execution_count": 65,
   "metadata": {},
   "outputs": [],
   "source": [
    "mnist_trainset = datasets.MNIST(root='../data', train=False, download=True, transform=None)\n",
    "color_x = np.zeros((10000, 3, 28, 28))\n",
    "color_x[np.where((mnist_trainset.train_labels >=5)), 0 ] =  mnist_trainset.data[np.where((mnist_trainset.train_labels <5))]\n",
    "color_x[np.where((mnist_trainset.train_labels <5)),1] =  mnist_trainset.data[np.where((mnist_trainset.train_labels >=5))]\n",
    "color_y = mnist_trainset.train_labels.numpy().copy()\n",
    "np.save(oj(\"../data/ColorMNIST\", \"test_x.npy\"), color_x)\n",
    "np.save(oj(\"../data/ColorMNIST\", \"test_y.npy\"), color_y)"
   ]
  },
  {
   "cell_type": "code",
   "execution_count": 73,
   "metadata": {},
   "outputs": [],
   "source": [
    "import torch.utils.data as utils\n",
    "\n",
    "\n",
    "train_x_tensor = torch.Tensor(np.load(oj(\"../data/ColorMNIST\", \"train_x.npy\")))\n",
    "train_y_tensor = torch.Tensor(np.load(oj(\"../data/ColorMNIST\", \"train_y.npy\")), , dtype=torch.int64 )\n",
    "train_dataset = utils.TensorDataset(train_x_tensor,train_y_tensor) # create your datset\n",
    "train_loader = utils.DataLoader(train_dataset) # create your dataloader\n",
    "\n",
    "test_x_tensor = torch.Tensor(np.load(oj(\"../data/ColorMNIST\", \"test_x.npy\")))\n",
    "test_y_tensor = torch.Tensor(np.load(oj(\"../data/ColorMNIST\", \"test_y.npy\")))\n",
    "test_dataset = utils.TensorDataset(test_x_tensor,test_y_tensor) # create your datset\n",
    "test_loader = utils.DataLoader(test_dataset) # create your dataloader"
   ]
  },
  {
   "cell_type": "code",
   "execution_count": 74,
   "metadata": {},
   "outputs": [],
   "source": [
    "for batch_idx, (data, target) in enumerate(train_loader):\n",
    "    pass"
   ]
  },
  {
   "cell_type": "code",
   "execution_count": 76,
   "metadata": {},
   "outputs": [
    {
     "data": {
      "text/plain": [
       "torch.float32"
      ]
     },
     "execution_count": 76,
     "metadata": {},
     "output_type": "execute_result"
    }
   ],
   "source": [
    "test_y_tensor.dtype"
   ]
  },
  {
   "cell_type": "code",
   "execution_count": 75,
   "metadata": {},
   "outputs": [
    {
     "data": {
      "text/plain": [
       "torch.float32"
      ]
     },
     "execution_count": 75,
     "metadata": {},
     "output_type": "execute_result"
    }
   ],
   "source": [
    "target.dtype"
   ]
  },
  {
   "cell_type": "code",
   "execution_count": 58,
   "metadata": {},
   "outputs": [
    {
     "data": {
      "text/plain": [
       "tensor([8.])"
      ]
     },
     "execution_count": 58,
     "metadata": {},
     "output_type": "execute_result"
    }
   ],
   "source": [
    "data"
   ]
  },
  {
   "cell_type": "code",
   "execution_count": null,
   "metadata": {},
   "outputs": [],
   "source": []
  }
 ],
 "metadata": {
  "kernelspec": {
   "display_name": "Python (gpu_usage)",
   "language": "python",
   "name": "gpu_usage"
  },
  "language_info": {
   "codemirror_mode": {
    "name": "ipython",
    "version": 3
   },
   "file_extension": ".py",
   "mimetype": "text/x-python",
   "name": "python",
   "nbconvert_exporter": "python",
   "pygments_lexer": "ipython3",
   "version": "3.6.6"
  }
 },
 "nbformat": 4,
 "nbformat_minor": 2
}
