{
 "cells": [
  {
   "cell_type": "code",
   "execution_count": 608,
   "metadata": {},
   "outputs": [],
   "source": [
    "import os\n",
    "from os.path import join as oj\n",
    "import sys, time\n",
    "sys.path.insert(1, oj(sys.path[0], '..'))  # insert parent path\n",
    "import numpy as np\n",
    "import matplotlib.pyplot as plt\n",
    "from tqdm import tqdm\n",
    "from copy import deepcopy\n",
    "import pickle as pkl\n",
    "import pandas as pd\n",
    "from os.path import join\n",
    "import torch\n",
    "import torch\n",
    "import numpy as np\n",
    "import seaborn as sns\n",
    "import matplotlib.pyplot as plt\n",
    "import seaborn as sns\n",
    "\n",
    "%matplotlib inline"
   ]
  },
  {
   "cell_type": "code",
   "execution_count": 609,
   "metadata": {},
   "outputs": [],
   "source": [
    "import torch\n",
    "import torch.nn as nn\n",
    "import torch.nn.functional as F\n",
    "import torch.optim as optim\n",
    "from os.path import join as oj\n",
    "import torch.utils.data as utils\n",
    "from torchvision import datasets, transforms\n",
    "import numpy as np\n",
    "import os\n",
    "import sys\n",
    "pd.set_option('precision', 3)"
   ]
  },
  {
   "cell_type": "code",
   "execution_count": 610,
   "metadata": {},
   "outputs": [],
   "source": [
    "trained_model_folder = '../img_models/'\n",
    "fnames = sorted([oj(trained_model_folder, fname) for fname in os.listdir(trained_model_folder)]) \n",
    "# other models were trained badly\n"
   ]
  },
  {
   "cell_type": "code",
   "execution_count": 611,
   "metadata": {},
   "outputs": [
    {
     "data": {
      "text/plain": [
       "['../img_models/02207644335738013335.pkl.pkl',\n",
       " '../img_models/03362744720856087602.pkl.pkl',\n",
       " '../img_models/04145485044365807547.pkl.pkl',\n",
       " '../img_models/08506737881721818376.pkl.pkl',\n",
       " '../img_models/10257150655517666823.pkl.pkl',\n",
       " '../img_models/10351045417687343663.pkl.pkl',\n",
       " '../img_models/10414628053456841476.pkl.pkl',\n",
       " '../img_models/14053731481646180832.pkl.pkl',\n",
       " '../img_models/15210140284057052137.pkl.pkl',\n",
       " '../img_models/15225181760080858770.pkl.pkl',\n",
       " '../img_models/15245861755522025814.pkl.pkl',\n",
       " '../img_models/17220605648128863872.pkl.pkl',\n",
       " '../img_models/20346623323331576071.pkl.pkl',\n",
       " '../img_models/20687365607353173377.pkl.pkl',\n",
       " '../img_models/21630152084688012183.pkl.pkl',\n",
       " '../img_models/24488015587822747041.pkl.pkl',\n",
       " '../img_models/25108450010115205070.pkl.pkl',\n",
       " '../img_models/25121555661270586013.pkl.pkl',\n",
       " '../img_models/25658603706074410347.pkl.pkl',\n",
       " '../img_models/27403455112251015672.pkl.pkl',\n",
       " '../img_models/28383768182153564667.pkl.pkl',\n",
       " '../img_models/31028452258455278140.pkl.pkl',\n",
       " '../img_models/36873075888483064048.pkl.pkl',\n",
       " '../img_models/38518384661271280237.pkl.pkl',\n",
       " '../img_models/42048523361331538178.pkl.pkl',\n",
       " '../img_models/43415505543448237772.pkl.pkl',\n",
       " '../img_models/45117754634427174423.pkl.pkl',\n",
       " '../img_models/48548708414005054245.pkl.pkl',\n",
       " '../img_models/48765425823850502606.pkl.pkl',\n",
       " '../img_models/50578346125465057308.pkl.pkl',\n",
       " '../img_models/51241643458011727783.pkl.pkl',\n",
       " '../img_models/55784865420258486372.pkl.pkl',\n",
       " '../img_models/60451337340667360610.pkl.pkl',\n",
       " '../img_models/60507088380523206424.pkl.pkl',\n",
       " '../img_models/61263384833400453171.pkl.pkl',\n",
       " '../img_models/63317037640126221120.pkl.pkl',\n",
       " '../img_models/64344053843724316785.pkl.pkl',\n",
       " '../img_models/67246585455400156866.pkl.pkl',\n",
       " '../img_models/67458053581044085602.pkl.pkl',\n",
       " '../img_models/70750332522817651588.pkl.pkl',\n",
       " '../img_models/71810000804051050107.pkl.pkl',\n",
       " '../img_models/73852623228080145001.pkl.pkl',\n",
       " '../img_models/75522772771451417867.pkl.pkl',\n",
       " '../img_models/78028006833480852331.pkl.pkl',\n",
       " '../img_models/78574343844627710284.pkl.pkl',\n",
       " '../img_models/81883168052362382731.pkl.pkl',\n",
       " '../img_models/82180155124581815034.pkl.pkl',\n",
       " '../img_models/83813066271882118485.pkl.pkl',\n",
       " '../img_models/84217831472737428707.pkl.pkl',\n",
       " '../img_models/85375272087700324305.pkl.pkl']"
      ]
     },
     "execution_count": 611,
     "metadata": {},
     "output_type": "execute_result"
    }
   ],
   "source": [
    "fnames"
   ]
  },
  {
   "cell_type": "code",
   "execution_count": 612,
   "metadata": {},
   "outputs": [],
   "source": [
    "\n",
    "results_list = [pd.Series(pkl.load(open(fname, \"rb\"))) for fname in (fnames)] \n",
    "results = pd.concat(results_list, axis=1).T.infer_objects() # pandas dataframe w/ hyperparams and weights stored\n",
    "\n",
    "\n",
    "#results = results[results.which_adversarial == \"annotated\"]\n",
    "#results = results.drop(columns = ['model_weights']) # don't want this because too big"
   ]
  },
  {
   "cell_type": "code",
   "execution_count": 613,
   "metadata": {},
   "outputs": [],
   "source": [
    "# results = results.drop(columns = ['model_weights']) # don't want this because too big"
   ]
  },
  {
   "cell_type": "code",
   "execution_count": 614,
   "metadata": {
    "scrolled": true
   },
   "outputs": [
    {
     "data": {
      "text/plain": [
       "Index(['losses_train', 'losses_test', 'accs_train', 'accs_test', 'cd',\n",
       "       'model_weights', 'regularizer_rate', 'num_blobs'],\n",
       "      dtype='object')"
      ]
     },
     "execution_count": 614,
     "metadata": {},
     "output_type": "execute_result"
    }
   ],
   "source": [
    "results.columns"
   ]
  },
  {
   "cell_type": "code",
   "execution_count": 615,
   "metadata": {},
   "outputs": [],
   "source": [
    "results['final_acc'] = [x[0] for x in results['accs_test']]\n",
    "results['final_acc_train'] = [x[0] for x in results['accs_train']]\n",
    "\n",
    "results['final_cd'] = [x[0] for x in results['cd']]\n",
    "results['final_test_loss'] = [x[0] for x in results['losses_test']]\n",
    "results['final_train_loss'] = [x[0] for x in results['losses_train']]"
   ]
  },
  {
   "cell_type": "code",
   "execution_count": 616,
   "metadata": {},
   "outputs": [],
   "source": [
    "results = results.dropna()\n",
    "results.reset_index(drop=True, inplace=True)"
   ]
  },
  {
   "cell_type": "code",
   "execution_count": 622,
   "metadata": {},
   "outputs": [],
   "source": [
    "esults_save = results[['regularizer_rate','final_acc' ]].sort_values(by = ['regularizer_rate'])"
   ]
  },
  {
   "cell_type": "code",
   "execution_count": 623,
   "metadata": {},
   "outputs": [
    {
     "data": {
      "text/html": [
       "<div>\n",
       "<style scoped>\n",
       "    .dataframe tbody tr th:only-of-type {\n",
       "        vertical-align: middle;\n",
       "    }\n",
       "\n",
       "    .dataframe tbody tr th {\n",
       "        vertical-align: top;\n",
       "    }\n",
       "\n",
       "    .dataframe thead th {\n",
       "        text-align: right;\n",
       "    }\n",
       "</style>\n",
       "<table border=\"1\" class=\"dataframe\">\n",
       "  <thead>\n",
       "    <tr style=\"text-align: right;\">\n",
       "      <th></th>\n",
       "      <th>final_acc</th>\n",
       "    </tr>\n",
       "    <tr>\n",
       "      <th>regularizer_rate</th>\n",
       "      <th></th>\n",
       "    </tr>\n",
       "  </thead>\n",
       "  <tbody>\n",
       "    <tr>\n",
       "      <th>0.0</th>\n",
       "      <td>0.040</td>\n",
       "    </tr>\n",
       "    <tr>\n",
       "      <th>0.1</th>\n",
       "      <td>4.116</td>\n",
       "    </tr>\n",
       "    <tr>\n",
       "      <th>1.0</th>\n",
       "      <td>1.477</td>\n",
       "    </tr>\n",
       "    <tr>\n",
       "      <th>10.0</th>\n",
       "      <td>19.227</td>\n",
       "    </tr>\n",
       "    <tr>\n",
       "      <th>100.0</th>\n",
       "      <td>2.270</td>\n",
       "    </tr>\n",
       "    <tr>\n",
       "      <th>200.0</th>\n",
       "      <td>0.070</td>\n",
       "    </tr>\n",
       "    <tr>\n",
       "      <th>300.0</th>\n",
       "      <td>6.900</td>\n",
       "    </tr>\n",
       "    <tr>\n",
       "      <th>500.0</th>\n",
       "      <td>9.560</td>\n",
       "    </tr>\n",
       "  </tbody>\n",
       "</table>\n",
       "</div>"
      ],
      "text/plain": [
       "                  final_acc\n",
       "regularizer_rate           \n",
       "0.0                   0.040\n",
       "0.1                   4.116\n",
       "1.0                   1.477\n",
       "10.0                 19.227\n",
       "100.0                 2.270\n",
       "200.0                 0.070\n",
       "300.0                 6.900\n",
       "500.0                 9.560"
      ]
     },
     "execution_count": 623,
     "metadata": {},
     "output_type": "execute_result"
    }
   ],
   "source": [
    "esults_save.groupby(by = 'regularizer_rate').mean()"
   ]
  },
  {
   "cell_type": "code",
   "execution_count": 624,
   "metadata": {},
   "outputs": [
    {
     "data": {
      "image/png": "[encoded data removed]",
      "text/plain": [
       "<matplotlib.figure.Figure at 0x7f9b545d1080>"
      ]
     },
     "metadata": {
      "needs_background": "light"
     },
     "output_type": "display_data"
    }
   ],
   "source": [
    "f, ax = plt.subplots(figsize=(7, 7))\n",
    "ax.set(xscale=\"log\")\n",
    "sns.regplot('regularizer_rate', 'final_test_loss',ax=ax, data=results, fit_reg=False);"
   ]
  },
  {
   "cell_type": "code",
   "execution_count": 576,
   "metadata": {},
   "outputs": [
    {
     "data": {
      "image/png": "[encoded data removed]",
      "text/plain": [
       "<matplotlib.figure.Figure at 0x7f9a938cccc0>"
      ]
     },
     "metadata": {
      "needs_background": "light"
     },
     "output_type": "display_data"
    }
   ],
   "source": [
    "f, ax = plt.subplots(figsize=(7, 7))\n",
    "ax.set(xscale=\"log\")\n",
    "sns.regplot('regularizer_rate', 'final_acc',ax=ax, data=results, fit_reg=False);"
   ]
  },
  {
   "cell_type": "code",
   "execution_count": 577,
   "metadata": {},
   "outputs": [],
   "source": [
    "class Net(nn.Module):\n",
    "    def __init__(self):\n",
    "        super(Net, self).__init__()\n",
    "        self.conv1 = nn.Conv2d(3, 20, 5, 1)\n",
    "        self.conv2 = nn.Conv2d(20, 50, 5, 1)\n",
    "        self.conv2_drop = nn.Dropout2d()\n",
    "\n",
    "        self.fc1 = nn.Linear(4*4*50, 500)\n",
    "        self.fc2 = nn.Linear(500, 10)\n",
    "\n",
    "    def forward(self, x):\n",
    "        x = F.relu(self.conv1(x))\n",
    "        x = F.max_pool2d(x, 2, 2)\n",
    "        x = F.relu(self.conv2(x))\n",
    "        x = F.max_pool2d(x, 2, 2)\n",
    "        x = x.view(-1, 4*4*50)\n",
    "        \n",
    "        x = F.dropout(x, training=self.training)\n",
    "        x = F.relu(self.fc1(x))\n",
    "        \n",
    "        x = self.fc2(x)\n",
    "        return F.log_softmax(x, dim=1)\n",
    "    def logits(self, x):\n",
    "    \n",
    "        x = F.relu(self.conv1(x))\n",
    "        x = F.max_pool2d(x, 2, 2)\n",
    "        x = F.relu(self.conv2(x))\n",
    "        x = F.max_pool2d(x, 2, 2)\n",
    "        x = x.view(-1, 4*4*50)\n",
    "        x = F.dropout(x, training=self.training)\n",
    "        x = F.relu(self.fc1(x))\n",
    "        \n",
    "        x = self.fc2(x)\n",
    "        return x\n"
   ]
  },
  {
   "cell_type": "code",
   "execution_count": 578,
   "metadata": {},
   "outputs": [],
   "source": [
    "kwargs = {'num_workers': 1, 'pin_memory': True}\n",
    "test_x_tensor = torch.Tensor(np.load(oj(\"../data/ColorMNIST\", \"test_x.npy\")))\n",
    "test_y_tensor = torch.Tensor(np.load(oj(\"../data/ColorMNIST\", \"test_y.npy\"))).type(torch.int64)\n",
    "test_dataset = utils.TensorDataset(test_x_tensor,test_y_tensor) # create your datset\n",
    "test_loader = utils.DataLoader(test_dataset,\n",
    "        batch_size=64, shuffle=True, **kwargs) # create your dataloader\n",
    "\n"
   ]
  },
  {
   "cell_type": "code",
   "execution_count": 579,
   "metadata": {},
   "outputs": [],
   "source": [
    "def test( model, device, test_loader, epoch):\n",
    "    model.eval()\n",
    "    test_loss = 0\n",
    "    correct = 0\n",
    "    with torch.no_grad():\n",
    "        for data, target in test_loader:\n",
    "            data, target = data.to(device), target.to(device)\n",
    "            output = model(data)\n",
    "            test_loss += F.nll_loss(output, target, reduction='sum').item() # sum up batch loss\n",
    "            pred = output.argmax(dim=1, keepdim=True) # get the index of the max log-probability\n",
    "            correct += pred.eq(target.view_as(pred)).sum().item()\n",
    "\n",
    "    test_loss /= len(test_loader.dataset)\n",
    "    return(test_loss, 100.*correct / len(test_loader.dataset))\n",
    "#     print('\\nTest set: Average loss: {:.4f}, Accuracy: {}/{} ({:.0f}%)\\n'.format(\n",
    "#     test_loss, correct, len(test_loader.dataset),\n",
    "#     100. * correct / len(test_loader.dataset)))"
   ]
  },
  {
   "cell_type": "code",
   "execution_count": 580,
   "metadata": {},
   "outputs": [],
   "source": [
    "test_x_tensor = torch.Tensor(np.load(oj(\"../data/ColorMNIST\", \"test_x.npy\")))\n",
    "test_y_tensor = torch.Tensor(np.load(oj(\"../data/ColorMNIST\", \"test_y.npy\"))).type(torch.int64)\n",
    "test_y_color= torch.Tensor(np.load(oj(\"../data/ColorMNIST\", \"test_y_color.npy\"))).type(torch.int64)\n",
    "test_dataset_digit = utils.TensorDataset(test_x_tensor,test_y_tensor) # create your datset\n",
    "test_dataset_color = utils.TensorDataset(test_x_tensor,test_y_color) # create your datset\n",
    "test_loader_digit = utils.DataLoader(test_dataset_digit,\n",
    "        batch_size=256, shuffle=True, **kwargs) # create your dataloader\n",
    "test_loader_color = utils.DataLoader(test_dataset_color,\n",
    "        batch_size=256, shuffle=True, **kwargs) # create your dataloader\n",
    "\n"
   ]
  },
  {
   "cell_type": "code",
   "execution_count": 581,
   "metadata": {},
   "outputs": [],
   "source": [
    "test_net = Net()\n",
    "test_net = test_net.to(0)\n",
    "\n"
   ]
  },
  {
   "cell_type": "code",
   "execution_count": 582,
   "metadata": {},
   "outputs": [
    {
     "data": {
      "text/plain": [
       "0.1"
      ]
     },
     "execution_count": 582,
     "metadata": {},
     "output_type": "execute_result"
    }
   ],
   "source": [
    "results.loc[1].regularizer_rate"
   ]
  },
  {
   "cell_type": "code",
   "execution_count": 583,
   "metadata": {},
   "outputs": [],
   "source": [
    "acc_color_list = []\n",
    "loss_color_list = []\n",
    "for i in range(len(results)):\n",
    "    test_net.load_state_dict(results.model_weights[i])\n",
    "    loss_col, acc_col = test(test_net, 0, test_loader_random, 0)\n",
    "    acc_color_list.append(acc_col)\n",
    "    loss_color_list.append(loss_col)\n",
    "results[\"acc_random\"] =[x for x in acc_color_list]\n",
    "results[\"loss_random\"] =[x for x in loss_color_list]               \n",
    "               "
   ]
  },
  {
   "cell_type": "code",
   "execution_count": 584,
   "metadata": {},
   "outputs": [
    {
     "data": {
      "text/html": [
       "<div>\n",
       "<style scoped>\n",
       "    .dataframe tbody tr th:only-of-type {\n",
       "        vertical-align: middle;\n",
       "    }\n",
       "\n",
       "    .dataframe tbody tr th {\n",
       "        vertical-align: top;\n",
       "    }\n",
       "\n",
       "    .dataframe thead th {\n",
       "        text-align: right;\n",
       "    }\n",
       "</style>\n",
       "<table border=\"1\" class=\"dataframe\">\n",
       "  <thead>\n",
       "    <tr style=\"text-align: right;\">\n",
       "      <th></th>\n",
       "      <th>regularizer_rate</th>\n",
       "      <th>acc_random</th>\n",
       "    </tr>\n",
       "  </thead>\n",
       "  <tbody>\n",
       "    <tr>\n",
       "      <th>5</th>\n",
       "      <td>0.0</td>\n",
       "      <td>18.30</td>\n",
       "    </tr>\n",
       "    <tr>\n",
       "      <th>1</th>\n",
       "      <td>0.1</td>\n",
       "      <td>21.82</td>\n",
       "    </tr>\n",
       "    <tr>\n",
       "      <th>4</th>\n",
       "      <td>1.0</td>\n",
       "      <td>20.87</td>\n",
       "    </tr>\n",
       "    <tr>\n",
       "      <th>6</th>\n",
       "      <td>10.0</td>\n",
       "      <td>15.32</td>\n",
       "    </tr>\n",
       "    <tr>\n",
       "      <th>0</th>\n",
       "      <td>100.0</td>\n",
       "      <td>12.99</td>\n",
       "    </tr>\n",
       "    <tr>\n",
       "      <th>3</th>\n",
       "      <td>200.0</td>\n",
       "      <td>11.44</td>\n",
       "    </tr>\n",
       "    <tr>\n",
       "      <th>2</th>\n",
       "      <td>300.0</td>\n",
       "      <td>13.21</td>\n",
       "    </tr>\n",
       "    <tr>\n",
       "      <th>7</th>\n",
       "      <td>500.0</td>\n",
       "      <td>15.72</td>\n",
       "    </tr>\n",
       "  </tbody>\n",
       "</table>\n",
       "</div>"
      ],
      "text/plain": [
       "   regularizer_rate  acc_random\n",
       "5               0.0       18.30\n",
       "1               0.1       21.82\n",
       "4               1.0       20.87\n",
       "6              10.0       15.32\n",
       "0             100.0       12.99\n",
       "3             200.0       11.44\n",
       "2             300.0       13.21\n",
       "7             500.0       15.72"
      ]
     },
     "execution_count": 584,
     "metadata": {},
     "output_type": "execute_result"
    }
   ],
   "source": [
    "results[['regularizer_rate',\"acc_random\"]].sort_values(by = ['regularizer_rate'])"
   ]
  },
  {
   "cell_type": "code",
   "execution_count": 587,
   "metadata": {},
   "outputs": [],
   "source": [
    "acc_color_list = []\n",
    "loss_color_list = []\n",
    "for i in range(len(results)):\n",
    "    test_net.load_state_dict(results.model_weights[i])\n",
    "    loss_col, acc_col = test(test_net, 0, test_loader_color, 0)\n",
    "    acc_color_list.append(acc_col)\n",
    "    loss_color_list.append(loss_col)\n",
    "results[\"acc_color\"] =[x for x in acc_color_list]\n",
    "results[\"loss_color\"] =[x for x in loss_color_list]               \n",
    "               \n"
   ]
  },
  {
   "cell_type": "code",
   "execution_count": 588,
   "metadata": {},
   "outputs": [
    {
     "data": {
      "text/html": [
       "<div>\n",
       "<style scoped>\n",
       "    .dataframe tbody tr th:only-of-type {\n",
       "        vertical-align: middle;\n",
       "    }\n",
       "\n",
       "    .dataframe tbody tr th {\n",
       "        vertical-align: top;\n",
       "    }\n",
       "\n",
       "    .dataframe thead th {\n",
       "        text-align: right;\n",
       "    }\n",
       "</style>\n",
       "<table border=\"1\" class=\"dataframe\">\n",
       "  <thead>\n",
       "    <tr style=\"text-align: right;\">\n",
       "      <th></th>\n",
       "      <th>regularizer_rate</th>\n",
       "      <th>acc_color</th>\n",
       "    </tr>\n",
       "  </thead>\n",
       "  <tbody>\n",
       "    <tr>\n",
       "      <th>5</th>\n",
       "      <td>0.0</td>\n",
       "      <td>71.69</td>\n",
       "    </tr>\n",
       "    <tr>\n",
       "      <th>1</th>\n",
       "      <td>0.1</td>\n",
       "      <td>51.16</td>\n",
       "    </tr>\n",
       "    <tr>\n",
       "      <th>4</th>\n",
       "      <td>1.0</td>\n",
       "      <td>58.46</td>\n",
       "    </tr>\n",
       "    <tr>\n",
       "      <th>6</th>\n",
       "      <td>10.0</td>\n",
       "      <td>14.55</td>\n",
       "    </tr>\n",
       "    <tr>\n",
       "      <th>0</th>\n",
       "      <td>100.0</td>\n",
       "      <td>40.10</td>\n",
       "    </tr>\n",
       "    <tr>\n",
       "      <th>3</th>\n",
       "      <td>200.0</td>\n",
       "      <td>39.52</td>\n",
       "    </tr>\n",
       "    <tr>\n",
       "      <th>2</th>\n",
       "      <td>300.0</td>\n",
       "      <td>24.66</td>\n",
       "    </tr>\n",
       "    <tr>\n",
       "      <th>7</th>\n",
       "      <td>500.0</td>\n",
       "      <td>49.86</td>\n",
       "    </tr>\n",
       "  </tbody>\n",
       "</table>\n",
       "</div>"
      ],
      "text/plain": [
       "   regularizer_rate  acc_color\n",
       "5               0.0      71.69\n",
       "1               0.1      51.16\n",
       "4               1.0      58.46\n",
       "6              10.0      14.55\n",
       "0             100.0      40.10\n",
       "3             200.0      39.52\n",
       "2             300.0      24.66\n",
       "7             500.0      49.86"
      ]
     },
     "execution_count": 588,
     "metadata": {},
     "output_type": "execute_result"
    }
   ],
   "source": [
    "results[['regularizer_rate',\"acc_color\"]].sort_values(by = ['regularizer_rate'])"
   ]
  },
  {
   "cell_type": "code",
   "execution_count": null,
   "metadata": {},
   "outputs": [],
   "source": []
  }
 ],
 "metadata": {
  "kernelspec": {
   "display_name": "Python (gpu_usage)",
   "language": "python",
   "name": "gpu_usage"
  },
  "language_info": {
   "codemirror_mode": {
    "name": "ipython",
    "version": 3
   },
   "file_extension": ".py",
   "mimetype": "text/x-python",
   "name": "python",
   "nbconvert_exporter": "python",
   "pygments_lexer": "ipython3",
   "version": "3.6.6"
  }
 },
 "nbformat": 4,
 "nbformat_minor": 2
}
