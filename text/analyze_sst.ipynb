{
 "cells": [
  {
   "cell_type": "markdown",
   "metadata": {},
   "source": [
    "Looking at a decoy SST dataset - for training data, a word indicating the class (positive or negative) was inserted into the sentences. "
   ]
  },
  {
   "cell_type": "code",
   "execution_count": 1,
   "metadata": {},
   "outputs": [],
   "source": [
    "import os\n",
    "from os.path import join as oj\n",
    "import sys, time\n",
    "# sys.path.insert(1, oj(sys.path[0], '..'))  # insert parent path\n",
    "import numpy as np\n",
    "import matplotlib.pyplot as plt\n",
    "from tqdm import tqdm\n",
    "from copy import deepcopy\n",
    "import pickle as pkl\n",
    "import pandas as pd\n",
    "from os.path import join\n",
    "import torch\n",
    "import torch\n",
    "import numpy as np\n",
    "import seaborn as sns\n",
    "import matplotlib.pyplot as plt\n",
    "import seaborn as sns\n",
    "sns.set()\n",
    "%matplotlib inline"
   ]
  },
  {
   "cell_type": "code",
   "execution_count": 2,
   "metadata": {},
   "outputs": [],
   "source": [
    "trained_model_folder = '../models/SST'\n",
    "fnames = sorted([oj(trained_model_folder, fname) for fname in os.listdir(trained_model_folder)]) \n",
    "results_list = [pd.Series(pkl.load(open(fname, \"rb\"))) for fname in (fnames)] "
   ]
  },
  {
   "cell_type": "code",
   "execution_count": 3,
   "metadata": {},
   "outputs": [],
   "source": [
    "\n",
    "results = pd.concat(results_list, axis=1).T.infer_objects() # pandas dataframe w/ hyperparams and weights stored\n",
    "# results = results[results.bias == 'Genderbias']\n",
    "# results = results[results.bias == 'Article']\n",
    "# results = results[results.bias == 'Decoy']"
   ]
  },
  {
   "cell_type": "code",
   "execution_count": 4,
   "metadata": {},
   "outputs": [],
   "source": [
    "\n",
    "results[\"Test Accuracy\"] = [int(max(x)) for x in results[\"accs_test\"]] \n",
    "results[\"final_cd\"] = [min(x) for x in results[\"explanation_divergence\"]]\n",
    "results[\"final_test_loss\"] = [min(x) for x in results[\"losses_test\"]]\n",
    "results[\"final_train_loss\"] = [x[-1] for x in results[\"losses_train\"]]\n"
   ]
  },
  {
   "cell_type": "code",
   "execution_count": 5,
   "metadata": {
    "scrolled": false
   },
   "outputs": [],
   "source": [
    "concise_out = results[['signal_strength', 'Test Accuracy','final_test_loss', 'bias']].groupby(by = ['bias','signal_strength']).mean()"
   ]
  },
  {
   "cell_type": "code",
   "execution_count": 6,
   "metadata": {
    "scrolled": false
   },
   "outputs": [
    {
     "data": {
      "text/html": [
       "<div>\n",
       "<style scoped>\n",
       "    .dataframe tbody tr th:only-of-type {\n",
       "        vertical-align: middle;\n",
       "    }\n",
       "\n",
       "    .dataframe tbody tr th {\n",
       "        vertical-align: top;\n",
       "    }\n",
       "\n",
       "    .dataframe thead th {\n",
       "        text-align: right;\n",
       "    }\n",
       "</style>\n",
       "<table border=\"1\" class=\"dataframe\">\n",
       "  <thead>\n",
       "    <tr style=\"text-align: right;\">\n",
       "      <th></th>\n",
       "      <th></th>\n",
       "      <th>Test Accuracy</th>\n",
       "      <th>final_test_loss</th>\n",
       "    </tr>\n",
       "    <tr>\n",
       "      <th>bias</th>\n",
       "      <th>signal_strength</th>\n",
       "      <th></th>\n",
       "      <th></th>\n",
       "    </tr>\n",
       "  </thead>\n",
       "  <tbody>\n",
       "    <tr>\n",
       "      <th rowspan=\"7\" valign=\"top\">Article</th>\n",
       "      <th>0.0</th>\n",
       "      <td>57.800000</td>\n",
       "      <td>1.268143</td>\n",
       "    </tr>\n",
       "    <tr>\n",
       "      <th>100.0</th>\n",
       "      <td>65.000000</td>\n",
       "      <td>0.683735</td>\n",
       "    </tr>\n",
       "    <tr>\n",
       "      <th>200.0</th>\n",
       "      <td>67.200000</td>\n",
       "      <td>0.601965</td>\n",
       "    </tr>\n",
       "    <tr>\n",
       "      <th>300.0</th>\n",
       "      <td>66.600000</td>\n",
       "      <td>0.622583</td>\n",
       "    </tr>\n",
       "    <tr>\n",
       "      <th>400.0</th>\n",
       "      <td>67.000000</td>\n",
       "      <td>0.633533</td>\n",
       "    </tr>\n",
       "    <tr>\n",
       "      <th>500.0</th>\n",
       "      <td>68.200000</td>\n",
       "      <td>0.587799</td>\n",
       "    </tr>\n",
       "    <tr>\n",
       "      <th>600.0</th>\n",
       "      <td>67.800000</td>\n",
       "      <td>0.566828</td>\n",
       "    </tr>\n",
       "    <tr>\n",
       "      <th rowspan=\"7\" valign=\"top\">Decoy</th>\n",
       "      <th>0.0</th>\n",
       "      <td>56.600000</td>\n",
       "      <td>1.175293</td>\n",
       "    </tr>\n",
       "    <tr>\n",
       "      <th>100.0</th>\n",
       "      <td>67.000000</td>\n",
       "      <td>0.613578</td>\n",
       "    </tr>\n",
       "    <tr>\n",
       "      <th>200.0</th>\n",
       "      <td>71.400000</td>\n",
       "      <td>0.590073</td>\n",
       "    </tr>\n",
       "    <tr>\n",
       "      <th>300.0</th>\n",
       "      <td>71.600000</td>\n",
       "      <td>0.517029</td>\n",
       "    </tr>\n",
       "    <tr>\n",
       "      <th>400.0</th>\n",
       "      <td>74.600000</td>\n",
       "      <td>0.485255</td>\n",
       "    </tr>\n",
       "    <tr>\n",
       "      <th>500.0</th>\n",
       "      <td>73.600000</td>\n",
       "      <td>0.520694</td>\n",
       "    </tr>\n",
       "    <tr>\n",
       "      <th>600.0</th>\n",
       "      <td>75.400000</td>\n",
       "      <td>0.468919</td>\n",
       "    </tr>\n",
       "    <tr>\n",
       "      <th rowspan=\"7\" valign=\"top\">Genderbias</th>\n",
       "      <th>0.0</th>\n",
       "      <td>64.285714</td>\n",
       "      <td>0.961213</td>\n",
       "    </tr>\n",
       "    <tr>\n",
       "      <th>100.0</th>\n",
       "      <td>74.600000</td>\n",
       "      <td>0.673706</td>\n",
       "    </tr>\n",
       "    <tr>\n",
       "      <th>200.0</th>\n",
       "      <td>76.000000</td>\n",
       "      <td>0.634726</td>\n",
       "    </tr>\n",
       "    <tr>\n",
       "      <th>300.0</th>\n",
       "      <td>76.000000</td>\n",
       "      <td>0.595987</td>\n",
       "    </tr>\n",
       "    <tr>\n",
       "      <th>400.0</th>\n",
       "      <td>76.600000</td>\n",
       "      <td>0.578649</td>\n",
       "    </tr>\n",
       "    <tr>\n",
       "      <th>500.0</th>\n",
       "      <td>78.000000</td>\n",
       "      <td>0.588805</td>\n",
       "    </tr>\n",
       "    <tr>\n",
       "      <th>600.0</th>\n",
       "      <td>75.800000</td>\n",
       "      <td>0.594010</td>\n",
       "    </tr>\n",
       "  </tbody>\n",
       "</table>\n",
       "</div>"
      ],
      "text/plain": [
       "                            Test Accuracy  final_test_loss\n",
       "bias       signal_strength                                \n",
       "Article    0.0                  57.800000         1.268143\n",
       "           100.0                65.000000         0.683735\n",
       "           200.0                67.200000         0.601965\n",
       "           300.0                66.600000         0.622583\n",
       "           400.0                67.000000         0.633533\n",
       "           500.0                68.200000         0.587799\n",
       "           600.0                67.800000         0.566828\n",
       "Decoy      0.0                  56.600000         1.175293\n",
       "           100.0                67.000000         0.613578\n",
       "           200.0                71.400000         0.590073\n",
       "           300.0                71.600000         0.517029\n",
       "           400.0                74.600000         0.485255\n",
       "           500.0                73.600000         0.520694\n",
       "           600.0                75.400000         0.468919\n",
       "Genderbias 0.0                  64.285714         0.961213\n",
       "           100.0                74.600000         0.673706\n",
       "           200.0                76.000000         0.634726\n",
       "           300.0                76.000000         0.595987\n",
       "           400.0                76.600000         0.578649\n",
       "           500.0                78.000000         0.588805\n",
       "           600.0                75.800000         0.594010"
      ]
     },
     "execution_count": 6,
     "metadata": {},
     "output_type": "execute_result"
    }
   ],
   "source": [
    "concise_out"
   ]
  },
  {
   "cell_type": "code",
   "execution_count": 28,
   "metadata": {},
   "outputs": [
    {
     "data": {
      "image/png": "[encoded data removed]",
      "text/plain": [
       "<matplotlib.figure.Figure at 0x7f92e53b2b00>"
      ]
     },
     "metadata": {
      "needs_background": "light"
     },
     "output_type": "display_data"
    }
   ],
   "source": [
    "fig, axs = plt.subplots(ncols = 3, figsize = (15,5))\n",
    "sns.lineplot(x ='signal_strength' , y='Test Accuracy', data = results[results.bias == \"Decoy\"] , ax = axs[0] );\n",
    "sns.lineplot(x ='signal_strength' , y='Test Accuracy', data = results[results.bias == \"Article\"]   , ax = axs[1]);\n",
    "sns.lineplot(x ='signal_strength' , y='Test Accuracy', data = results[results.bias == \"Genderbias\"]   , ax = axs[2]);\n",
    "axs[0].set_title(\"Decoy\")\n",
    "axs[1].set_title(\"Article\")\n",
    "axs[2].set_title(\"Genderbias\")\n",
    "plt.ylim(50, 85)\n",
    "plot.set_xlabel(\"Regularization strength\")\n",
    "axs[0].set_ylabel(\"Test Accuracy\")\n",
    "plot.set_title(\"Regularizing with cd explanations\");\n"
   ]
  },
  {
   "cell_type": "code",
   "execution_count": null,
   "metadata": {},
   "outputs": [],
   "source": []
  }
 ],
 "metadata": {
  "kernelspec": {
   "display_name": "Python 3",
   "language": "python",
   "name": "python3"
  },
  "language_info": {
   "codemirror_mode": {
    "name": "ipython",
    "version": 3
   },
   "file_extension": ".py",
   "mimetype": "text/x-python",
   "name": "python",
   "nbconvert_exporter": "python",
   "pygments_lexer": "ipython3",
   "version": "3.6.6"
  }
 },
 "nbformat": 4,
 "nbformat_minor": 2
}
